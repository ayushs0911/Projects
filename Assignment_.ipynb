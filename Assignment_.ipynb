{
  "nbformat": 4,
  "nbformat_minor": 0,
  "metadata": {
    "colab": {
      "provenance": [],
      "authorship_tag": "ABX9TyPGud+uo2un4KNXTJIjO/ft",
      "include_colab_link": true
    },
    "kernelspec": {
      "name": "python3",
      "display_name": "Python 3"
    },
    "language_info": {
      "name": "python"
    },
    "gpuClass": "standard"
  },
  "cells": [
    {
      "cell_type": "markdown",
      "metadata": {
        "id": "view-in-github",
        "colab_type": "text"
      },
      "source": [
        "<a href=\"https://colab.research.google.com/github/ayushs0911/Projects/blob/main/Assignment_.ipynb\" target=\"_parent\"><img src=\"https://colab.research.google.com/assets/colab-badge.svg\" alt=\"Open In Colab\"/></a>"
      ]
    },
    {
      "cell_type": "markdown",
      "source": [
        "#Problem: Lead Scoring Model\n",
        "\n",
        "Selling something is not an easy task. A business might have many potential customers, commonly referred as leads, but not enough resources to cater them all. Even most of the leads won’t turn into actual bookings. So there is a need for a system that prioritises the leads, and sorts them on the basis of a score, referred to here as lead score. So whenever a new lead is generated, this system analyses the features of the lead and gives it a score that correlates with chances of it being converted into booking. Such ranking of potential customers not only helps in saving time but also helps in increasing the conversion rate by letting the sales team figure out what leads to spend time on.\n",
        "\n",
        "\n",
        "Here you have a dataset of leads with their set of features and their status. You have to build a ML model that predicts the lead score as an OUTPUT on the basis of the INPUT set of features. This lead score will range from 0-100, so more the lead score means more chances of conversion of lead to WON.\n",
        "\n",
        "\n",
        "- NOTE: The leads with STATUS other than ‘WON’ or ‘LOST’ can be dropped during training.\n",
        "- NOTE: Treat all columns as CATEGORICAL columns\n",
        "NOTE: \n",
        "This '9b2d5b4678781e53038e91ea5324530a03f27dc1d0e5f6c9bc9d493a23be9de0' represents NaN and could be present in more than one column.\n",
        "\n",
        "\n",
        "Steps should be:\n",
        "- Data Cleaning ( including Feature Selection)\n",
        "- Training ( on Y percent of data)\n",
        "- Testing ( on (100-Y) percent of data)\n",
        "- Evaluate the performance using metrics such as accuracy, precision, recall and F1-score.\n"
      ],
      "metadata": {
        "id": "Bw-05-DMACa6"
      }
    },
    {
      "cell_type": "code",
      "source": [
        "import pandas as pd \n",
        "import numpy as np\n",
        "import seaborn as sns \n",
        "import matplotlib.pyplot as plt"
      ],
      "metadata": {
        "id": "GaNPYhqgAekg"
      },
      "execution_count": 2,
      "outputs": []
    },
    {
      "cell_type": "code",
      "source": [
        "import warnings\n",
        "warnings.filterwarnings('ignore')\n"
      ],
      "metadata": {
        "id": "5fSdJX0aYbeh"
      },
      "execution_count": 3,
      "outputs": []
    },
    {
      "cell_type": "code",
      "source": [
        "#importing dataset from google drive\n",
        "from google.colab import drive\n",
        "drive.mount('/content/drive')\n",
        "     "
      ],
      "metadata": {
        "colab": {
          "base_uri": "https://localhost:8080/"
        },
        "id": "_TrlAX4AAGzr",
        "outputId": "06432101-f227-4628-cee8-626164c2656d"
      },
      "execution_count": 4,
      "outputs": [
        {
          "output_type": "stream",
          "name": "stdout",
          "text": [
            "Mounted at /content/drive\n"
          ]
        }
      ]
    },
    {
      "cell_type": "code",
      "source": [
        "df = pd.read_csv('/content/drive/MyDrive/Datasets/Data_Science_Internship - Dump.csv')\n"
      ],
      "metadata": {
        "id": "WdwKwTiPAKK4"
      },
      "execution_count": 5,
      "outputs": []
    },
    {
      "cell_type": "markdown",
      "source": [
        "### Taking a Quick look at data structure "
      ],
      "metadata": {
        "id": "ufRfn3gYA1N8"
      }
    },
    {
      "cell_type": "code",
      "source": [
        "df.replace(\n",
        "    to_replace=['9b2d5b4678781e53038e91ea5324530a03f27dc1d0e5f6c9bc9d493a23be9de0'],\n",
        "    value='NaN',\n",
        "    inplace=True\n",
        ")"
      ],
      "metadata": {
        "id": "29aVnerZBv08"
      },
      "execution_count": 6,
      "outputs": []
    },
    {
      "cell_type": "code",
      "source": [
        "df.head()"
      ],
      "metadata": {
        "colab": {
          "base_uri": "https://localhost:8080/",
          "height": 391
        },
        "id": "9MwNbYI_AdaR",
        "outputId": "b2168485-a4c2-4578-d1cd-efa77c0226c4"
      },
      "execution_count": 7,
      "outputs": [
        {
          "output_type": "execute_result",
          "data": {
            "text/plain": [
              "   Unnamed: 0                                           Agent_id status  \\\n",
              "0           0  1deba9e96f404694373de9749ddd1ca8aa7bb823145a6f...   LOST   \n",
              "1           1  299ae77a4ef350ae0dd37d6bba1c002d03444fb1edb236...   LOST   \n",
              "2           2  c213697430c006013012dd2aca82dd9732aa0a1a6bca13...   LOST   \n",
              "3           3  eac9815a500f908736d303e23aa227f0957177b0e6756b...   LOST   \n",
              "4           4  1deba9e96f404694373de9749ddd1ca8aa7bb823145a6f...   LOST   \n",
              "\n",
              "      lost_reason                budget                                lease  \\\n",
              "0  Not responding                   NaN                                  NaN   \n",
              "1      Low budget                   NaN                                  NaN   \n",
              "2  Not responding  £121 - £180 Per Week  Full Year Course Stay 40 - 44 weeks   \n",
              "3      Low budget                   0-0                                    0   \n",
              "4       Junk lead                   NaN                                  NaN   \n",
              "\n",
              "     movein                                             source  \\\n",
              "0       NaN                                                NaN   \n",
              "1       NaN                                                NaN   \n",
              "2  31/08/22  7aae3e886e89fc1187a5c47d6cea1c22998ee610ade1f2...   \n",
              "3       NaN  ba2d0a29556ac20f86f45e4543c0825428cba33fd7a9ea...   \n",
              "4       NaN                                                NaN   \n",
              "\n",
              "                                         source_city  \\\n",
              "0                                                NaN   \n",
              "1                                                NaN   \n",
              "2  9b8cc3c63cdf447e463c11544924bf027945cbd29675f7...   \n",
              "3  a5f0d2d08eb0592087e3a3a2f9c1ba2c67cc30f2efd2bd...   \n",
              "4                                                NaN   \n",
              "\n",
              "                                      source_country  \\\n",
              "0                                                NaN   \n",
              "1                                                NaN   \n",
              "2  e09e10e67812e9d236ad900e5d46b4308fc62f5d69446a...   \n",
              "3  e09e10e67812e9d236ad900e5d46b4308fc62f5d69446a...   \n",
              "4                                                NaN   \n",
              "\n",
              "                                          utm_source  \\\n",
              "0  3d59f7548e1af2151b64135003ce63c0a484c26b9b8b16...   \n",
              "1  3d59f7548e1af2151b64135003ce63c0a484c26b9b8b16...   \n",
              "2  bbdefa2950f49882f295b1285d4fa9dec45fc4144bfb07...   \n",
              "3  bbdefa2950f49882f295b1285d4fa9dec45fc4144bfb07...   \n",
              "4  3d59f7548e1af2151b64135003ce63c0a484c26b9b8b16...   \n",
              "\n",
              "                                          utm_medium  \\\n",
              "0  268ad70eb5bc4737a2ae28162cbca30118cc94520e49ef...   \n",
              "1  268ad70eb5bc4737a2ae28162cbca30118cc94520e49ef...   \n",
              "2  09076eb7665d1fb9389c7c4517fee0b00e43092eb34821...   \n",
              "3  09076eb7665d1fb9389c7c4517fee0b00e43092eb34821...   \n",
              "4  268ad70eb5bc4737a2ae28162cbca30118cc94520e49ef...   \n",
              "\n",
              "                                            des_city  \\\n",
              "0  ecc0e7dc084f141b29479058967d0bc07dee25d9690a98...   \n",
              "1  5372372f3bf5896820cb2819300c3e681820d82c6efc54...   \n",
              "2  11ab03a1a8c367191355c152f39fe28cae5e426fce49ef...   \n",
              "3  19372fa44c57a01c37a5a8418779ca3d99b0b59731fb35...   \n",
              "4                                                NaN   \n",
              "\n",
              "                                         des_country room_type  \\\n",
              "0  8d23a6e37e0a6431a8f1b43a91026dcff51170a89a6512...       NaN   \n",
              "1  8d23a6e37e0a6431a8f1b43a91026dcff51170a89a6512...       NaN   \n",
              "2  8d23a6e37e0a6431a8f1b43a91026dcff51170a89a6512...   Ensuite   \n",
              "3  8d23a6e37e0a6431a8f1b43a91026dcff51170a89a6512...       NaN   \n",
              "4                                                NaN       NaN   \n",
              "\n",
              "                                             lead_id  \n",
              "0  cd5dc0d9393f3980d11d4ba6f88f8110c2b7a7f7796307...  \n",
              "1  b94693673a5f7178d1b114e4004ad52377d3244dd24a3d...  \n",
              "2  96ea4e2bf04496c044745938c0299c264c3f4ba079e572...  \n",
              "3  1d2b34d8add02a182a4129023766ca4585a8ddced0e5b3...  \n",
              "4  fc10fffd29cfbe93c55158fb47752a7501c211d253468c...  "
            ],
            "text/html": [
              "\n",
              "  <div id=\"df-edfbdac0-b06a-453d-b3bd-0858f27d8e62\">\n",
              "    <div class=\"colab-df-container\">\n",
              "      <div>\n",
              "<style scoped>\n",
              "    .dataframe tbody tr th:only-of-type {\n",
              "        vertical-align: middle;\n",
              "    }\n",
              "\n",
              "    .dataframe tbody tr th {\n",
              "        vertical-align: top;\n",
              "    }\n",
              "\n",
              "    .dataframe thead th {\n",
              "        text-align: right;\n",
              "    }\n",
              "</style>\n",
              "<table border=\"1\" class=\"dataframe\">\n",
              "  <thead>\n",
              "    <tr style=\"text-align: right;\">\n",
              "      <th></th>\n",
              "      <th>Unnamed: 0</th>\n",
              "      <th>Agent_id</th>\n",
              "      <th>status</th>\n",
              "      <th>lost_reason</th>\n",
              "      <th>budget</th>\n",
              "      <th>lease</th>\n",
              "      <th>movein</th>\n",
              "      <th>source</th>\n",
              "      <th>source_city</th>\n",
              "      <th>source_country</th>\n",
              "      <th>utm_source</th>\n",
              "      <th>utm_medium</th>\n",
              "      <th>des_city</th>\n",
              "      <th>des_country</th>\n",
              "      <th>room_type</th>\n",
              "      <th>lead_id</th>\n",
              "    </tr>\n",
              "  </thead>\n",
              "  <tbody>\n",
              "    <tr>\n",
              "      <th>0</th>\n",
              "      <td>0</td>\n",
              "      <td>1deba9e96f404694373de9749ddd1ca8aa7bb823145a6f...</td>\n",
              "      <td>LOST</td>\n",
              "      <td>Not responding</td>\n",
              "      <td>NaN</td>\n",
              "      <td>NaN</td>\n",
              "      <td>NaN</td>\n",
              "      <td>NaN</td>\n",
              "      <td>NaN</td>\n",
              "      <td>NaN</td>\n",
              "      <td>3d59f7548e1af2151b64135003ce63c0a484c26b9b8b16...</td>\n",
              "      <td>268ad70eb5bc4737a2ae28162cbca30118cc94520e49ef...</td>\n",
              "      <td>ecc0e7dc084f141b29479058967d0bc07dee25d9690a98...</td>\n",
              "      <td>8d23a6e37e0a6431a8f1b43a91026dcff51170a89a6512...</td>\n",
              "      <td>NaN</td>\n",
              "      <td>cd5dc0d9393f3980d11d4ba6f88f8110c2b7a7f7796307...</td>\n",
              "    </tr>\n",
              "    <tr>\n",
              "      <th>1</th>\n",
              "      <td>1</td>\n",
              "      <td>299ae77a4ef350ae0dd37d6bba1c002d03444fb1edb236...</td>\n",
              "      <td>LOST</td>\n",
              "      <td>Low budget</td>\n",
              "      <td>NaN</td>\n",
              "      <td>NaN</td>\n",
              "      <td>NaN</td>\n",
              "      <td>NaN</td>\n",
              "      <td>NaN</td>\n",
              "      <td>NaN</td>\n",
              "      <td>3d59f7548e1af2151b64135003ce63c0a484c26b9b8b16...</td>\n",
              "      <td>268ad70eb5bc4737a2ae28162cbca30118cc94520e49ef...</td>\n",
              "      <td>5372372f3bf5896820cb2819300c3e681820d82c6efc54...</td>\n",
              "      <td>8d23a6e37e0a6431a8f1b43a91026dcff51170a89a6512...</td>\n",
              "      <td>NaN</td>\n",
              "      <td>b94693673a5f7178d1b114e4004ad52377d3244dd24a3d...</td>\n",
              "    </tr>\n",
              "    <tr>\n",
              "      <th>2</th>\n",
              "      <td>2</td>\n",
              "      <td>c213697430c006013012dd2aca82dd9732aa0a1a6bca13...</td>\n",
              "      <td>LOST</td>\n",
              "      <td>Not responding</td>\n",
              "      <td>£121 - £180 Per Week</td>\n",
              "      <td>Full Year Course Stay 40 - 44 weeks</td>\n",
              "      <td>31/08/22</td>\n",
              "      <td>7aae3e886e89fc1187a5c47d6cea1c22998ee610ade1f2...</td>\n",
              "      <td>9b8cc3c63cdf447e463c11544924bf027945cbd29675f7...</td>\n",
              "      <td>e09e10e67812e9d236ad900e5d46b4308fc62f5d69446a...</td>\n",
              "      <td>bbdefa2950f49882f295b1285d4fa9dec45fc4144bfb07...</td>\n",
              "      <td>09076eb7665d1fb9389c7c4517fee0b00e43092eb34821...</td>\n",
              "      <td>11ab03a1a8c367191355c152f39fe28cae5e426fce49ef...</td>\n",
              "      <td>8d23a6e37e0a6431a8f1b43a91026dcff51170a89a6512...</td>\n",
              "      <td>Ensuite</td>\n",
              "      <td>96ea4e2bf04496c044745938c0299c264c3f4ba079e572...</td>\n",
              "    </tr>\n",
              "    <tr>\n",
              "      <th>3</th>\n",
              "      <td>3</td>\n",
              "      <td>eac9815a500f908736d303e23aa227f0957177b0e6756b...</td>\n",
              "      <td>LOST</td>\n",
              "      <td>Low budget</td>\n",
              "      <td>0-0</td>\n",
              "      <td>0</td>\n",
              "      <td>NaN</td>\n",
              "      <td>ba2d0a29556ac20f86f45e4543c0825428cba33fd7a9ea...</td>\n",
              "      <td>a5f0d2d08eb0592087e3a3a2f9c1ba2c67cc30f2efd2bd...</td>\n",
              "      <td>e09e10e67812e9d236ad900e5d46b4308fc62f5d69446a...</td>\n",
              "      <td>bbdefa2950f49882f295b1285d4fa9dec45fc4144bfb07...</td>\n",
              "      <td>09076eb7665d1fb9389c7c4517fee0b00e43092eb34821...</td>\n",
              "      <td>19372fa44c57a01c37a5a8418779ca3d99b0b59731fb35...</td>\n",
              "      <td>8d23a6e37e0a6431a8f1b43a91026dcff51170a89a6512...</td>\n",
              "      <td>NaN</td>\n",
              "      <td>1d2b34d8add02a182a4129023766ca4585a8ddced0e5b3...</td>\n",
              "    </tr>\n",
              "    <tr>\n",
              "      <th>4</th>\n",
              "      <td>4</td>\n",
              "      <td>1deba9e96f404694373de9749ddd1ca8aa7bb823145a6f...</td>\n",
              "      <td>LOST</td>\n",
              "      <td>Junk lead</td>\n",
              "      <td>NaN</td>\n",
              "      <td>NaN</td>\n",
              "      <td>NaN</td>\n",
              "      <td>NaN</td>\n",
              "      <td>NaN</td>\n",
              "      <td>NaN</td>\n",
              "      <td>3d59f7548e1af2151b64135003ce63c0a484c26b9b8b16...</td>\n",
              "      <td>268ad70eb5bc4737a2ae28162cbca30118cc94520e49ef...</td>\n",
              "      <td>NaN</td>\n",
              "      <td>NaN</td>\n",
              "      <td>NaN</td>\n",
              "      <td>fc10fffd29cfbe93c55158fb47752a7501c211d253468c...</td>\n",
              "    </tr>\n",
              "  </tbody>\n",
              "</table>\n",
              "</div>\n",
              "      <button class=\"colab-df-convert\" onclick=\"convertToInteractive('df-edfbdac0-b06a-453d-b3bd-0858f27d8e62')\"\n",
              "              title=\"Convert this dataframe to an interactive table.\"\n",
              "              style=\"display:none;\">\n",
              "        \n",
              "  <svg xmlns=\"http://www.w3.org/2000/svg\" height=\"24px\"viewBox=\"0 0 24 24\"\n",
              "       width=\"24px\">\n",
              "    <path d=\"M0 0h24v24H0V0z\" fill=\"none\"/>\n",
              "    <path d=\"M18.56 5.44l.94 2.06.94-2.06 2.06-.94-2.06-.94-.94-2.06-.94 2.06-2.06.94zm-11 1L8.5 8.5l.94-2.06 2.06-.94-2.06-.94L8.5 2.5l-.94 2.06-2.06.94zm10 10l.94 2.06.94-2.06 2.06-.94-2.06-.94-.94-2.06-.94 2.06-2.06.94z\"/><path d=\"M17.41 7.96l-1.37-1.37c-.4-.4-.92-.59-1.43-.59-.52 0-1.04.2-1.43.59L10.3 9.45l-7.72 7.72c-.78.78-.78 2.05 0 2.83L4 21.41c.39.39.9.59 1.41.59.51 0 1.02-.2 1.41-.59l7.78-7.78 2.81-2.81c.8-.78.8-2.07 0-2.86zM5.41 20L4 18.59l7.72-7.72 1.47 1.35L5.41 20z\"/>\n",
              "  </svg>\n",
              "      </button>\n",
              "      \n",
              "  <style>\n",
              "    .colab-df-container {\n",
              "      display:flex;\n",
              "      flex-wrap:wrap;\n",
              "      gap: 12px;\n",
              "    }\n",
              "\n",
              "    .colab-df-convert {\n",
              "      background-color: #E8F0FE;\n",
              "      border: none;\n",
              "      border-radius: 50%;\n",
              "      cursor: pointer;\n",
              "      display: none;\n",
              "      fill: #1967D2;\n",
              "      height: 32px;\n",
              "      padding: 0 0 0 0;\n",
              "      width: 32px;\n",
              "    }\n",
              "\n",
              "    .colab-df-convert:hover {\n",
              "      background-color: #E2EBFA;\n",
              "      box-shadow: 0px 1px 2px rgba(60, 64, 67, 0.3), 0px 1px 3px 1px rgba(60, 64, 67, 0.15);\n",
              "      fill: #174EA6;\n",
              "    }\n",
              "\n",
              "    [theme=dark] .colab-df-convert {\n",
              "      background-color: #3B4455;\n",
              "      fill: #D2E3FC;\n",
              "    }\n",
              "\n",
              "    [theme=dark] .colab-df-convert:hover {\n",
              "      background-color: #434B5C;\n",
              "      box-shadow: 0px 1px 3px 1px rgba(0, 0, 0, 0.15);\n",
              "      filter: drop-shadow(0px 1px 2px rgba(0, 0, 0, 0.3));\n",
              "      fill: #FFFFFF;\n",
              "    }\n",
              "  </style>\n",
              "\n",
              "      <script>\n",
              "        const buttonEl =\n",
              "          document.querySelector('#df-edfbdac0-b06a-453d-b3bd-0858f27d8e62 button.colab-df-convert');\n",
              "        buttonEl.style.display =\n",
              "          google.colab.kernel.accessAllowed ? 'block' : 'none';\n",
              "\n",
              "        async function convertToInteractive(key) {\n",
              "          const element = document.querySelector('#df-edfbdac0-b06a-453d-b3bd-0858f27d8e62');\n",
              "          const dataTable =\n",
              "            await google.colab.kernel.invokeFunction('convertToInteractive',\n",
              "                                                     [key], {});\n",
              "          if (!dataTable) return;\n",
              "\n",
              "          const docLinkHtml = 'Like what you see? Visit the ' +\n",
              "            '<a target=\"_blank\" href=https://colab.research.google.com/notebooks/data_table.ipynb>data table notebook</a>'\n",
              "            + ' to learn more about interactive tables.';\n",
              "          element.innerHTML = '';\n",
              "          dataTable['output_type'] = 'display_data';\n",
              "          await google.colab.output.renderOutput(dataTable, element);\n",
              "          const docLink = document.createElement('div');\n",
              "          docLink.innerHTML = docLinkHtml;\n",
              "          element.appendChild(docLink);\n",
              "        }\n",
              "      </script>\n",
              "    </div>\n",
              "  </div>\n",
              "  "
            ]
          },
          "metadata": {},
          "execution_count": 7
        }
      ]
    },
    {
      "cell_type": "code",
      "source": [
        "df.info()"
      ],
      "metadata": {
        "colab": {
          "base_uri": "https://localhost:8080/"
        },
        "id": "hIvOAtXjA5lB",
        "outputId": "eda76a50-ff9b-4b9e-fcd7-969f0d330fcf"
      },
      "execution_count": 8,
      "outputs": [
        {
          "output_type": "stream",
          "name": "stdout",
          "text": [
            "<class 'pandas.core.frame.DataFrame'>\n",
            "RangeIndex: 46608 entries, 0 to 46607\n",
            "Data columns (total 16 columns):\n",
            " #   Column          Non-Null Count  Dtype \n",
            "---  ------          --------------  ----- \n",
            " 0   Unnamed: 0      46608 non-null  int64 \n",
            " 1   Agent_id        46608 non-null  object\n",
            " 2   status          46608 non-null  object\n",
            " 3   lost_reason     43244 non-null  object\n",
            " 4   budget          42908 non-null  object\n",
            " 5   lease           44267 non-null  object\n",
            " 6   movein          32970 non-null  object\n",
            " 7   source          46608 non-null  object\n",
            " 8   source_city     46608 non-null  object\n",
            " 9   source_country  46608 non-null  object\n",
            " 10  utm_source      46608 non-null  object\n",
            " 11  utm_medium      46608 non-null  object\n",
            " 12  des_city        46608 non-null  object\n",
            " 13  des_country     46608 non-null  object\n",
            " 14  room_type       23061 non-null  object\n",
            " 15  lead_id         46608 non-null  object\n",
            "dtypes: int64(1), object(15)\n",
            "memory usage: 5.7+ MB\n"
          ]
        }
      ]
    },
    {
      "cell_type": "markdown",
      "source": [
        "##Data Cleaning "
      ],
      "metadata": {
        "id": "0yfM6KO-HVMr"
      }
    },
    {
      "cell_type": "code",
      "source": [
        "sns.heatmap(df.isnull(), yticklabels = False, cbar= False, cmap = 'Blues')\n"
      ],
      "metadata": {
        "colab": {
          "base_uri": "https://localhost:8080/",
          "height": 350
        },
        "id": "ALYycmdHB4uD",
        "outputId": "33e63bb2-db93-48b9-acf6-242e5d2b5c5e"
      },
      "execution_count": 9,
      "outputs": [
        {
          "output_type": "execute_result",
          "data": {
            "text/plain": [
              "<Axes: >"
            ]
          },
          "metadata": {},
          "execution_count": 9
        },
        {
          "output_type": "display_data",
          "data": {
            "text/plain": [
              "<Figure size 432x288 with 1 Axes>"
            ],
            "image/png": "[encoded data removed]"
          },
          "metadata": {
            "needs_background": "light"
          }
        }
      ]
    },
    {
      "cell_type": "markdown",
      "source": [
        "Plenty of missing values, Let's analyse them. "
      ],
      "metadata": {
        "id": "Hdo2S2_MCS87"
      }
    },
    {
      "cell_type": "code",
      "source": [
        "df.isnull().sum()"
      ],
      "metadata": {
        "colab": {
          "base_uri": "https://localhost:8080/"
        },
        "id": "4PORU4voCHWI",
        "outputId": "fe3e1e60-f1da-49bd-8816-e84f3940e64c"
      },
      "execution_count": 10,
      "outputs": [
        {
          "output_type": "execute_result",
          "data": {
            "text/plain": [
              "Unnamed: 0            0\n",
              "Agent_id              0\n",
              "status                0\n",
              "lost_reason        3364\n",
              "budget             3700\n",
              "lease              2341\n",
              "movein            13638\n",
              "source                0\n",
              "source_city           0\n",
              "source_country        0\n",
              "utm_source            0\n",
              "utm_medium            0\n",
              "des_city              0\n",
              "des_country           0\n",
              "room_type         23547\n",
              "lead_id               0\n",
              "dtype: int64"
            ]
          },
          "metadata": {},
          "execution_count": 10
        }
      ]
    },
    {
      "cell_type": "code",
      "source": [
        "df[df['lost_reason'].isnull()]"
      ],
      "metadata": {
        "colab": {
          "base_uri": "https://localhost:8080/",
          "height": 852
        },
        "id": "ogxqwTblCsZA",
        "outputId": "a0ccb077-1ead-4eb8-aabd-e9c90ad38770"
      },
      "execution_count": 11,
      "outputs": [
        {
          "output_type": "execute_result",
          "data": {
            "text/plain": [
              "       Unnamed: 0                                           Agent_id status  \\\n",
              "98             98  c077ad291c7b691b8defba867c1b937f16e878c1f3bdd5...    WON   \n",
              "111           111  44864c96fa1c36602f0d045b268981b6cab638a60fc207...    WON   \n",
              "139           139  59e1dc79a681665177701a504d7d704e1b6e36a4e191f4...    WON   \n",
              "141           141  96ab6152cb421b4d4012a4903c19004608a342a5f7c667...    WON   \n",
              "152           152  53eb7f9dcaa22b09db85547fa158a6893089db596bfdcc...    WON   \n",
              "...           ...                                                ...    ...   \n",
              "46559       46559  4ab75b931e46eda84e381be209b305d1ad8833f230eb24...    WON   \n",
              "46566       46566  44864c96fa1c36602f0d045b268981b6cab638a60fc207...    WON   \n",
              "46570       46570  96ab6152cb421b4d4012a4903c19004608a342a5f7c667...    WON   \n",
              "46586       46586  1dc43dab243ecfa3cc71b4fbc230ffd813798c72d1d551...    WON   \n",
              "46592       46592  c077ad291c7b691b8defba867c1b937f16e878c1f3bdd5...    WON   \n",
              "\n",
              "      lost_reason                budget  \\\n",
              "98            NaN                   109   \n",
              "111           NaN  £121 - £180 Per Week   \n",
              "139           NaN  £181 - £240 Per Week   \n",
              "141           NaN       > 300£ Per Week   \n",
              "152           NaN  £121 - £180 Per Week   \n",
              "...           ...                   ...   \n",
              "46559         NaN                   139   \n",
              "46566         NaN                   179   \n",
              "46570         NaN                   180   \n",
              "46586         NaN  £121 - £180 Per Week   \n",
              "46592         NaN   £60 - £120 Per week   \n",
              "\n",
              "                                            lease    movein  \\\n",
              "98                                             51       NaN   \n",
              "111           Full Year Course Stay 40 - 44 weeks  09/09/22   \n",
              "139           Full Year Course Stay 40 - 44 weeks  29/09/22   \n",
              "141    Complete Education Year Stay 50 - 52 weeks  07/09/22   \n",
              "152           Full Year Course Stay 40 - 44 weeks  31/08/22   \n",
              "...                                           ...       ...   \n",
              "46559                                          42  01/10/22   \n",
              "46566                                          51  10/09/22   \n",
              "46570                                          44  16/09/22   \n",
              "46586  Complete Education Year Stay 50 - 52 weeks  05/09/22   \n",
              "46592         Full Year Course Stay 40 - 44 weeks  12/09/22   \n",
              "\n",
              "                                                  source  \\\n",
              "98     9ba9134a91cfc6b52ac8d480e9ad37896ca4ac216e2d79...   \n",
              "111    7aae3e886e89fc1187a5c47d6cea1c22998ee610ade1f2...   \n",
              "139    7aae3e886e89fc1187a5c47d6cea1c22998ee610ade1f2...   \n",
              "141    7aae3e886e89fc1187a5c47d6cea1c22998ee610ade1f2...   \n",
              "152    7aae3e886e89fc1187a5c47d6cea1c22998ee610ade1f2...   \n",
              "...                                                  ...   \n",
              "46559  9ba9134a91cfc6b52ac8d480e9ad37896ca4ac216e2d79...   \n",
              "46566  9ba9134a91cfc6b52ac8d480e9ad37896ca4ac216e2d79...   \n",
              "46570  9ba9134a91cfc6b52ac8d480e9ad37896ca4ac216e2d79...   \n",
              "46586  7aae3e886e89fc1187a5c47d6cea1c22998ee610ade1f2...   \n",
              "46592  7aae3e886e89fc1187a5c47d6cea1c22998ee610ade1f2...   \n",
              "\n",
              "                                             source_city  \\\n",
              "98     8593b9db65212160979d946950601c26622a219c80f1f1...   \n",
              "111    ef6d625bd287131ad98e4ed57295037bb46e4864f9d6ef...   \n",
              "139    ecc0e7dc084f141b29479058967d0bc07dee25d9690a98...   \n",
              "141    3c1def48af45cb9748302f34e57f2cbeb866de95beb0d2...   \n",
              "152    69f0114003f8a8ec5f99506325f8ca6a5ca237c9fe91ba...   \n",
              "...                                                  ...   \n",
              "46559  f618d9049cbfb9410ad8d47541218cc7a2a9e930750f59...   \n",
              "46566  ac15eb6ea0471bd80c833fa9d4ff9799de32a00b4681b0...   \n",
              "46570  ecc0e7dc084f141b29479058967d0bc07dee25d9690a98...   \n",
              "46586  11ab03a1a8c367191355c152f39fe28cae5e426fce49ef...   \n",
              "46592  777e88b51092d314e2b6b9e523fc4dc2f3281c52df171e...   \n",
              "\n",
              "                                          source_country  \\\n",
              "98     e09e10e67812e9d236ad900e5d46b4308fc62f5d69446a...   \n",
              "111    e09e10e67812e9d236ad900e5d46b4308fc62f5d69446a...   \n",
              "139    e09e10e67812e9d236ad900e5d46b4308fc62f5d69446a...   \n",
              "141    e09e10e67812e9d236ad900e5d46b4308fc62f5d69446a...   \n",
              "152    e09e10e67812e9d236ad900e5d46b4308fc62f5d69446a...   \n",
              "...                                                  ...   \n",
              "46559  e09e10e67812e9d236ad900e5d46b4308fc62f5d69446a...   \n",
              "46566  735b17b54154132f4d5c48eebcabe058b0e5a2953932ad...   \n",
              "46570  e09e10e67812e9d236ad900e5d46b4308fc62f5d69446a...   \n",
              "46586  e09e10e67812e9d236ad900e5d46b4308fc62f5d69446a...   \n",
              "46592  e09e10e67812e9d236ad900e5d46b4308fc62f5d69446a...   \n",
              "\n",
              "                                              utm_source  \\\n",
              "98     bbdefa2950f49882f295b1285d4fa9dec45fc4144bfb07...   \n",
              "111    bbdefa2950f49882f295b1285d4fa9dec45fc4144bfb07...   \n",
              "139    bbdefa2950f49882f295b1285d4fa9dec45fc4144bfb07...   \n",
              "141    bbdefa2950f49882f295b1285d4fa9dec45fc4144bfb07...   \n",
              "152    bbdefa2950f49882f295b1285d4fa9dec45fc4144bfb07...   \n",
              "...                                                  ...   \n",
              "46559  bbdefa2950f49882f295b1285d4fa9dec45fc4144bfb07...   \n",
              "46566  bbdefa2950f49882f295b1285d4fa9dec45fc4144bfb07...   \n",
              "46570  bbdefa2950f49882f295b1285d4fa9dec45fc4144bfb07...   \n",
              "46586  bbdefa2950f49882f295b1285d4fa9dec45fc4144bfb07...   \n",
              "46592  bbdefa2950f49882f295b1285d4fa9dec45fc4144bfb07...   \n",
              "\n",
              "                                              utm_medium  \\\n",
              "98     09076eb7665d1fb9389c7c4517fee0b00e43092eb34821...   \n",
              "111    09076eb7665d1fb9389c7c4517fee0b00e43092eb34821...   \n",
              "139    09076eb7665d1fb9389c7c4517fee0b00e43092eb34821...   \n",
              "141    09076eb7665d1fb9389c7c4517fee0b00e43092eb34821...   \n",
              "152    09076eb7665d1fb9389c7c4517fee0b00e43092eb34821...   \n",
              "...                                                  ...   \n",
              "46559  69f81619d0ef92cbb165a44e76f4f0c284d2aa83c318fa...   \n",
              "46566  69f81619d0ef92cbb165a44e76f4f0c284d2aa83c318fa...   \n",
              "46570  69f81619d0ef92cbb165a44e76f4f0c284d2aa83c318fa...   \n",
              "46586  09076eb7665d1fb9389c7c4517fee0b00e43092eb34821...   \n",
              "46592  09076eb7665d1fb9389c7c4517fee0b00e43092eb34821...   \n",
              "\n",
              "                                                des_city  \\\n",
              "98     acb208d3ac02ab6d5a45120b4187f12bc41a132011fe1c...   \n",
              "111    71b89d8b802ddcc0120ec5352d9c0fe5bde35a3aff101b...   \n",
              "139    acb208d3ac02ab6d5a45120b4187f12bc41a132011fe1c...   \n",
              "141    8593b9db65212160979d946950601c26622a219c80f1f1...   \n",
              "152    11ab03a1a8c367191355c152f39fe28cae5e426fce49ef...   \n",
              "...                                                  ...   \n",
              "46559  8593b9db65212160979d946950601c26622a219c80f1f1...   \n",
              "46566  c384826dfbfce62c3fd99a46984a56fe71546a85c2cb6c...   \n",
              "46570  6c5988c3032fffdad757f9ece1a56029a631825d527001...   \n",
              "46586  19372fa44c57a01c37a5a8418779ca3d99b0b59731fb35...   \n",
              "46592  810c069040f6a9b16fdf976a901755508a87cb0224b169...   \n",
              "\n",
              "                                             des_country     room_type  \\\n",
              "98     8d23a6e37e0a6431a8f1b43a91026dcff51170a89a6512...           NaN   \n",
              "111    8d23a6e37e0a6431a8f1b43a91026dcff51170a89a6512...        Studio   \n",
              "139    8d23a6e37e0a6431a8f1b43a91026dcff51170a89a6512...  Entire Place   \n",
              "141    8d23a6e37e0a6431a8f1b43a91026dcff51170a89a6512...       Ensuite   \n",
              "152    8d23a6e37e0a6431a8f1b43a91026dcff51170a89a6512...  Entire Place   \n",
              "...                                                  ...           ...   \n",
              "46559  8d23a6e37e0a6431a8f1b43a91026dcff51170a89a6512...           NaN   \n",
              "46566  8d23a6e37e0a6431a8f1b43a91026dcff51170a89a6512...           NaN   \n",
              "46570  8d23a6e37e0a6431a8f1b43a91026dcff51170a89a6512...           NaN   \n",
              "46586  8d23a6e37e0a6431a8f1b43a91026dcff51170a89a6512...        Studio   \n",
              "46592  8d23a6e37e0a6431a8f1b43a91026dcff51170a89a6512...       Ensuite   \n",
              "\n",
              "                                                 lead_id  \n",
              "98     b66690fb86da687dda8d0e4be51958aab94e4b595272d7...  \n",
              "111    eab489be32de234eb13f3ef643755451a2c2d876dadae9...  \n",
              "139    adbc799bdd9422ca4083ef3d83389853f1d72280efe25f...  \n",
              "141    aff03877c7a6e8799057e5ad4b82de902487b7c7f30dbf...  \n",
              "152    1c4cb4a47a62cce90db6619f8ddeed9eb2c0a598a6d0ed...  \n",
              "...                                                  ...  \n",
              "46559  c4f2571fb68158cf43193eaaae6241d94652abae4ff953...  \n",
              "46566  f2a5171da297accb58cb0d1ad4480127032153e3437164...  \n",
              "46570  f5f0dcf17a05f003011a264327b0666ddcbc9855dc1882...  \n",
              "46586  b872d8eaf5a329e82b57308671ef177cf67eb594b72b7b...  \n",
              "46592  2dde69fbc6fae52d8fb97a4b8eeb0da2829ab14009f9c4...  \n",
              "\n",
              "[3364 rows x 16 columns]"
            ],
            "text/html": [
              "\n",
              "  <div id=\"df-59cec7c0-cefb-4a66-9817-bb813cce9d79\">\n",
              "    <div class=\"colab-df-container\">\n",
              "      <div>\n",
              "<style scoped>\n",
              "    .dataframe tbody tr th:only-of-type {\n",
              "        vertical-align: middle;\n",
              "    }\n",
              "\n",
              "    .dataframe tbody tr th {\n",
              "        vertical-align: top;\n",
              "    }\n",
              "\n",
              "    .dataframe thead th {\n",
              "        text-align: right;\n",
              "    }\n",
              "</style>\n",
              "<table border=\"1\" class=\"dataframe\">\n",
              "  <thead>\n",
              "    <tr style=\"text-align: right;\">\n",
              "      <th></th>\n",
              "      <th>Unnamed: 0</th>\n",
              "      <th>Agent_id</th>\n",
              "      <th>status</th>\n",
              "      <th>lost_reason</th>\n",
              "      <th>budget</th>\n",
              "      <th>lease</th>\n",
              "      <th>movein</th>\n",
              "      <th>source</th>\n",
              "      <th>source_city</th>\n",
              "      <th>source_country</th>\n",
              "      <th>utm_source</th>\n",
              "      <th>utm_medium</th>\n",
              "      <th>des_city</th>\n",
              "      <th>des_country</th>\n",
              "      <th>room_type</th>\n",
              "      <th>lead_id</th>\n",
              "    </tr>\n",
              "  </thead>\n",
              "  <tbody>\n",
              "    <tr>\n",
              "      <th>98</th>\n",
              "      <td>98</td>\n",
              "      <td>c077ad291c7b691b8defba867c1b937f16e878c1f3bdd5...</td>\n",
              "      <td>WON</td>\n",
              "      <td>NaN</td>\n",
              "      <td>109</td>\n",
              "      <td>51</td>\n",
              "      <td>NaN</td>\n",
              "      <td>9ba9134a91cfc6b52ac8d480e9ad37896ca4ac216e2d79...</td>\n",
              "      <td>8593b9db65212160979d946950601c26622a219c80f1f1...</td>\n",
              "      <td>e09e10e67812e9d236ad900e5d46b4308fc62f5d69446a...</td>\n",
              "      <td>bbdefa2950f49882f295b1285d4fa9dec45fc4144bfb07...</td>\n",
              "      <td>09076eb7665d1fb9389c7c4517fee0b00e43092eb34821...</td>\n",
              "      <td>acb208d3ac02ab6d5a45120b4187f12bc41a132011fe1c...</td>\n",
              "      <td>8d23a6e37e0a6431a8f1b43a91026dcff51170a89a6512...</td>\n",
              "      <td>NaN</td>\n",
              "      <td>b66690fb86da687dda8d0e4be51958aab94e4b595272d7...</td>\n",
              "    </tr>\n",
              "    <tr>\n",
              "      <th>111</th>\n",
              "      <td>111</td>\n",
              "      <td>44864c96fa1c36602f0d045b268981b6cab638a60fc207...</td>\n",
              "      <td>WON</td>\n",
              "      <td>NaN</td>\n",
              "      <td>£121 - £180 Per Week</td>\n",
              "      <td>Full Year Course Stay 40 - 44 weeks</td>\n",
              "      <td>09/09/22</td>\n",
              "      <td>7aae3e886e89fc1187a5c47d6cea1c22998ee610ade1f2...</td>\n",
              "      <td>ef6d625bd287131ad98e4ed57295037bb46e4864f9d6ef...</td>\n",
              "      <td>e09e10e67812e9d236ad900e5d46b4308fc62f5d69446a...</td>\n",
              "      <td>bbdefa2950f49882f295b1285d4fa9dec45fc4144bfb07...</td>\n",
              "      <td>09076eb7665d1fb9389c7c4517fee0b00e43092eb34821...</td>\n",
              "      <td>71b89d8b802ddcc0120ec5352d9c0fe5bde35a3aff101b...</td>\n",
              "      <td>8d23a6e37e0a6431a8f1b43a91026dcff51170a89a6512...</td>\n",
              "      <td>Studio</td>\n",
              "      <td>eab489be32de234eb13f3ef643755451a2c2d876dadae9...</td>\n",
              "    </tr>\n",
              "    <tr>\n",
              "      <th>139</th>\n",
              "      <td>139</td>\n",
              "      <td>59e1dc79a681665177701a504d7d704e1b6e36a4e191f4...</td>\n",
              "      <td>WON</td>\n",
              "      <td>NaN</td>\n",
              "      <td>£181 - £240 Per Week</td>\n",
              "      <td>Full Year Course Stay 40 - 44 weeks</td>\n",
              "      <td>29/09/22</td>\n",
              "      <td>7aae3e886e89fc1187a5c47d6cea1c22998ee610ade1f2...</td>\n",
              "      <td>ecc0e7dc084f141b29479058967d0bc07dee25d9690a98...</td>\n",
              "      <td>e09e10e67812e9d236ad900e5d46b4308fc62f5d69446a...</td>\n",
              "      <td>bbdefa2950f49882f295b1285d4fa9dec45fc4144bfb07...</td>\n",
              "      <td>09076eb7665d1fb9389c7c4517fee0b00e43092eb34821...</td>\n",
              "      <td>acb208d3ac02ab6d5a45120b4187f12bc41a132011fe1c...</td>\n",
              "      <td>8d23a6e37e0a6431a8f1b43a91026dcff51170a89a6512...</td>\n",
              "      <td>Entire Place</td>\n",
              "      <td>adbc799bdd9422ca4083ef3d83389853f1d72280efe25f...</td>\n",
              "    </tr>\n",
              "    <tr>\n",
              "      <th>141</th>\n",
              "      <td>141</td>\n",
              "      <td>96ab6152cb421b4d4012a4903c19004608a342a5f7c667...</td>\n",
              "      <td>WON</td>\n",
              "      <td>NaN</td>\n",
              "      <td>&gt; 300£ Per Week</td>\n",
              "      <td>Complete Education Year Stay 50 - 52 weeks</td>\n",
              "      <td>07/09/22</td>\n",
              "      <td>7aae3e886e89fc1187a5c47d6cea1c22998ee610ade1f2...</td>\n",
              "      <td>3c1def48af45cb9748302f34e57f2cbeb866de95beb0d2...</td>\n",
              "      <td>e09e10e67812e9d236ad900e5d46b4308fc62f5d69446a...</td>\n",
              "      <td>bbdefa2950f49882f295b1285d4fa9dec45fc4144bfb07...</td>\n",
              "      <td>09076eb7665d1fb9389c7c4517fee0b00e43092eb34821...</td>\n",
              "      <td>8593b9db65212160979d946950601c26622a219c80f1f1...</td>\n",
              "      <td>8d23a6e37e0a6431a8f1b43a91026dcff51170a89a6512...</td>\n",
              "      <td>Ensuite</td>\n",
              "      <td>aff03877c7a6e8799057e5ad4b82de902487b7c7f30dbf...</td>\n",
              "    </tr>\n",
              "    <tr>\n",
              "      <th>152</th>\n",
              "      <td>152</td>\n",
              "      <td>53eb7f9dcaa22b09db85547fa158a6893089db596bfdcc...</td>\n",
              "      <td>WON</td>\n",
              "      <td>NaN</td>\n",
              "      <td>£121 - £180 Per Week</td>\n",
              "      <td>Full Year Course Stay 40 - 44 weeks</td>\n",
              "      <td>31/08/22</td>\n",
              "      <td>7aae3e886e89fc1187a5c47d6cea1c22998ee610ade1f2...</td>\n",
              "      <td>69f0114003f8a8ec5f99506325f8ca6a5ca237c9fe91ba...</td>\n",
              "      <td>e09e10e67812e9d236ad900e5d46b4308fc62f5d69446a...</td>\n",
              "      <td>bbdefa2950f49882f295b1285d4fa9dec45fc4144bfb07...</td>\n",
              "      <td>09076eb7665d1fb9389c7c4517fee0b00e43092eb34821...</td>\n",
              "      <td>11ab03a1a8c367191355c152f39fe28cae5e426fce49ef...</td>\n",
              "      <td>8d23a6e37e0a6431a8f1b43a91026dcff51170a89a6512...</td>\n",
              "      <td>Entire Place</td>\n",
              "      <td>1c4cb4a47a62cce90db6619f8ddeed9eb2c0a598a6d0ed...</td>\n",
              "    </tr>\n",
              "    <tr>\n",
              "      <th>...</th>\n",
              "      <td>...</td>\n",
              "      <td>...</td>\n",
              "      <td>...</td>\n",
              "      <td>...</td>\n",
              "      <td>...</td>\n",
              "      <td>...</td>\n",
              "      <td>...</td>\n",
              "      <td>...</td>\n",
              "      <td>...</td>\n",
              "      <td>...</td>\n",
              "      <td>...</td>\n",
              "      <td>...</td>\n",
              "      <td>...</td>\n",
              "      <td>...</td>\n",
              "      <td>...</td>\n",
              "      <td>...</td>\n",
              "    </tr>\n",
              "    <tr>\n",
              "      <th>46559</th>\n",
              "      <td>46559</td>\n",
              "      <td>4ab75b931e46eda84e381be209b305d1ad8833f230eb24...</td>\n",
              "      <td>WON</td>\n",
              "      <td>NaN</td>\n",
              "      <td>139</td>\n",
              "      <td>42</td>\n",
              "      <td>01/10/22</td>\n",
              "      <td>9ba9134a91cfc6b52ac8d480e9ad37896ca4ac216e2d79...</td>\n",
              "      <td>f618d9049cbfb9410ad8d47541218cc7a2a9e930750f59...</td>\n",
              "      <td>e09e10e67812e9d236ad900e5d46b4308fc62f5d69446a...</td>\n",
              "      <td>bbdefa2950f49882f295b1285d4fa9dec45fc4144bfb07...</td>\n",
              "      <td>69f81619d0ef92cbb165a44e76f4f0c284d2aa83c318fa...</td>\n",
              "      <td>8593b9db65212160979d946950601c26622a219c80f1f1...</td>\n",
              "      <td>8d23a6e37e0a6431a8f1b43a91026dcff51170a89a6512...</td>\n",
              "      <td>NaN</td>\n",
              "      <td>c4f2571fb68158cf43193eaaae6241d94652abae4ff953...</td>\n",
              "    </tr>\n",
              "    <tr>\n",
              "      <th>46566</th>\n",
              "      <td>46566</td>\n",
              "      <td>44864c96fa1c36602f0d045b268981b6cab638a60fc207...</td>\n",
              "      <td>WON</td>\n",
              "      <td>NaN</td>\n",
              "      <td>179</td>\n",
              "      <td>51</td>\n",
              "      <td>10/09/22</td>\n",
              "      <td>9ba9134a91cfc6b52ac8d480e9ad37896ca4ac216e2d79...</td>\n",
              "      <td>ac15eb6ea0471bd80c833fa9d4ff9799de32a00b4681b0...</td>\n",
              "      <td>735b17b54154132f4d5c48eebcabe058b0e5a2953932ad...</td>\n",
              "      <td>bbdefa2950f49882f295b1285d4fa9dec45fc4144bfb07...</td>\n",
              "      <td>69f81619d0ef92cbb165a44e76f4f0c284d2aa83c318fa...</td>\n",
              "      <td>c384826dfbfce62c3fd99a46984a56fe71546a85c2cb6c...</td>\n",
              "      <td>8d23a6e37e0a6431a8f1b43a91026dcff51170a89a6512...</td>\n",
              "      <td>NaN</td>\n",
              "      <td>f2a5171da297accb58cb0d1ad4480127032153e3437164...</td>\n",
              "    </tr>\n",
              "    <tr>\n",
              "      <th>46570</th>\n",
              "      <td>46570</td>\n",
              "      <td>96ab6152cb421b4d4012a4903c19004608a342a5f7c667...</td>\n",
              "      <td>WON</td>\n",
              "      <td>NaN</td>\n",
              "      <td>180</td>\n",
              "      <td>44</td>\n",
              "      <td>16/09/22</td>\n",
              "      <td>9ba9134a91cfc6b52ac8d480e9ad37896ca4ac216e2d79...</td>\n",
              "      <td>ecc0e7dc084f141b29479058967d0bc07dee25d9690a98...</td>\n",
              "      <td>e09e10e67812e9d236ad900e5d46b4308fc62f5d69446a...</td>\n",
              "      <td>bbdefa2950f49882f295b1285d4fa9dec45fc4144bfb07...</td>\n",
              "      <td>69f81619d0ef92cbb165a44e76f4f0c284d2aa83c318fa...</td>\n",
              "      <td>6c5988c3032fffdad757f9ece1a56029a631825d527001...</td>\n",
              "      <td>8d23a6e37e0a6431a8f1b43a91026dcff51170a89a6512...</td>\n",
              "      <td>NaN</td>\n",
              "      <td>f5f0dcf17a05f003011a264327b0666ddcbc9855dc1882...</td>\n",
              "    </tr>\n",
              "    <tr>\n",
              "      <th>46586</th>\n",
              "      <td>46586</td>\n",
              "      <td>1dc43dab243ecfa3cc71b4fbc230ffd813798c72d1d551...</td>\n",
              "      <td>WON</td>\n",
              "      <td>NaN</td>\n",
              "      <td>£121 - £180 Per Week</td>\n",
              "      <td>Complete Education Year Stay 50 - 52 weeks</td>\n",
              "      <td>05/09/22</td>\n",
              "      <td>7aae3e886e89fc1187a5c47d6cea1c22998ee610ade1f2...</td>\n",
              "      <td>11ab03a1a8c367191355c152f39fe28cae5e426fce49ef...</td>\n",
              "      <td>e09e10e67812e9d236ad900e5d46b4308fc62f5d69446a...</td>\n",
              "      <td>bbdefa2950f49882f295b1285d4fa9dec45fc4144bfb07...</td>\n",
              "      <td>09076eb7665d1fb9389c7c4517fee0b00e43092eb34821...</td>\n",
              "      <td>19372fa44c57a01c37a5a8418779ca3d99b0b59731fb35...</td>\n",
              "      <td>8d23a6e37e0a6431a8f1b43a91026dcff51170a89a6512...</td>\n",
              "      <td>Studio</td>\n",
              "      <td>b872d8eaf5a329e82b57308671ef177cf67eb594b72b7b...</td>\n",
              "    </tr>\n",
              "    <tr>\n",
              "      <th>46592</th>\n",
              "      <td>46592</td>\n",
              "      <td>c077ad291c7b691b8defba867c1b937f16e878c1f3bdd5...</td>\n",
              "      <td>WON</td>\n",
              "      <td>NaN</td>\n",
              "      <td>£60 - £120 Per week</td>\n",
              "      <td>Full Year Course Stay 40 - 44 weeks</td>\n",
              "      <td>12/09/22</td>\n",
              "      <td>7aae3e886e89fc1187a5c47d6cea1c22998ee610ade1f2...</td>\n",
              "      <td>777e88b51092d314e2b6b9e523fc4dc2f3281c52df171e...</td>\n",
              "      <td>e09e10e67812e9d236ad900e5d46b4308fc62f5d69446a...</td>\n",
              "      <td>bbdefa2950f49882f295b1285d4fa9dec45fc4144bfb07...</td>\n",
              "      <td>09076eb7665d1fb9389c7c4517fee0b00e43092eb34821...</td>\n",
              "      <td>810c069040f6a9b16fdf976a901755508a87cb0224b169...</td>\n",
              "      <td>8d23a6e37e0a6431a8f1b43a91026dcff51170a89a6512...</td>\n",
              "      <td>Ensuite</td>\n",
              "      <td>2dde69fbc6fae52d8fb97a4b8eeb0da2829ab14009f9c4...</td>\n",
              "    </tr>\n",
              "  </tbody>\n",
              "</table>\n",
              "<p>3364 rows × 16 columns</p>\n",
              "</div>\n",
              "      <button class=\"colab-df-convert\" onclick=\"convertToInteractive('df-59cec7c0-cefb-4a66-9817-bb813cce9d79')\"\n",
              "              title=\"Convert this dataframe to an interactive table.\"\n",
              "              style=\"display:none;\">\n",
              "        \n",
              "  <svg xmlns=\"http://www.w3.org/2000/svg\" height=\"24px\"viewBox=\"0 0 24 24\"\n",
              "       width=\"24px\">\n",
              "    <path d=\"M0 0h24v24H0V0z\" fill=\"none\"/>\n",
              "    <path d=\"M18.56 5.44l.94 2.06.94-2.06 2.06-.94-2.06-.94-.94-2.06-.94 2.06-2.06.94zm-11 1L8.5 8.5l.94-2.06 2.06-.94-2.06-.94L8.5 2.5l-.94 2.06-2.06.94zm10 10l.94 2.06.94-2.06 2.06-.94-2.06-.94-.94-2.06-.94 2.06-2.06.94z\"/><path d=\"M17.41 7.96l-1.37-1.37c-.4-.4-.92-.59-1.43-.59-.52 0-1.04.2-1.43.59L10.3 9.45l-7.72 7.72c-.78.78-.78 2.05 0 2.83L4 21.41c.39.39.9.59 1.41.59.51 0 1.02-.2 1.41-.59l7.78-7.78 2.81-2.81c.8-.78.8-2.07 0-2.86zM5.41 20L4 18.59l7.72-7.72 1.47 1.35L5.41 20z\"/>\n",
              "  </svg>\n",
              "      </button>\n",
              "      \n",
              "  <style>\n",
              "    .colab-df-container {\n",
              "      display:flex;\n",
              "      flex-wrap:wrap;\n",
              "      gap: 12px;\n",
              "    }\n",
              "\n",
              "    .colab-df-convert {\n",
              "      background-color: #E8F0FE;\n",
              "      border: none;\n",
              "      border-radius: 50%;\n",
              "      cursor: pointer;\n",
              "      display: none;\n",
              "      fill: #1967D2;\n",
              "      height: 32px;\n",
              "      padding: 0 0 0 0;\n",
              "      width: 32px;\n",
              "    }\n",
              "\n",
              "    .colab-df-convert:hover {\n",
              "      background-color: #E2EBFA;\n",
              "      box-shadow: 0px 1px 2px rgba(60, 64, 67, 0.3), 0px 1px 3px 1px rgba(60, 64, 67, 0.15);\n",
              "      fill: #174EA6;\n",
              "    }\n",
              "\n",
              "    [theme=dark] .colab-df-convert {\n",
              "      background-color: #3B4455;\n",
              "      fill: #D2E3FC;\n",
              "    }\n",
              "\n",
              "    [theme=dark] .colab-df-convert:hover {\n",
              "      background-color: #434B5C;\n",
              "      box-shadow: 0px 1px 3px 1px rgba(0, 0, 0, 0.15);\n",
              "      filter: drop-shadow(0px 1px 2px rgba(0, 0, 0, 0.3));\n",
              "      fill: #FFFFFF;\n",
              "    }\n",
              "  </style>\n",
              "\n",
              "      <script>\n",
              "        const buttonEl =\n",
              "          document.querySelector('#df-59cec7c0-cefb-4a66-9817-bb813cce9d79 button.colab-df-convert');\n",
              "        buttonEl.style.display =\n",
              "          google.colab.kernel.accessAllowed ? 'block' : 'none';\n",
              "\n",
              "        async function convertToInteractive(key) {\n",
              "          const element = document.querySelector('#df-59cec7c0-cefb-4a66-9817-bb813cce9d79');\n",
              "          const dataTable =\n",
              "            await google.colab.kernel.invokeFunction('convertToInteractive',\n",
              "                                                     [key], {});\n",
              "          if (!dataTable) return;\n",
              "\n",
              "          const docLinkHtml = 'Like what you see? Visit the ' +\n",
              "            '<a target=\"_blank\" href=https://colab.research.google.com/notebooks/data_table.ipynb>data table notebook</a>'\n",
              "            + ' to learn more about interactive tables.';\n",
              "          element.innerHTML = '';\n",
              "          dataTable['output_type'] = 'display_data';\n",
              "          await google.colab.output.renderOutput(dataTable, element);\n",
              "          const docLink = document.createElement('div');\n",
              "          docLink.innerHTML = docLinkHtml;\n",
              "          element.appendChild(docLink);\n",
              "        }\n",
              "      </script>\n",
              "    </div>\n",
              "  </div>\n",
              "  "
            ]
          },
          "metadata": {},
          "execution_count": 11
        }
      ]
    },
    {
      "cell_type": "markdown",
      "source": [
        "It seems like lost reason is 'NaN', where status is won. "
      ],
      "metadata": {
        "id": "xIXjD0TxC7bW"
      }
    },
    {
      "cell_type": "code",
      "source": [
        "df['lost_reason'].fillna('Not appicable, Booking Accepted', inplace = True)"
      ],
      "metadata": {
        "id": "nMxRI8zAD2oA"
      },
      "execution_count": 12,
      "outputs": []
    },
    {
      "cell_type": "markdown",
      "source": [
        "Too many values are missing in movein and roomtype. Dropping both the columns. "
      ],
      "metadata": {
        "id": "MIchECnTFaIP"
      }
    },
    {
      "cell_type": "code",
      "source": [
        "df.drop(['movein', 'room_type'], axis =1, inplace = True)"
      ],
      "metadata": {
        "id": "fMscTpSqFi37"
      },
      "execution_count": 13,
      "outputs": []
    },
    {
      "cell_type": "code",
      "source": [
        "df[df['budget'].isnull()]"
      ],
      "metadata": {
        "colab": {
          "base_uri": "https://localhost:8080/",
          "height": 522
        },
        "id": "Kg4AhQCFD9IM",
        "outputId": "98985374-444a-4817-ca6e-192ad190e0ed"
      },
      "execution_count": 14,
      "outputs": [
        {
          "output_type": "execute_result",
          "data": {
            "text/plain": [
              "       Unnamed: 0                                           Agent_id status  \\\n",
              "0               0  1deba9e96f404694373de9749ddd1ca8aa7bb823145a6f...   LOST   \n",
              "1               1  299ae77a4ef350ae0dd37d6bba1c002d03444fb1edb236...   LOST   \n",
              "4               4  1deba9e96f404694373de9749ddd1ca8aa7bb823145a6f...   LOST   \n",
              "25             25  6b61e611d25ec81e83491a7e289ed7483d067c4c9bb50e...   LOST   \n",
              "27             27  2fca346db656187102ce806ac732e06a62df0dbb2829e5...   LOST   \n",
              "...           ...                                                ...    ...   \n",
              "46505       46505  53eb7f9dcaa22b09db85547fa158a6893089db596bfdcc...   LOST   \n",
              "46509       46509  64ce47d15992e40da1dd9e37330f1aa90bf11b5878258a...   LOST   \n",
              "46572       46572  2306878a9ad9b57686cd623dd285aaa9b25afdf627f651...   LOST   \n",
              "46581       46581  c213697430c006013012dd2aca82dd9732aa0a1a6bca13...   LOST   \n",
              "46582       46582  bb22552c613cd3d30888fe8c4fecac110298f9f06698ef...   LOST   \n",
              "\n",
              "                       lost_reason budget lease  \\\n",
              "0                   Not responding    NaN   NaN   \n",
              "1                       Low budget    NaN   NaN   \n",
              "4                        Junk lead    NaN   NaN   \n",
              "25                  Not responding    NaN     0   \n",
              "27                Low availability    NaN     0   \n",
              "...                            ...    ...   ...   \n",
              "46505                Not a student    NaN   NaN   \n",
              "46509                    No supply    NaN   NaN   \n",
              "46572               Not interested    NaN     0   \n",
              "46581                   Low budget    NaN   NaN   \n",
              "46582  Wants private accommodation    NaN   NaN   \n",
              "\n",
              "                                                  source source_city  \\\n",
              "0                                                    NaN         NaN   \n",
              "1                                                    NaN         NaN   \n",
              "4                                                    NaN         NaN   \n",
              "25                                                   NaN         NaN   \n",
              "27                                                   NaN         NaN   \n",
              "...                                                  ...         ...   \n",
              "46505  b2b2a0ecb072ed25f1844a3325a810b85689bcc785ddb4...         NaN   \n",
              "46509                                                NaN         NaN   \n",
              "46572  9c225a25baf2847828f299f46f22428571a4b305ad465e...         NaN   \n",
              "46581                                                NaN         NaN   \n",
              "46582                                                NaN         NaN   \n",
              "\n",
              "                                          source_country  \\\n",
              "0                                                    NaN   \n",
              "1                                                    NaN   \n",
              "4                                                    NaN   \n",
              "25     abd149214539d9f222d25de6358735b9fa0efd3956f661...   \n",
              "27                                                   NaN   \n",
              "...                                                  ...   \n",
              "46505                                                NaN   \n",
              "46509                                                NaN   \n",
              "46572                                                NaN   \n",
              "46581                                                NaN   \n",
              "46582                                                NaN   \n",
              "\n",
              "                                              utm_source  \\\n",
              "0      3d59f7548e1af2151b64135003ce63c0a484c26b9b8b16...   \n",
              "1      3d59f7548e1af2151b64135003ce63c0a484c26b9b8b16...   \n",
              "4      3d59f7548e1af2151b64135003ce63c0a484c26b9b8b16...   \n",
              "25     ec8202b6f9fb16f9e26b66367afa4e037752f3c09a18ce...   \n",
              "27     3d59f7548e1af2151b64135003ce63c0a484c26b9b8b16...   \n",
              "...                                                  ...   \n",
              "46505  7f3fa48ca885678134842fa7456f3ece53a97f843b6101...   \n",
              "46509  3d59f7548e1af2151b64135003ce63c0a484c26b9b8b16...   \n",
              "46572  44574c4ba2ea74ad4bf1e184133cdbf4e7390a3690beff...   \n",
              "46581  3d59f7548e1af2151b64135003ce63c0a484c26b9b8b16...   \n",
              "46582  3d59f7548e1af2151b64135003ce63c0a484c26b9b8b16...   \n",
              "\n",
              "                                              utm_medium  \\\n",
              "0      268ad70eb5bc4737a2ae28162cbca30118cc94520e49ef...   \n",
              "1      268ad70eb5bc4737a2ae28162cbca30118cc94520e49ef...   \n",
              "4      268ad70eb5bc4737a2ae28162cbca30118cc94520e49ef...   \n",
              "25     4ed379d418bb86290a01117e9ceb0debffc4d1b7087db6...   \n",
              "27     4ed379d418bb86290a01117e9ceb0debffc4d1b7087db6...   \n",
              "...                                                  ...   \n",
              "46505  4f86ca37dd9e4b9b0c94b2fc9dc36771317ce4593f93f9...   \n",
              "46509  268ad70eb5bc4737a2ae28162cbca30118cc94520e49ef...   \n",
              "46572  09076eb7665d1fb9389c7c4517fee0b00e43092eb34821...   \n",
              "46581  268ad70eb5bc4737a2ae28162cbca30118cc94520e49ef...   \n",
              "46582  268ad70eb5bc4737a2ae28162cbca30118cc94520e49ef...   \n",
              "\n",
              "                                                des_city  \\\n",
              "0      ecc0e7dc084f141b29479058967d0bc07dee25d9690a98...   \n",
              "1      5372372f3bf5896820cb2819300c3e681820d82c6efc54...   \n",
              "4                                                    NaN   \n",
              "25     6a5ed83658ef85afc77709cc16ede854ad98e3c2ad8b07...   \n",
              "27     0a8ad51fea30c29587f61bd8420a49602aa78304833627...   \n",
              "...                                                  ...   \n",
              "46505                                                NaN   \n",
              "46509  086eec074ad18d1159de3c076d7f7d8a55f5bc8d134f6f...   \n",
              "46572  c384826dfbfce62c3fd99a46984a56fe71546a85c2cb6c...   \n",
              "46581                                                NaN   \n",
              "46582  e509e9f3fb8f1e6b3cee0b3e924eb6e533928aeca83653...   \n",
              "\n",
              "                                             des_country  \\\n",
              "0      8d23a6e37e0a6431a8f1b43a91026dcff51170a89a6512...   \n",
              "1      8d23a6e37e0a6431a8f1b43a91026dcff51170a89a6512...   \n",
              "4                                                    NaN   \n",
              "25     8d23a6e37e0a6431a8f1b43a91026dcff51170a89a6512...   \n",
              "27     02bf1dfa9a0365a86223f0e4ac9eaa0517b06b2e927379...   \n",
              "...                                                  ...   \n",
              "46505                                                NaN   \n",
              "46509  8d23a6e37e0a6431a8f1b43a91026dcff51170a89a6512...   \n",
              "46572  8d23a6e37e0a6431a8f1b43a91026dcff51170a89a6512...   \n",
              "46581                                                NaN   \n",
              "46582  8d23a6e37e0a6431a8f1b43a91026dcff51170a89a6512...   \n",
              "\n",
              "                                                 lead_id  \n",
              "0      cd5dc0d9393f3980d11d4ba6f88f8110c2b7a7f7796307...  \n",
              "1      b94693673a5f7178d1b114e4004ad52377d3244dd24a3d...  \n",
              "4      fc10fffd29cfbe93c55158fb47752a7501c211d253468c...  \n",
              "25     11912c46b1c88029c447f4bbd61669680bf114881f4a1a...  \n",
              "27     27ecd20aff6354468464e8f69eb31bf64232a5d93b27a2...  \n",
              "...                                                  ...  \n",
              "46505  3451f0dc40f9e1e4f8a86d837716fdeb4c3674566d723c...  \n",
              "46509  9c2eeb40e195e586e6eab1335d3644b178e9002de061c1...  \n",
              "46572  f88dc31ca77b5271e7df490af95e0cab85a3d859b0edc2...  \n",
              "46581  8eb1790c9a94820022b72682ba955490697174ddc61293...  \n",
              "46582  98b4f190437c95869d33b2747577a243d64a9ada8add3f...  \n",
              "\n",
              "[3700 rows x 14 columns]"
            ],
            "text/html": [
              "\n",
              "  <div id=\"df-dc0b2b27-f73f-4907-960d-a791d893ce13\">\n",
              "    <div class=\"colab-df-container\">\n",
              "      <div>\n",
              "<style scoped>\n",
              "    .dataframe tbody tr th:only-of-type {\n",
              "        vertical-align: middle;\n",
              "    }\n",
              "\n",
              "    .dataframe tbody tr th {\n",
              "        vertical-align: top;\n",
              "    }\n",
              "\n",
              "    .dataframe thead th {\n",
              "        text-align: right;\n",
              "    }\n",
              "</style>\n",
              "<table border=\"1\" class=\"dataframe\">\n",
              "  <thead>\n",
              "    <tr style=\"text-align: right;\">\n",
              "      <th></th>\n",
              "      <th>Unnamed: 0</th>\n",
              "      <th>Agent_id</th>\n",
              "      <th>status</th>\n",
              "      <th>lost_reason</th>\n",
              "      <th>budget</th>\n",
              "      <th>lease</th>\n",
              "      <th>source</th>\n",
              "      <th>source_city</th>\n",
              "      <th>source_country</th>\n",
              "      <th>utm_source</th>\n",
              "      <th>utm_medium</th>\n",
              "      <th>des_city</th>\n",
              "      <th>des_country</th>\n",
              "      <th>lead_id</th>\n",
              "    </tr>\n",
              "  </thead>\n",
              "  <tbody>\n",
              "    <tr>\n",
              "      <th>0</th>\n",
              "      <td>0</td>\n",
              "      <td>1deba9e96f404694373de9749ddd1ca8aa7bb823145a6f...</td>\n",
              "      <td>LOST</td>\n",
              "      <td>Not responding</td>\n",
              "      <td>NaN</td>\n",
              "      <td>NaN</td>\n",
              "      <td>NaN</td>\n",
              "      <td>NaN</td>\n",
              "      <td>NaN</td>\n",
              "      <td>3d59f7548e1af2151b64135003ce63c0a484c26b9b8b16...</td>\n",
              "      <td>268ad70eb5bc4737a2ae28162cbca30118cc94520e49ef...</td>\n",
              "      <td>ecc0e7dc084f141b29479058967d0bc07dee25d9690a98...</td>\n",
              "      <td>8d23a6e37e0a6431a8f1b43a91026dcff51170a89a6512...</td>\n",
              "      <td>cd5dc0d9393f3980d11d4ba6f88f8110c2b7a7f7796307...</td>\n",
              "    </tr>\n",
              "    <tr>\n",
              "      <th>1</th>\n",
              "      <td>1</td>\n",
              "      <td>299ae77a4ef350ae0dd37d6bba1c002d03444fb1edb236...</td>\n",
              "      <td>LOST</td>\n",
              "      <td>Low budget</td>\n",
              "      <td>NaN</td>\n",
              "      <td>NaN</td>\n",
              "      <td>NaN</td>\n",
              "      <td>NaN</td>\n",
              "      <td>NaN</td>\n",
              "      <td>3d59f7548e1af2151b64135003ce63c0a484c26b9b8b16...</td>\n",
              "      <td>268ad70eb5bc4737a2ae28162cbca30118cc94520e49ef...</td>\n",
              "      <td>5372372f3bf5896820cb2819300c3e681820d82c6efc54...</td>\n",
              "      <td>8d23a6e37e0a6431a8f1b43a91026dcff51170a89a6512...</td>\n",
              "      <td>b94693673a5f7178d1b114e4004ad52377d3244dd24a3d...</td>\n",
              "    </tr>\n",
              "    <tr>\n",
              "      <th>4</th>\n",
              "      <td>4</td>\n",
              "      <td>1deba9e96f404694373de9749ddd1ca8aa7bb823145a6f...</td>\n",
              "      <td>LOST</td>\n",
              "      <td>Junk lead</td>\n",
              "      <td>NaN</td>\n",
              "      <td>NaN</td>\n",
              "      <td>NaN</td>\n",
              "      <td>NaN</td>\n",
              "      <td>NaN</td>\n",
              "      <td>3d59f7548e1af2151b64135003ce63c0a484c26b9b8b16...</td>\n",
              "      <td>268ad70eb5bc4737a2ae28162cbca30118cc94520e49ef...</td>\n",
              "      <td>NaN</td>\n",
              "      <td>NaN</td>\n",
              "      <td>fc10fffd29cfbe93c55158fb47752a7501c211d253468c...</td>\n",
              "    </tr>\n",
              "    <tr>\n",
              "      <th>25</th>\n",
              "      <td>25</td>\n",
              "      <td>6b61e611d25ec81e83491a7e289ed7483d067c4c9bb50e...</td>\n",
              "      <td>LOST</td>\n",
              "      <td>Not responding</td>\n",
              "      <td>NaN</td>\n",
              "      <td>0</td>\n",
              "      <td>NaN</td>\n",
              "      <td>NaN</td>\n",
              "      <td>abd149214539d9f222d25de6358735b9fa0efd3956f661...</td>\n",
              "      <td>ec8202b6f9fb16f9e26b66367afa4e037752f3c09a18ce...</td>\n",
              "      <td>4ed379d418bb86290a01117e9ceb0debffc4d1b7087db6...</td>\n",
              "      <td>6a5ed83658ef85afc77709cc16ede854ad98e3c2ad8b07...</td>\n",
              "      <td>8d23a6e37e0a6431a8f1b43a91026dcff51170a89a6512...</td>\n",
              "      <td>11912c46b1c88029c447f4bbd61669680bf114881f4a1a...</td>\n",
              "    </tr>\n",
              "    <tr>\n",
              "      <th>27</th>\n",
              "      <td>27</td>\n",
              "      <td>2fca346db656187102ce806ac732e06a62df0dbb2829e5...</td>\n",
              "      <td>LOST</td>\n",
              "      <td>Low availability</td>\n",
              "      <td>NaN</td>\n",
              "      <td>0</td>\n",
              "      <td>NaN</td>\n",
              "      <td>NaN</td>\n",
              "      <td>NaN</td>\n",
              "      <td>3d59f7548e1af2151b64135003ce63c0a484c26b9b8b16...</td>\n",
              "      <td>4ed379d418bb86290a01117e9ceb0debffc4d1b7087db6...</td>\n",
              "      <td>0a8ad51fea30c29587f61bd8420a49602aa78304833627...</td>\n",
              "      <td>02bf1dfa9a0365a86223f0e4ac9eaa0517b06b2e927379...</td>\n",
              "      <td>27ecd20aff6354468464e8f69eb31bf64232a5d93b27a2...</td>\n",
              "    </tr>\n",
              "    <tr>\n",
              "      <th>...</th>\n",
              "      <td>...</td>\n",
              "      <td>...</td>\n",
              "      <td>...</td>\n",
              "      <td>...</td>\n",
              "      <td>...</td>\n",
              "      <td>...</td>\n",
              "      <td>...</td>\n",
              "      <td>...</td>\n",
              "      <td>...</td>\n",
              "      <td>...</td>\n",
              "      <td>...</td>\n",
              "      <td>...</td>\n",
              "      <td>...</td>\n",
              "      <td>...</td>\n",
              "    </tr>\n",
              "    <tr>\n",
              "      <th>46505</th>\n",
              "      <td>46505</td>\n",
              "      <td>53eb7f9dcaa22b09db85547fa158a6893089db596bfdcc...</td>\n",
              "      <td>LOST</td>\n",
              "      <td>Not a student</td>\n",
              "      <td>NaN</td>\n",
              "      <td>NaN</td>\n",
              "      <td>b2b2a0ecb072ed25f1844a3325a810b85689bcc785ddb4...</td>\n",
              "      <td>NaN</td>\n",
              "      <td>NaN</td>\n",
              "      <td>7f3fa48ca885678134842fa7456f3ece53a97f843b6101...</td>\n",
              "      <td>4f86ca37dd9e4b9b0c94b2fc9dc36771317ce4593f93f9...</td>\n",
              "      <td>NaN</td>\n",
              "      <td>NaN</td>\n",
              "      <td>3451f0dc40f9e1e4f8a86d837716fdeb4c3674566d723c...</td>\n",
              "    </tr>\n",
              "    <tr>\n",
              "      <th>46509</th>\n",
              "      <td>46509</td>\n",
              "      <td>64ce47d15992e40da1dd9e37330f1aa90bf11b5878258a...</td>\n",
              "      <td>LOST</td>\n",
              "      <td>No supply</td>\n",
              "      <td>NaN</td>\n",
              "      <td>NaN</td>\n",
              "      <td>NaN</td>\n",
              "      <td>NaN</td>\n",
              "      <td>NaN</td>\n",
              "      <td>3d59f7548e1af2151b64135003ce63c0a484c26b9b8b16...</td>\n",
              "      <td>268ad70eb5bc4737a2ae28162cbca30118cc94520e49ef...</td>\n",
              "      <td>086eec074ad18d1159de3c076d7f7d8a55f5bc8d134f6f...</td>\n",
              "      <td>8d23a6e37e0a6431a8f1b43a91026dcff51170a89a6512...</td>\n",
              "      <td>9c2eeb40e195e586e6eab1335d3644b178e9002de061c1...</td>\n",
              "    </tr>\n",
              "    <tr>\n",
              "      <th>46572</th>\n",
              "      <td>46572</td>\n",
              "      <td>2306878a9ad9b57686cd623dd285aaa9b25afdf627f651...</td>\n",
              "      <td>LOST</td>\n",
              "      <td>Not interested</td>\n",
              "      <td>NaN</td>\n",
              "      <td>0</td>\n",
              "      <td>9c225a25baf2847828f299f46f22428571a4b305ad465e...</td>\n",
              "      <td>NaN</td>\n",
              "      <td>NaN</td>\n",
              "      <td>44574c4ba2ea74ad4bf1e184133cdbf4e7390a3690beff...</td>\n",
              "      <td>09076eb7665d1fb9389c7c4517fee0b00e43092eb34821...</td>\n",
              "      <td>c384826dfbfce62c3fd99a46984a56fe71546a85c2cb6c...</td>\n",
              "      <td>8d23a6e37e0a6431a8f1b43a91026dcff51170a89a6512...</td>\n",
              "      <td>f88dc31ca77b5271e7df490af95e0cab85a3d859b0edc2...</td>\n",
              "    </tr>\n",
              "    <tr>\n",
              "      <th>46581</th>\n",
              "      <td>46581</td>\n",
              "      <td>c213697430c006013012dd2aca82dd9732aa0a1a6bca13...</td>\n",
              "      <td>LOST</td>\n",
              "      <td>Low budget</td>\n",
              "      <td>NaN</td>\n",
              "      <td>NaN</td>\n",
              "      <td>NaN</td>\n",
              "      <td>NaN</td>\n",
              "      <td>NaN</td>\n",
              "      <td>3d59f7548e1af2151b64135003ce63c0a484c26b9b8b16...</td>\n",
              "      <td>268ad70eb5bc4737a2ae28162cbca30118cc94520e49ef...</td>\n",
              "      <td>NaN</td>\n",
              "      <td>NaN</td>\n",
              "      <td>8eb1790c9a94820022b72682ba955490697174ddc61293...</td>\n",
              "    </tr>\n",
              "    <tr>\n",
              "      <th>46582</th>\n",
              "      <td>46582</td>\n",
              "      <td>bb22552c613cd3d30888fe8c4fecac110298f9f06698ef...</td>\n",
              "      <td>LOST</td>\n",
              "      <td>Wants private accommodation</td>\n",
              "      <td>NaN</td>\n",
              "      <td>NaN</td>\n",
              "      <td>NaN</td>\n",
              "      <td>NaN</td>\n",
              "      <td>NaN</td>\n",
              "      <td>3d59f7548e1af2151b64135003ce63c0a484c26b9b8b16...</td>\n",
              "      <td>268ad70eb5bc4737a2ae28162cbca30118cc94520e49ef...</td>\n",
              "      <td>e509e9f3fb8f1e6b3cee0b3e924eb6e533928aeca83653...</td>\n",
              "      <td>8d23a6e37e0a6431a8f1b43a91026dcff51170a89a6512...</td>\n",
              "      <td>98b4f190437c95869d33b2747577a243d64a9ada8add3f...</td>\n",
              "    </tr>\n",
              "  </tbody>\n",
              "</table>\n",
              "<p>3700 rows × 14 columns</p>\n",
              "</div>\n",
              "      <button class=\"colab-df-convert\" onclick=\"convertToInteractive('df-dc0b2b27-f73f-4907-960d-a791d893ce13')\"\n",
              "              title=\"Convert this dataframe to an interactive table.\"\n",
              "              style=\"display:none;\">\n",
              "        \n",
              "  <svg xmlns=\"http://www.w3.org/2000/svg\" height=\"24px\"viewBox=\"0 0 24 24\"\n",
              "       width=\"24px\">\n",
              "    <path d=\"M0 0h24v24H0V0z\" fill=\"none\"/>\n",
              "    <path d=\"M18.56 5.44l.94 2.06.94-2.06 2.06-.94-2.06-.94-.94-2.06-.94 2.06-2.06.94zm-11 1L8.5 8.5l.94-2.06 2.06-.94-2.06-.94L8.5 2.5l-.94 2.06-2.06.94zm10 10l.94 2.06.94-2.06 2.06-.94-2.06-.94-.94-2.06-.94 2.06-2.06.94z\"/><path d=\"M17.41 7.96l-1.37-1.37c-.4-.4-.92-.59-1.43-.59-.52 0-1.04.2-1.43.59L10.3 9.45l-7.72 7.72c-.78.78-.78 2.05 0 2.83L4 21.41c.39.39.9.59 1.41.59.51 0 1.02-.2 1.41-.59l7.78-7.78 2.81-2.81c.8-.78.8-2.07 0-2.86zM5.41 20L4 18.59l7.72-7.72 1.47 1.35L5.41 20z\"/>\n",
              "  </svg>\n",
              "      </button>\n",
              "      \n",
              "  <style>\n",
              "    .colab-df-container {\n",
              "      display:flex;\n",
              "      flex-wrap:wrap;\n",
              "      gap: 12px;\n",
              "    }\n",
              "\n",
              "    .colab-df-convert {\n",
              "      background-color: #E8F0FE;\n",
              "      border: none;\n",
              "      border-radius: 50%;\n",
              "      cursor: pointer;\n",
              "      display: none;\n",
              "      fill: #1967D2;\n",
              "      height: 32px;\n",
              "      padding: 0 0 0 0;\n",
              "      width: 32px;\n",
              "    }\n",
              "\n",
              "    .colab-df-convert:hover {\n",
              "      background-color: #E2EBFA;\n",
              "      box-shadow: 0px 1px 2px rgba(60, 64, 67, 0.3), 0px 1px 3px 1px rgba(60, 64, 67, 0.15);\n",
              "      fill: #174EA6;\n",
              "    }\n",
              "\n",
              "    [theme=dark] .colab-df-convert {\n",
              "      background-color: #3B4455;\n",
              "      fill: #D2E3FC;\n",
              "    }\n",
              "\n",
              "    [theme=dark] .colab-df-convert:hover {\n",
              "      background-color: #434B5C;\n",
              "      box-shadow: 0px 1px 3px 1px rgba(0, 0, 0, 0.15);\n",
              "      filter: drop-shadow(0px 1px 2px rgba(0, 0, 0, 0.3));\n",
              "      fill: #FFFFFF;\n",
              "    }\n",
              "  </style>\n",
              "\n",
              "      <script>\n",
              "        const buttonEl =\n",
              "          document.querySelector('#df-dc0b2b27-f73f-4907-960d-a791d893ce13 button.colab-df-convert');\n",
              "        buttonEl.style.display =\n",
              "          google.colab.kernel.accessAllowed ? 'block' : 'none';\n",
              "\n",
              "        async function convertToInteractive(key) {\n",
              "          const element = document.querySelector('#df-dc0b2b27-f73f-4907-960d-a791d893ce13');\n",
              "          const dataTable =\n",
              "            await google.colab.kernel.invokeFunction('convertToInteractive',\n",
              "                                                     [key], {});\n",
              "          if (!dataTable) return;\n",
              "\n",
              "          const docLinkHtml = 'Like what you see? Visit the ' +\n",
              "            '<a target=\"_blank\" href=https://colab.research.google.com/notebooks/data_table.ipynb>data table notebook</a>'\n",
              "            + ' to learn more about interactive tables.';\n",
              "          element.innerHTML = '';\n",
              "          dataTable['output_type'] = 'display_data';\n",
              "          await google.colab.output.renderOutput(dataTable, element);\n",
              "          const docLink = document.createElement('div');\n",
              "          docLink.innerHTML = docLinkHtml;\n",
              "          element.appendChild(docLink);\n",
              "        }\n",
              "      </script>\n",
              "    </div>\n",
              "  </div>\n",
              "  "
            ]
          },
          "metadata": {},
          "execution_count": 14
        }
      ]
    },
    {
      "cell_type": "code",
      "source": [
        "df.isnull().sum()"
      ],
      "metadata": {
        "colab": {
          "base_uri": "https://localhost:8080/"
        },
        "id": "PEOaN29DEi5x",
        "outputId": "0f011736-489b-48db-9c32-6575895915bd"
      },
      "execution_count": 15,
      "outputs": [
        {
          "output_type": "execute_result",
          "data": {
            "text/plain": [
              "Unnamed: 0           0\n",
              "Agent_id             0\n",
              "status               0\n",
              "lost_reason          0\n",
              "budget            3700\n",
              "lease             2341\n",
              "source               0\n",
              "source_city          0\n",
              "source_country       0\n",
              "utm_source           0\n",
              "utm_medium           0\n",
              "des_city             0\n",
              "des_country          0\n",
              "lead_id              0\n",
              "dtype: int64"
            ]
          },
          "metadata": {},
          "execution_count": 15
        }
      ]
    },
    {
      "cell_type": "markdown",
      "source": [
        "Budget and Lease can be the most important features of our machine learning modelling. Taking any assumption of their values can create bias in our modelling. <br>\n",
        "Dropping the rows, where budget and lease are Null. "
      ],
      "metadata": {
        "id": "QdJ-jxnpGYUo"
      }
    },
    {
      "cell_type": "code",
      "source": [
        "df[df['budget'].isnull()].lease"
      ],
      "metadata": {
        "colab": {
          "base_uri": "https://localhost:8080/"
        },
        "id": "TtziakfTGDcr",
        "outputId": "a19c1e83-ae97-4be4-c50a-c24209176e33"
      },
      "execution_count": 16,
      "outputs": [
        {
          "output_type": "execute_result",
          "data": {
            "text/plain": [
              "0        NaN\n",
              "1        NaN\n",
              "4        NaN\n",
              "25         0\n",
              "27         0\n",
              "        ... \n",
              "46505    NaN\n",
              "46509    NaN\n",
              "46572      0\n",
              "46581    NaN\n",
              "46582    NaN\n",
              "Name: lease, Length: 3700, dtype: object"
            ]
          },
          "metadata": {},
          "execution_count": 16
        }
      ]
    },
    {
      "cell_type": "code",
      "source": [
        "df.dropna(inplace = True)"
      ],
      "metadata": {
        "id": "Hb1jJ9TrGx96"
      },
      "execution_count": 17,
      "outputs": []
    },
    {
      "cell_type": "code",
      "source": [
        "df.isnull().sum()"
      ],
      "metadata": {
        "colab": {
          "base_uri": "https://localhost:8080/"
        },
        "id": "Db3kF4gqHDkR",
        "outputId": "3cf879d8-0e94-4b1e-d290-a9aa2387b4d8"
      },
      "execution_count": 18,
      "outputs": [
        {
          "output_type": "execute_result",
          "data": {
            "text/plain": [
              "Unnamed: 0        0\n",
              "Agent_id          0\n",
              "status            0\n",
              "lost_reason       0\n",
              "budget            0\n",
              "lease             0\n",
              "source            0\n",
              "source_city       0\n",
              "source_country    0\n",
              "utm_source        0\n",
              "utm_medium        0\n",
              "des_city          0\n",
              "des_country       0\n",
              "lead_id           0\n",
              "dtype: int64"
            ]
          },
          "metadata": {},
          "execution_count": 18
        }
      ]
    },
    {
      "cell_type": "markdown",
      "source": [
        "No missing values, now we can start our analysis. "
      ],
      "metadata": {
        "id": "T8sWUXtLHIO5"
      }
    },
    {
      "cell_type": "markdown",
      "source": [
        "**Dropping status other than Won and Lost**"
      ],
      "metadata": {
        "id": "xYywI8zcJ7zH"
      }
    },
    {
      "cell_type": "code",
      "source": [
        "df['status'].value_counts()"
      ],
      "metadata": {
        "colab": {
          "base_uri": "https://localhost:8080/"
        },
        "id": "E58SlWrZLF4O",
        "outputId": "966fb9ff-11f5-44b6-e3f0-ef016ad664cc"
      },
      "execution_count": 19,
      "outputs": [
        {
          "output_type": "execute_result",
          "data": {
            "text/plain": [
              "LOST           39561\n",
              "WON             2991\n",
              "OPPORTUNITY      248\n",
              "CONTACTED         28\n",
              "PROCESSING         8\n",
              "IMPORTANT          1\n",
              "Name: status, dtype: int64"
            ]
          },
          "metadata": {},
          "execution_count": 19
        }
      ]
    },
    {
      "cell_type": "code",
      "source": [
        "df = df.loc[df['status'].isin(['WON', 'LOST'])]\n"
      ],
      "metadata": {
        "id": "HRyc22FdNKK0"
      },
      "execution_count": 20,
      "outputs": []
    },
    {
      "cell_type": "code",
      "source": [
        "df['status'].value_counts()"
      ],
      "metadata": {
        "colab": {
          "base_uri": "https://localhost:8080/"
        },
        "id": "Oscgr_gyLgGd",
        "outputId": "5f9ebcd1-c45a-459f-b3fd-b668d7fa68fa"
      },
      "execution_count": 21,
      "outputs": [
        {
          "output_type": "execute_result",
          "data": {
            "text/plain": [
              "LOST    39561\n",
              "WON      2991\n",
              "Name: status, dtype: int64"
            ]
          },
          "metadata": {},
          "execution_count": 21
        }
      ]
    },
    {
      "cell_type": "markdown",
      "source": [
        "## Data Exploration "
      ],
      "metadata": {
        "id": "wswgC83hHR5X"
      }
    },
    {
      "cell_type": "code",
      "source": [
        "df.head()"
      ],
      "metadata": {
        "colab": {
          "base_uri": "https://localhost:8080/",
          "height": 409
        },
        "id": "xQ_xjbywJGtO",
        "outputId": "01a39cae-b2ff-482b-83b9-45fb5d0e441e"
      },
      "execution_count": 22,
      "outputs": [
        {
          "output_type": "execute_result",
          "data": {
            "text/plain": [
              "   Unnamed: 0                                           Agent_id status  \\\n",
              "2           2  c213697430c006013012dd2aca82dd9732aa0a1a6bca13...   LOST   \n",
              "3           3  eac9815a500f908736d303e23aa227f0957177b0e6756b...   LOST   \n",
              "5           5  2306878a9ad9b57686cd623dd285aaa9b25afdf627f651...   LOST   \n",
              "6           6  2306878a9ad9b57686cd623dd285aaa9b25afdf627f651...   LOST   \n",
              "7           7  44864c96fa1c36602f0d045b268981b6cab638a60fc207...   LOST   \n",
              "\n",
              "                   lost_reason                budget  \\\n",
              "2               Not responding  £121 - £180 Per Week   \n",
              "3                   Low budget                   0-0   \n",
              "5  Wants private accommodation                   120   \n",
              "6                   Short stay                   0-0   \n",
              "7  Wants private accommodation  £181 - £240 Per Week   \n",
              "\n",
              "                                 lease  \\\n",
              "2  Full Year Course Stay 40 - 44 weeks   \n",
              "3                                    0   \n",
              "5                        semester-stay   \n",
              "6                                    0   \n",
              "7                                   51   \n",
              "\n",
              "                                              source  \\\n",
              "2  7aae3e886e89fc1187a5c47d6cea1c22998ee610ade1f2...   \n",
              "3  ba2d0a29556ac20f86f45e4543c0825428cba33fd7a9ea...   \n",
              "5  7bcfca0e9d73371699b0adbf1c691e02108fa64f02f4db...   \n",
              "6  9ba9134a91cfc6b52ac8d480e9ad37896ca4ac216e2d79...   \n",
              "7  7aae3e886e89fc1187a5c47d6cea1c22998ee610ade1f2...   \n",
              "\n",
              "                                         source_city  \\\n",
              "2  9b8cc3c63cdf447e463c11544924bf027945cbd29675f7...   \n",
              "3  a5f0d2d08eb0592087e3a3a2f9c1ba2c67cc30f2efd2bd...   \n",
              "5  7b7f15f9ffbeb905caaee265ac39d267d0512ab5333f2f...   \n",
              "6  3c1def48af45cb9748302f34e57f2cbeb866de95beb0d2...   \n",
              "7  8593b9db65212160979d946950601c26622a219c80f1f1...   \n",
              "\n",
              "                                      source_country  \\\n",
              "2  e09e10e67812e9d236ad900e5d46b4308fc62f5d69446a...   \n",
              "3  e09e10e67812e9d236ad900e5d46b4308fc62f5d69446a...   \n",
              "5  8da82000ef9c4468ba47362a924b895e40662fed846942...   \n",
              "6  e09e10e67812e9d236ad900e5d46b4308fc62f5d69446a...   \n",
              "7  e09e10e67812e9d236ad900e5d46b4308fc62f5d69446a...   \n",
              "\n",
              "                                          utm_source  \\\n",
              "2  bbdefa2950f49882f295b1285d4fa9dec45fc4144bfb07...   \n",
              "3  bbdefa2950f49882f295b1285d4fa9dec45fc4144bfb07...   \n",
              "5  bbdefa2950f49882f295b1285d4fa9dec45fc4144bfb07...   \n",
              "6  4688fa9ce4f64d0451be91f30a3de24a1c1c41635bd221...   \n",
              "7  bbdefa2950f49882f295b1285d4fa9dec45fc4144bfb07...   \n",
              "\n",
              "                                          utm_medium  \\\n",
              "2  09076eb7665d1fb9389c7c4517fee0b00e43092eb34821...   \n",
              "3  09076eb7665d1fb9389c7c4517fee0b00e43092eb34821...   \n",
              "5  09076eb7665d1fb9389c7c4517fee0b00e43092eb34821...   \n",
              "6  09076eb7665d1fb9389c7c4517fee0b00e43092eb34821...   \n",
              "7  09076eb7665d1fb9389c7c4517fee0b00e43092eb34821...   \n",
              "\n",
              "                                            des_city  \\\n",
              "2  11ab03a1a8c367191355c152f39fe28cae5e426fce49ef...   \n",
              "3  19372fa44c57a01c37a5a8418779ca3d99b0b59731fb35...   \n",
              "5  f19d051291d4364989e4e957ef610448af3e05863ee1b8...   \n",
              "6  ecc0e7dc084f141b29479058967d0bc07dee25d9690a98...   \n",
              "7  8593b9db65212160979d946950601c26622a219c80f1f1...   \n",
              "\n",
              "                                         des_country  \\\n",
              "2  8d23a6e37e0a6431a8f1b43a91026dcff51170a89a6512...   \n",
              "3  8d23a6e37e0a6431a8f1b43a91026dcff51170a89a6512...   \n",
              "5  8d23a6e37e0a6431a8f1b43a91026dcff51170a89a6512...   \n",
              "6  8d23a6e37e0a6431a8f1b43a91026dcff51170a89a6512...   \n",
              "7  8d23a6e37e0a6431a8f1b43a91026dcff51170a89a6512...   \n",
              "\n",
              "                                             lead_id  \n",
              "2  96ea4e2bf04496c044745938c0299c264c3f4ba079e572...  \n",
              "3  1d2b34d8add02a182a4129023766ca4585a8ddced0e5b3...  \n",
              "5  b26f82b657d94e19ef8382877006c3e9425d7e4ab836f9...  \n",
              "6  7ea9868bb6b4ebe610b0e509950b10322bcb7241d4a101...  \n",
              "7  96ea4e2bf04496c044745938c0299c264c3f4ba079e572...  "
            ],
            "text/html": [
              "\n",
              "  <div id=\"df-127db614-e0ae-4574-be93-6d175a101984\">\n",
              "    <div class=\"colab-df-container\">\n",
              "      <div>\n",
              "<style scoped>\n",
              "    .dataframe tbody tr th:only-of-type {\n",
              "        vertical-align: middle;\n",
              "    }\n",
              "\n",
              "    .dataframe tbody tr th {\n",
              "        vertical-align: top;\n",
              "    }\n",
              "\n",
              "    .dataframe thead th {\n",
              "        text-align: right;\n",
              "    }\n",
              "</style>\n",
              "<table border=\"1\" class=\"dataframe\">\n",
              "  <thead>\n",
              "    <tr style=\"text-align: right;\">\n",
              "      <th></th>\n",
              "      <th>Unnamed: 0</th>\n",
              "      <th>Agent_id</th>\n",
              "      <th>status</th>\n",
              "      <th>lost_reason</th>\n",
              "      <th>budget</th>\n",
              "      <th>lease</th>\n",
              "      <th>source</th>\n",
              "      <th>source_city</th>\n",
              "      <th>source_country</th>\n",
              "      <th>utm_source</th>\n",
              "      <th>utm_medium</th>\n",
              "      <th>des_city</th>\n",
              "      <th>des_country</th>\n",
              "      <th>lead_id</th>\n",
              "    </tr>\n",
              "  </thead>\n",
              "  <tbody>\n",
              "    <tr>\n",
              "      <th>2</th>\n",
              "      <td>2</td>\n",
              "      <td>c213697430c006013012dd2aca82dd9732aa0a1a6bca13...</td>\n",
              "      <td>LOST</td>\n",
              "      <td>Not responding</td>\n",
              "      <td>£121 - £180 Per Week</td>\n",
              "      <td>Full Year Course Stay 40 - 44 weeks</td>\n",
              "      <td>7aae3e886e89fc1187a5c47d6cea1c22998ee610ade1f2...</td>\n",
              "      <td>9b8cc3c63cdf447e463c11544924bf027945cbd29675f7...</td>\n",
              "      <td>e09e10e67812e9d236ad900e5d46b4308fc62f5d69446a...</td>\n",
              "      <td>bbdefa2950f49882f295b1285d4fa9dec45fc4144bfb07...</td>\n",
              "      <td>09076eb7665d1fb9389c7c4517fee0b00e43092eb34821...</td>\n",
              "      <td>11ab03a1a8c367191355c152f39fe28cae5e426fce49ef...</td>\n",
              "      <td>8d23a6e37e0a6431a8f1b43a91026dcff51170a89a6512...</td>\n",
              "      <td>96ea4e2bf04496c044745938c0299c264c3f4ba079e572...</td>\n",
              "    </tr>\n",
              "    <tr>\n",
              "      <th>3</th>\n",
              "      <td>3</td>\n",
              "      <td>eac9815a500f908736d303e23aa227f0957177b0e6756b...</td>\n",
              "      <td>LOST</td>\n",
              "      <td>Low budget</td>\n",
              "      <td>0-0</td>\n",
              "      <td>0</td>\n",
              "      <td>ba2d0a29556ac20f86f45e4543c0825428cba33fd7a9ea...</td>\n",
              "      <td>a5f0d2d08eb0592087e3a3a2f9c1ba2c67cc30f2efd2bd...</td>\n",
              "      <td>e09e10e67812e9d236ad900e5d46b4308fc62f5d69446a...</td>\n",
              "      <td>bbdefa2950f49882f295b1285d4fa9dec45fc4144bfb07...</td>\n",
              "      <td>09076eb7665d1fb9389c7c4517fee0b00e43092eb34821...</td>\n",
              "      <td>19372fa44c57a01c37a5a8418779ca3d99b0b59731fb35...</td>\n",
              "      <td>8d23a6e37e0a6431a8f1b43a91026dcff51170a89a6512...</td>\n",
              "      <td>1d2b34d8add02a182a4129023766ca4585a8ddced0e5b3...</td>\n",
              "    </tr>\n",
              "    <tr>\n",
              "      <th>5</th>\n",
              "      <td>5</td>\n",
              "      <td>2306878a9ad9b57686cd623dd285aaa9b25afdf627f651...</td>\n",
              "      <td>LOST</td>\n",
              "      <td>Wants private accommodation</td>\n",
              "      <td>120</td>\n",
              "      <td>semester-stay</td>\n",
              "      <td>7bcfca0e9d73371699b0adbf1c691e02108fa64f02f4db...</td>\n",
              "      <td>7b7f15f9ffbeb905caaee265ac39d267d0512ab5333f2f...</td>\n",
              "      <td>8da82000ef9c4468ba47362a924b895e40662fed846942...</td>\n",
              "      <td>bbdefa2950f49882f295b1285d4fa9dec45fc4144bfb07...</td>\n",
              "      <td>09076eb7665d1fb9389c7c4517fee0b00e43092eb34821...</td>\n",
              "      <td>f19d051291d4364989e4e957ef610448af3e05863ee1b8...</td>\n",
              "      <td>8d23a6e37e0a6431a8f1b43a91026dcff51170a89a6512...</td>\n",
              "      <td>b26f82b657d94e19ef8382877006c3e9425d7e4ab836f9...</td>\n",
              "    </tr>\n",
              "    <tr>\n",
              "      <th>6</th>\n",
              "      <td>6</td>\n",
              "      <td>2306878a9ad9b57686cd623dd285aaa9b25afdf627f651...</td>\n",
              "      <td>LOST</td>\n",
              "      <td>Short stay</td>\n",
              "      <td>0-0</td>\n",
              "      <td>0</td>\n",
              "      <td>9ba9134a91cfc6b52ac8d480e9ad37896ca4ac216e2d79...</td>\n",
              "      <td>3c1def48af45cb9748302f34e57f2cbeb866de95beb0d2...</td>\n",
              "      <td>e09e10e67812e9d236ad900e5d46b4308fc62f5d69446a...</td>\n",
              "      <td>4688fa9ce4f64d0451be91f30a3de24a1c1c41635bd221...</td>\n",
              "      <td>09076eb7665d1fb9389c7c4517fee0b00e43092eb34821...</td>\n",
              "      <td>ecc0e7dc084f141b29479058967d0bc07dee25d9690a98...</td>\n",
              "      <td>8d23a6e37e0a6431a8f1b43a91026dcff51170a89a6512...</td>\n",
              "      <td>7ea9868bb6b4ebe610b0e509950b10322bcb7241d4a101...</td>\n",
              "    </tr>\n",
              "    <tr>\n",
              "      <th>7</th>\n",
              "      <td>7</td>\n",
              "      <td>44864c96fa1c36602f0d045b268981b6cab638a60fc207...</td>\n",
              "      <td>LOST</td>\n",
              "      <td>Wants private accommodation</td>\n",
              "      <td>£181 - £240 Per Week</td>\n",
              "      <td>51</td>\n",
              "      <td>7aae3e886e89fc1187a5c47d6cea1c22998ee610ade1f2...</td>\n",
              "      <td>8593b9db65212160979d946950601c26622a219c80f1f1...</td>\n",
              "      <td>e09e10e67812e9d236ad900e5d46b4308fc62f5d69446a...</td>\n",
              "      <td>bbdefa2950f49882f295b1285d4fa9dec45fc4144bfb07...</td>\n",
              "      <td>09076eb7665d1fb9389c7c4517fee0b00e43092eb34821...</td>\n",
              "      <td>8593b9db65212160979d946950601c26622a219c80f1f1...</td>\n",
              "      <td>8d23a6e37e0a6431a8f1b43a91026dcff51170a89a6512...</td>\n",
              "      <td>96ea4e2bf04496c044745938c0299c264c3f4ba079e572...</td>\n",
              "    </tr>\n",
              "  </tbody>\n",
              "</table>\n",
              "</div>\n",
              "      <button class=\"colab-df-convert\" onclick=\"convertToInteractive('df-127db614-e0ae-4574-be93-6d175a101984')\"\n",
              "              title=\"Convert this dataframe to an interactive table.\"\n",
              "              style=\"display:none;\">\n",
              "        \n",
              "  <svg xmlns=\"http://www.w3.org/2000/svg\" height=\"24px\"viewBox=\"0 0 24 24\"\n",
              "       width=\"24px\">\n",
              "    <path d=\"M0 0h24v24H0V0z\" fill=\"none\"/>\n",
              "    <path d=\"M18.56 5.44l.94 2.06.94-2.06 2.06-.94-2.06-.94-.94-2.06-.94 2.06-2.06.94zm-11 1L8.5 8.5l.94-2.06 2.06-.94-2.06-.94L8.5 2.5l-.94 2.06-2.06.94zm10 10l.94 2.06.94-2.06 2.06-.94-2.06-.94-.94-2.06-.94 2.06-2.06.94z\"/><path d=\"M17.41 7.96l-1.37-1.37c-.4-.4-.92-.59-1.43-.59-.52 0-1.04.2-1.43.59L10.3 9.45l-7.72 7.72c-.78.78-.78 2.05 0 2.83L4 21.41c.39.39.9.59 1.41.59.51 0 1.02-.2 1.41-.59l7.78-7.78 2.81-2.81c.8-.78.8-2.07 0-2.86zM5.41 20L4 18.59l7.72-7.72 1.47 1.35L5.41 20z\"/>\n",
              "  </svg>\n",
              "      </button>\n",
              "      \n",
              "  <style>\n",
              "    .colab-df-container {\n",
              "      display:flex;\n",
              "      flex-wrap:wrap;\n",
              "      gap: 12px;\n",
              "    }\n",
              "\n",
              "    .colab-df-convert {\n",
              "      background-color: #E8F0FE;\n",
              "      border: none;\n",
              "      border-radius: 50%;\n",
              "      cursor: pointer;\n",
              "      display: none;\n",
              "      fill: #1967D2;\n",
              "      height: 32px;\n",
              "      padding: 0 0 0 0;\n",
              "      width: 32px;\n",
              "    }\n",
              "\n",
              "    .colab-df-convert:hover {\n",
              "      background-color: #E2EBFA;\n",
              "      box-shadow: 0px 1px 2px rgba(60, 64, 67, 0.3), 0px 1px 3px 1px rgba(60, 64, 67, 0.15);\n",
              "      fill: #174EA6;\n",
              "    }\n",
              "\n",
              "    [theme=dark] .colab-df-convert {\n",
              "      background-color: #3B4455;\n",
              "      fill: #D2E3FC;\n",
              "    }\n",
              "\n",
              "    [theme=dark] .colab-df-convert:hover {\n",
              "      background-color: #434B5C;\n",
              "      box-shadow: 0px 1px 3px 1px rgba(0, 0, 0, 0.15);\n",
              "      filter: drop-shadow(0px 1px 2px rgba(0, 0, 0, 0.3));\n",
              "      fill: #FFFFFF;\n",
              "    }\n",
              "  </style>\n",
              "\n",
              "      <script>\n",
              "        const buttonEl =\n",
              "          document.querySelector('#df-127db614-e0ae-4574-be93-6d175a101984 button.colab-df-convert');\n",
              "        buttonEl.style.display =\n",
              "          google.colab.kernel.accessAllowed ? 'block' : 'none';\n",
              "\n",
              "        async function convertToInteractive(key) {\n",
              "          const element = document.querySelector('#df-127db614-e0ae-4574-be93-6d175a101984');\n",
              "          const dataTable =\n",
              "            await google.colab.kernel.invokeFunction('convertToInteractive',\n",
              "                                                     [key], {});\n",
              "          if (!dataTable) return;\n",
              "\n",
              "          const docLinkHtml = 'Like what you see? Visit the ' +\n",
              "            '<a target=\"_blank\" href=https://colab.research.google.com/notebooks/data_table.ipynb>data table notebook</a>'\n",
              "            + ' to learn more about interactive tables.';\n",
              "          element.innerHTML = '';\n",
              "          dataTable['output_type'] = 'display_data';\n",
              "          await google.colab.output.renderOutput(dataTable, element);\n",
              "          const docLink = document.createElement('div');\n",
              "          docLink.innerHTML = docLinkHtml;\n",
              "          element.appendChild(docLink);\n",
              "        }\n",
              "      </script>\n",
              "    </div>\n",
              "  </div>\n",
              "  "
            ]
          },
          "metadata": {},
          "execution_count": 22
        }
      ]
    },
    {
      "cell_type": "code",
      "source": [
        "df.nunique()"
      ],
      "metadata": {
        "colab": {
          "base_uri": "https://localhost:8080/"
        },
        "id": "yveCkq55JN_J",
        "outputId": "f808fd28-084a-4833-b2bf-9ec00a61eb10"
      },
      "execution_count": 23,
      "outputs": [
        {
          "output_type": "execute_result",
          "data": {
            "text/plain": [
              "Unnamed: 0        42552\n",
              "Agent_id            120\n",
              "status                2\n",
              "lost_reason          31\n",
              "budget             1843\n",
              "lease               304\n",
              "source              451\n",
              "source_city        4316\n",
              "source_country      183\n",
              "utm_source           32\n",
              "utm_medium           58\n",
              "des_city            216\n",
              "des_country          15\n",
              "lead_id           29106\n",
              "dtype: int64"
            ]
          },
          "metadata": {},
          "execution_count": 23
        }
      ]
    },
    {
      "cell_type": "markdown",
      "source": [
        "Droping `Unnamed: 0`, `lead_id`, `lost_reason`"
      ],
      "metadata": {
        "id": "jKL5WbnFPD2t"
      }
    },
    {
      "cell_type": "code",
      "source": [
        "df.drop(['Unnamed: 0', 'lead_id', 'lost_reason'], axis =1, inplace = True)"
      ],
      "metadata": {
        "id": "rxN_7_S_Jb_p"
      },
      "execution_count": 24,
      "outputs": []
    },
    {
      "cell_type": "markdown",
      "source": [
        "##Performing Chisquare test\n",
        "ChiSquare test is performed for checking dependency between categorical to categorical variables.\n",
        "\n",
        "P-value is calculated for each categorical variable with respect to Status\n",
        "Variables \n",
        "- P-values less than 0.05 are selected"
      ],
      "metadata": {
        "id": "z7XZmMTvR9Wy"
      }
    },
    {
      "cell_type": "code",
      "source": [
        "def chisquare(df, cat1, cat2):\n",
        "  import pandas as pd\n",
        "  from scipy.stats import chi2_contingency  \n",
        "  a,b,c,d = chi2_contingency(pd.crosstab(df[cat1], df[cat2]))\n",
        "  return b "
      ],
      "metadata": {
        "id": "XdIre4-QJq9O"
      },
      "execution_count": 25,
      "outputs": []
    },
    {
      "cell_type": "code",
      "source": [
        "Q = []\n",
        "for i in df.columns:\n",
        "  Q.append(chisquare(df, 'status',i))"
      ],
      "metadata": {
        "id": "2I3_i6g3OSFm"
      },
      "execution_count": 26,
      "outputs": []
    },
    {
      "cell_type": "code",
      "source": [
        "Q = pd.Series(Q)\n",
        "Q.index = df.columns\n",
        "Q = Q.sort_values()\n",
        "Q"
      ],
      "metadata": {
        "colab": {
          "base_uri": "https://localhost:8080/"
        },
        "id": "7HGuuhO9QS-I",
        "outputId": "2d2e5cc7-25d2-4d96-a776-3910711cb65d"
      },
      "execution_count": 27,
      "outputs": [
        {
          "output_type": "execute_result",
          "data": {
            "text/plain": [
              "status             0.000000e+00\n",
              "source             0.000000e+00\n",
              "utm_source         0.000000e+00\n",
              "lease             2.183785e-252\n",
              "des_city          9.388011e-247\n",
              "budget            1.944715e-209\n",
              "Agent_id          2.600247e-171\n",
              "utm_medium        1.079325e-125\n",
              "des_country        1.777175e-24\n",
              "source_country     3.427325e-18\n",
              "source_city        9.999956e-01\n",
              "dtype: float64"
            ]
          },
          "metadata": {},
          "execution_count": 27
        }
      ]
    },
    {
      "cell_type": "code",
      "source": [
        "important_columns = list(Q[Q<=0.5].index)"
      ],
      "metadata": {
        "id": "eTmmgjg-QaXB"
      },
      "execution_count": 28,
      "outputs": []
    },
    {
      "cell_type": "code",
      "source": [
        "data = pd.get_dummies(df[important_columns])"
      ],
      "metadata": {
        "id": "Xlyh0efdRBME"
      },
      "execution_count": 29,
      "outputs": []
    },
    {
      "cell_type": "code",
      "source": [
        "data.head()"
      ],
      "metadata": {
        "colab": {
          "base_uri": "https://localhost:8080/",
          "height": 299
        },
        "id": "zh0JlSWfRa12",
        "outputId": "d31703d1-81f9-4333-e947-670c7b5f4cd2"
      },
      "execution_count": 30,
      "outputs": [
        {
          "output_type": "execute_result",
          "data": {
            "text/plain": [
              "   status_LOST  status_WON  \\\n",
              "2            1           0   \n",
              "3            1           0   \n",
              "5            1           0   \n",
              "6            1           0   \n",
              "7            1           0   \n",
              "\n",
              "   source_003f4f0b240c2adf7bba9dc34e7c14157c2d121be34f43858d32755aa8ce749b  \\\n",
              "2                                                  0                         \n",
              "3                                                  0                         \n",
              "5                                                  0                         \n",
              "6                                                  0                         \n",
              "7                                                  0                         \n",
              "\n",
              "   source_0060db974eb8e76c7b963b6ab1807d25abb793eba22ce2c26c18459c0178566d  \\\n",
              "2                                                  0                         \n",
              "3                                                  0                         \n",
              "5                                                  0                         \n",
              "6                                                  0                         \n",
              "7                                                  0                         \n",
              "\n",
              "   source_00aac70b20edc42003bb084e3d043afe81a9620c231100548e70efcb74d19d37  \\\n",
              "2                                                  0                         \n",
              "3                                                  0                         \n",
              "5                                                  0                         \n",
              "6                                                  0                         \n",
              "7                                                  0                         \n",
              "\n",
              "   source_00ad7e2e78ec717c59e1893b3e0f2e1d405c11d9c6b4d367b03375619ec28938  \\\n",
              "2                                                  0                         \n",
              "3                                                  0                         \n",
              "5                                                  0                         \n",
              "6                                                  0                         \n",
              "7                                                  0                         \n",
              "\n",
              "   source_015e81eddfab44be16ac53a8653feab50859b4c5508a915679e33c271d2b54df  \\\n",
              "2                                                  0                         \n",
              "3                                                  0                         \n",
              "5                                                  0                         \n",
              "6                                                  0                         \n",
              "7                                                  0                         \n",
              "\n",
              "   source_0169e7f92b1b83d4abd6bfbc87f85412134021888e8a2abf63fc51b3cae37c6b  \\\n",
              "2                                                  0                         \n",
              "3                                                  0                         \n",
              "5                                                  0                         \n",
              "6                                                  0                         \n",
              "7                                                  0                         \n",
              "\n",
              "   source_01d21388868623be0581004ac1aa54189af976c5ac5010ad5983ec23f3092fc6  \\\n",
              "2                                                  0                         \n",
              "3                                                  0                         \n",
              "5                                                  0                         \n",
              "6                                                  0                         \n",
              "7                                                  0                         \n",
              "\n",
              "   source_02fdef05b288b3d6a12e3b6eb5d36aa344df56da5efb4a7811d52925e95db24c  \\\n",
              "2                                                  0                         \n",
              "3                                                  0                         \n",
              "5                                                  0                         \n",
              "6                                                  0                         \n",
              "7                                                  0                         \n",
              "\n",
              "   ...  \\\n",
              "2  ...   \n",
              "3  ...   \n",
              "5  ...   \n",
              "6  ...   \n",
              "7  ...   \n",
              "\n",
              "   source_country_e510850db99d8648b1f61ace98d3fd67ab63a7ed689e22eba1472009620c029b  \\\n",
              "2                                                  0                                 \n",
              "3                                                  0                                 \n",
              "5                                                  0                                 \n",
              "6                                                  0                                 \n",
              "7                                                  0                                 \n",
              "\n",
              "   source_country_e6ca7ff449664bd6e363db8cc72dc603b88326d1521b87ab82d4dd4bb392b73b  \\\n",
              "2                                                  0                                 \n",
              "3                                                  0                                 \n",
              "5                                                  0                                 \n",
              "6                                                  0                                 \n",
              "7                                                  0                                 \n",
              "\n",
              "   source_country_e891c4c31acbff0a99f3fbdca99e0d50a90f11083b04dcc7d8fa6089e5d02385  \\\n",
              "2                                                  0                                 \n",
              "3                                                  0                                 \n",
              "5                                                  0                                 \n",
              "6                                                  0                                 \n",
              "7                                                  0                                 \n",
              "\n",
              "   source_country_eca8280683eb029192b1f2a88d89846ce3835bc828bf62685c6f0c350418a084  \\\n",
              "2                                                  0                                 \n",
              "3                                                  0                                 \n",
              "5                                                  0                                 \n",
              "6                                                  0                                 \n",
              "7                                                  0                                 \n",
              "\n",
              "   source_country_ef38c2f2eeb87e2cbba80fa7f55f8c08fc75f944cd65f6b7f7b7c3379e6ecaaa  \\\n",
              "2                                                  0                                 \n",
              "3                                                  0                                 \n",
              "5                                                  0                                 \n",
              "6                                                  0                                 \n",
              "7                                                  0                                 \n",
              "\n",
              "   source_country_f1987974a901281b7c3ed121be5f00af0521f0873bd422f029ee3144fd4099d7  \\\n",
              "2                                                  0                                 \n",
              "3                                                  0                                 \n",
              "5                                                  0                                 \n",
              "6                                                  0                                 \n",
              "7                                                  0                                 \n",
              "\n",
              "   source_country_f24b3e6d69d95512e334bc1cd7d3a80dcd8ffd151c14e97aa06ef132df9e743e  \\\n",
              "2                                                  0                                 \n",
              "3                                                  0                                 \n",
              "5                                                  0                                 \n",
              "6                                                  0                                 \n",
              "7                                                  0                                 \n",
              "\n",
              "   source_country_f59c8750c15e65b667543a7a6b6a8e37561a9d9d18919e0b13c6c6628085ec12  \\\n",
              "2                                                  0                                 \n",
              "3                                                  0                                 \n",
              "5                                                  0                                 \n",
              "6                                                  0                                 \n",
              "7                                                  0                                 \n",
              "\n",
              "   source_country_f782d1dbfba17a52a417972d81ef55a8bc60090f4bfbcc4c5f4c8be11bf7015b  \\\n",
              "2                                                  0                                 \n",
              "3                                                  0                                 \n",
              "5                                                  0                                 \n",
              "6                                                  0                                 \n",
              "7                                                  0                                 \n",
              "\n",
              "   source_country_fde332912b5855a3ba1c42cbc50c29922e91f4f17bcaf82dc1b2c23e2747bd31  \n",
              "2                                                  0                                \n",
              "3                                                  0                                \n",
              "5                                                  0                                \n",
              "6                                                  0                                \n",
              "7                                                  0                                \n",
              "\n",
              "[5 rows x 3224 columns]"
            ],
            "text/html": [
              "\n",
              "  <div id=\"df-9e042c74-ba42-4842-9c22-d6aa8df3a55f\">\n",
              "    <div class=\"colab-df-container\">\n",
              "      <div>\n",
              "<style scoped>\n",
              "    .dataframe tbody tr th:only-of-type {\n",
              "        vertical-align: middle;\n",
              "    }\n",
              "\n",
              "    .dataframe tbody tr th {\n",
              "        vertical-align: top;\n",
              "    }\n",
              "\n",
              "    .dataframe thead th {\n",
              "        text-align: right;\n",
              "    }\n",
              "</style>\n",
              "<table border=\"1\" class=\"dataframe\">\n",
              "  <thead>\n",
              "    <tr style=\"text-align: right;\">\n",
              "      <th></th>\n",
              "      <th>status_LOST</th>\n",
              "      <th>status_WON</th>\n",
              "      <th>source_003f4f0b240c2adf7bba9dc34e7c14157c2d121be34f43858d32755aa8ce749b</th>\n",
              "      <th>source_0060db974eb8e76c7b963b6ab1807d25abb793eba22ce2c26c18459c0178566d</th>\n",
              "      <th>source_00aac70b20edc42003bb084e3d043afe81a9620c231100548e70efcb74d19d37</th>\n",
              "      <th>source_00ad7e2e78ec717c59e1893b3e0f2e1d405c11d9c6b4d367b03375619ec28938</th>\n",
              "      <th>source_015e81eddfab44be16ac53a8653feab50859b4c5508a915679e33c271d2b54df</th>\n",
              "      <th>source_0169e7f92b1b83d4abd6bfbc87f85412134021888e8a2abf63fc51b3cae37c6b</th>\n",
              "      <th>source_01d21388868623be0581004ac1aa54189af976c5ac5010ad5983ec23f3092fc6</th>\n",
              "      <th>source_02fdef05b288b3d6a12e3b6eb5d36aa344df56da5efb4a7811d52925e95db24c</th>\n",
              "      <th>...</th>\n",
              "      <th>source_country_e510850db99d8648b1f61ace98d3fd67ab63a7ed689e22eba1472009620c029b</th>\n",
              "      <th>source_country_e6ca7ff449664bd6e363db8cc72dc603b88326d1521b87ab82d4dd4bb392b73b</th>\n",
              "      <th>source_country_e891c4c31acbff0a99f3fbdca99e0d50a90f11083b04dcc7d8fa6089e5d02385</th>\n",
              "      <th>source_country_eca8280683eb029192b1f2a88d89846ce3835bc828bf62685c6f0c350418a084</th>\n",
              "      <th>source_country_ef38c2f2eeb87e2cbba80fa7f55f8c08fc75f944cd65f6b7f7b7c3379e6ecaaa</th>\n",
              "      <th>source_country_f1987974a901281b7c3ed121be5f00af0521f0873bd422f029ee3144fd4099d7</th>\n",
              "      <th>source_country_f24b3e6d69d95512e334bc1cd7d3a80dcd8ffd151c14e97aa06ef132df9e743e</th>\n",
              "      <th>source_country_f59c8750c15e65b667543a7a6b6a8e37561a9d9d18919e0b13c6c6628085ec12</th>\n",
              "      <th>source_country_f782d1dbfba17a52a417972d81ef55a8bc60090f4bfbcc4c5f4c8be11bf7015b</th>\n",
              "      <th>source_country_fde332912b5855a3ba1c42cbc50c29922e91f4f17bcaf82dc1b2c23e2747bd31</th>\n",
              "    </tr>\n",
              "  </thead>\n",
              "  <tbody>\n",
              "    <tr>\n",
              "      <th>2</th>\n",
              "      <td>1</td>\n",
              "      <td>0</td>\n",
              "      <td>0</td>\n",
              "      <td>0</td>\n",
              "      <td>0</td>\n",
              "      <td>0</td>\n",
              "      <td>0</td>\n",
              "      <td>0</td>\n",
              "      <td>0</td>\n",
              "      <td>0</td>\n",
              "      <td>...</td>\n",
              "      <td>0</td>\n",
              "      <td>0</td>\n",
              "      <td>0</td>\n",
              "      <td>0</td>\n",
              "      <td>0</td>\n",
              "      <td>0</td>\n",
              "      <td>0</td>\n",
              "      <td>0</td>\n",
              "      <td>0</td>\n",
              "      <td>0</td>\n",
              "    </tr>\n",
              "    <tr>\n",
              "      <th>3</th>\n",
              "      <td>1</td>\n",
              "      <td>0</td>\n",
              "      <td>0</td>\n",
              "      <td>0</td>\n",
              "      <td>0</td>\n",
              "      <td>0</td>\n",
              "      <td>0</td>\n",
              "      <td>0</td>\n",
              "      <td>0</td>\n",
              "      <td>0</td>\n",
              "      <td>...</td>\n",
              "      <td>0</td>\n",
              "      <td>0</td>\n",
              "      <td>0</td>\n",
              "      <td>0</td>\n",
              "      <td>0</td>\n",
              "      <td>0</td>\n",
              "      <td>0</td>\n",
              "      <td>0</td>\n",
              "      <td>0</td>\n",
              "      <td>0</td>\n",
              "    </tr>\n",
              "    <tr>\n",
              "      <th>5</th>\n",
              "      <td>1</td>\n",
              "      <td>0</td>\n",
              "      <td>0</td>\n",
              "      <td>0</td>\n",
              "      <td>0</td>\n",
              "      <td>0</td>\n",
              "      <td>0</td>\n",
              "      <td>0</td>\n",
              "      <td>0</td>\n",
              "      <td>0</td>\n",
              "      <td>...</td>\n",
              "      <td>0</td>\n",
              "      <td>0</td>\n",
              "      <td>0</td>\n",
              "      <td>0</td>\n",
              "      <td>0</td>\n",
              "      <td>0</td>\n",
              "      <td>0</td>\n",
              "      <td>0</td>\n",
              "      <td>0</td>\n",
              "      <td>0</td>\n",
              "    </tr>\n",
              "    <tr>\n",
              "      <th>6</th>\n",
              "      <td>1</td>\n",
              "      <td>0</td>\n",
              "      <td>0</td>\n",
              "      <td>0</td>\n",
              "      <td>0</td>\n",
              "      <td>0</td>\n",
              "      <td>0</td>\n",
              "      <td>0</td>\n",
              "      <td>0</td>\n",
              "      <td>0</td>\n",
              "      <td>...</td>\n",
              "      <td>0</td>\n",
              "      <td>0</td>\n",
              "      <td>0</td>\n",
              "      <td>0</td>\n",
              "      <td>0</td>\n",
              "      <td>0</td>\n",
              "      <td>0</td>\n",
              "      <td>0</td>\n",
              "      <td>0</td>\n",
              "      <td>0</td>\n",
              "    </tr>\n",
              "    <tr>\n",
              "      <th>7</th>\n",
              "      <td>1</td>\n",
              "      <td>0</td>\n",
              "      <td>0</td>\n",
              "      <td>0</td>\n",
              "      <td>0</td>\n",
              "      <td>0</td>\n",
              "      <td>0</td>\n",
              "      <td>0</td>\n",
              "      <td>0</td>\n",
              "      <td>0</td>\n",
              "      <td>...</td>\n",
              "      <td>0</td>\n",
              "      <td>0</td>\n",
              "      <td>0</td>\n",
              "      <td>0</td>\n",
              "      <td>0</td>\n",
              "      <td>0</td>\n",
              "      <td>0</td>\n",
              "      <td>0</td>\n",
              "      <td>0</td>\n",
              "      <td>0</td>\n",
              "    </tr>\n",
              "  </tbody>\n",
              "</table>\n",
              "<p>5 rows × 3224 columns</p>\n",
              "</div>\n",
              "      <button class=\"colab-df-convert\" onclick=\"convertToInteractive('df-9e042c74-ba42-4842-9c22-d6aa8df3a55f')\"\n",
              "              title=\"Convert this dataframe to an interactive table.\"\n",
              "              style=\"display:none;\">\n",
              "        \n",
              "  <svg xmlns=\"http://www.w3.org/2000/svg\" height=\"24px\"viewBox=\"0 0 24 24\"\n",
              "       width=\"24px\">\n",
              "    <path d=\"M0 0h24v24H0V0z\" fill=\"none\"/>\n",
              "    <path d=\"M18.56 5.44l.94 2.06.94-2.06 2.06-.94-2.06-.94-.94-2.06-.94 2.06-2.06.94zm-11 1L8.5 8.5l.94-2.06 2.06-.94-2.06-.94L8.5 2.5l-.94 2.06-2.06.94zm10 10l.94 2.06.94-2.06 2.06-.94-2.06-.94-.94-2.06-.94 2.06-2.06.94z\"/><path d=\"M17.41 7.96l-1.37-1.37c-.4-.4-.92-.59-1.43-.59-.52 0-1.04.2-1.43.59L10.3 9.45l-7.72 7.72c-.78.78-.78 2.05 0 2.83L4 21.41c.39.39.9.59 1.41.59.51 0 1.02-.2 1.41-.59l7.78-7.78 2.81-2.81c.8-.78.8-2.07 0-2.86zM5.41 20L4 18.59l7.72-7.72 1.47 1.35L5.41 20z\"/>\n",
              "  </svg>\n",
              "      </button>\n",
              "      \n",
              "  <style>\n",
              "    .colab-df-container {\n",
              "      display:flex;\n",
              "      flex-wrap:wrap;\n",
              "      gap: 12px;\n",
              "    }\n",
              "\n",
              "    .colab-df-convert {\n",
              "      background-color: #E8F0FE;\n",
              "      border: none;\n",
              "      border-radius: 50%;\n",
              "      cursor: pointer;\n",
              "      display: none;\n",
              "      fill: #1967D2;\n",
              "      height: 32px;\n",
              "      padding: 0 0 0 0;\n",
              "      width: 32px;\n",
              "    }\n",
              "\n",
              "    .colab-df-convert:hover {\n",
              "      background-color: #E2EBFA;\n",
              "      box-shadow: 0px 1px 2px rgba(60, 64, 67, 0.3), 0px 1px 3px 1px rgba(60, 64, 67, 0.15);\n",
              "      fill: #174EA6;\n",
              "    }\n",
              "\n",
              "    [theme=dark] .colab-df-convert {\n",
              "      background-color: #3B4455;\n",
              "      fill: #D2E3FC;\n",
              "    }\n",
              "\n",
              "    [theme=dark] .colab-df-convert:hover {\n",
              "      background-color: #434B5C;\n",
              "      box-shadow: 0px 1px 3px 1px rgba(0, 0, 0, 0.15);\n",
              "      filter: drop-shadow(0px 1px 2px rgba(0, 0, 0, 0.3));\n",
              "      fill: #FFFFFF;\n",
              "    }\n",
              "  </style>\n",
              "\n",
              "      <script>\n",
              "        const buttonEl =\n",
              "          document.querySelector('#df-9e042c74-ba42-4842-9c22-d6aa8df3a55f button.colab-df-convert');\n",
              "        buttonEl.style.display =\n",
              "          google.colab.kernel.accessAllowed ? 'block' : 'none';\n",
              "\n",
              "        async function convertToInteractive(key) {\n",
              "          const element = document.querySelector('#df-9e042c74-ba42-4842-9c22-d6aa8df3a55f');\n",
              "          const dataTable =\n",
              "            await google.colab.kernel.invokeFunction('convertToInteractive',\n",
              "                                                     [key], {});\n",
              "          if (!dataTable) return;\n",
              "\n",
              "          const docLinkHtml = 'Like what you see? Visit the ' +\n",
              "            '<a target=\"_blank\" href=https://colab.research.google.com/notebooks/data_table.ipynb>data table notebook</a>'\n",
              "            + ' to learn more about interactive tables.';\n",
              "          element.innerHTML = '';\n",
              "          dataTable['output_type'] = 'display_data';\n",
              "          await google.colab.output.renderOutput(dataTable, element);\n",
              "          const docLink = document.createElement('div');\n",
              "          docLink.innerHTML = docLinkHtml;\n",
              "          element.appendChild(docLink);\n",
              "        }\n",
              "      </script>\n",
              "    </div>\n",
              "  </div>\n",
              "  "
            ]
          },
          "metadata": {},
          "execution_count": 30
        }
      ]
    },
    {
      "cell_type": "code",
      "source": [
        "X = data.drop(['status_LOST', 'status_WON',], axis =1)\n",
        "X.head()"
      ],
      "metadata": {
        "colab": {
          "base_uri": "https://localhost:8080/",
          "height": 299
        },
        "id": "51e7f1XZRdQ9",
        "outputId": "0b5c1604-e76a-4fe0-f6e5-2cb2387e8e89"
      },
      "execution_count": 31,
      "outputs": [
        {
          "output_type": "execute_result",
          "data": {
            "text/plain": [
              "   source_003f4f0b240c2adf7bba9dc34e7c14157c2d121be34f43858d32755aa8ce749b  \\\n",
              "2                                                  0                         \n",
              "3                                                  0                         \n",
              "5                                                  0                         \n",
              "6                                                  0                         \n",
              "7                                                  0                         \n",
              "\n",
              "   source_0060db974eb8e76c7b963b6ab1807d25abb793eba22ce2c26c18459c0178566d  \\\n",
              "2                                                  0                         \n",
              "3                                                  0                         \n",
              "5                                                  0                         \n",
              "6                                                  0                         \n",
              "7                                                  0                         \n",
              "\n",
              "   source_00aac70b20edc42003bb084e3d043afe81a9620c231100548e70efcb74d19d37  \\\n",
              "2                                                  0                         \n",
              "3                                                  0                         \n",
              "5                                                  0                         \n",
              "6                                                  0                         \n",
              "7                                                  0                         \n",
              "\n",
              "   source_00ad7e2e78ec717c59e1893b3e0f2e1d405c11d9c6b4d367b03375619ec28938  \\\n",
              "2                                                  0                         \n",
              "3                                                  0                         \n",
              "5                                                  0                         \n",
              "6                                                  0                         \n",
              "7                                                  0                         \n",
              "\n",
              "   source_015e81eddfab44be16ac53a8653feab50859b4c5508a915679e33c271d2b54df  \\\n",
              "2                                                  0                         \n",
              "3                                                  0                         \n",
              "5                                                  0                         \n",
              "6                                                  0                         \n",
              "7                                                  0                         \n",
              "\n",
              "   source_0169e7f92b1b83d4abd6bfbc87f85412134021888e8a2abf63fc51b3cae37c6b  \\\n",
              "2                                                  0                         \n",
              "3                                                  0                         \n",
              "5                                                  0                         \n",
              "6                                                  0                         \n",
              "7                                                  0                         \n",
              "\n",
              "   source_01d21388868623be0581004ac1aa54189af976c5ac5010ad5983ec23f3092fc6  \\\n",
              "2                                                  0                         \n",
              "3                                                  0                         \n",
              "5                                                  0                         \n",
              "6                                                  0                         \n",
              "7                                                  0                         \n",
              "\n",
              "   source_02fdef05b288b3d6a12e3b6eb5d36aa344df56da5efb4a7811d52925e95db24c  \\\n",
              "2                                                  0                         \n",
              "3                                                  0                         \n",
              "5                                                  0                         \n",
              "6                                                  0                         \n",
              "7                                                  0                         \n",
              "\n",
              "   source_0301cabc002c720a1bb3131bfce8b5577adcde08d15f392f2687234e4870a86b  \\\n",
              "2                                                  0                         \n",
              "3                                                  0                         \n",
              "5                                                  0                         \n",
              "6                                                  0                         \n",
              "7                                                  0                         \n",
              "\n",
              "   source_0371fc7cdb0ab35c882c492829dda05076e162691e6550e82bdf842471377d64  \\\n",
              "2                                                  0                         \n",
              "3                                                  0                         \n",
              "5                                                  0                         \n",
              "6                                                  0                         \n",
              "7                                                  0                         \n",
              "\n",
              "   ...  \\\n",
              "2  ...   \n",
              "3  ...   \n",
              "5  ...   \n",
              "6  ...   \n",
              "7  ...   \n",
              "\n",
              "   source_country_e510850db99d8648b1f61ace98d3fd67ab63a7ed689e22eba1472009620c029b  \\\n",
              "2                                                  0                                 \n",
              "3                                                  0                                 \n",
              "5                                                  0                                 \n",
              "6                                                  0                                 \n",
              "7                                                  0                                 \n",
              "\n",
              "   source_country_e6ca7ff449664bd6e363db8cc72dc603b88326d1521b87ab82d4dd4bb392b73b  \\\n",
              "2                                                  0                                 \n",
              "3                                                  0                                 \n",
              "5                                                  0                                 \n",
              "6                                                  0                                 \n",
              "7                                                  0                                 \n",
              "\n",
              "   source_country_e891c4c31acbff0a99f3fbdca99e0d50a90f11083b04dcc7d8fa6089e5d02385  \\\n",
              "2                                                  0                                 \n",
              "3                                                  0                                 \n",
              "5                                                  0                                 \n",
              "6                                                  0                                 \n",
              "7                                                  0                                 \n",
              "\n",
              "   source_country_eca8280683eb029192b1f2a88d89846ce3835bc828bf62685c6f0c350418a084  \\\n",
              "2                                                  0                                 \n",
              "3                                                  0                                 \n",
              "5                                                  0                                 \n",
              "6                                                  0                                 \n",
              "7                                                  0                                 \n",
              "\n",
              "   source_country_ef38c2f2eeb87e2cbba80fa7f55f8c08fc75f944cd65f6b7f7b7c3379e6ecaaa  \\\n",
              "2                                                  0                                 \n",
              "3                                                  0                                 \n",
              "5                                                  0                                 \n",
              "6                                                  0                                 \n",
              "7                                                  0                                 \n",
              "\n",
              "   source_country_f1987974a901281b7c3ed121be5f00af0521f0873bd422f029ee3144fd4099d7  \\\n",
              "2                                                  0                                 \n",
              "3                                                  0                                 \n",
              "5                                                  0                                 \n",
              "6                                                  0                                 \n",
              "7                                                  0                                 \n",
              "\n",
              "   source_country_f24b3e6d69d95512e334bc1cd7d3a80dcd8ffd151c14e97aa06ef132df9e743e  \\\n",
              "2                                                  0                                 \n",
              "3                                                  0                                 \n",
              "5                                                  0                                 \n",
              "6                                                  0                                 \n",
              "7                                                  0                                 \n",
              "\n",
              "   source_country_f59c8750c15e65b667543a7a6b6a8e37561a9d9d18919e0b13c6c6628085ec12  \\\n",
              "2                                                  0                                 \n",
              "3                                                  0                                 \n",
              "5                                                  0                                 \n",
              "6                                                  0                                 \n",
              "7                                                  0                                 \n",
              "\n",
              "   source_country_f782d1dbfba17a52a417972d81ef55a8bc60090f4bfbcc4c5f4c8be11bf7015b  \\\n",
              "2                                                  0                                 \n",
              "3                                                  0                                 \n",
              "5                                                  0                                 \n",
              "6                                                  0                                 \n",
              "7                                                  0                                 \n",
              "\n",
              "   source_country_fde332912b5855a3ba1c42cbc50c29922e91f4f17bcaf82dc1b2c23e2747bd31  \n",
              "2                                                  0                                \n",
              "3                                                  0                                \n",
              "5                                                  0                                \n",
              "6                                                  0                                \n",
              "7                                                  0                                \n",
              "\n",
              "[5 rows x 3222 columns]"
            ],
            "text/html": [
              "\n",
              "  <div id=\"df-f17a65e6-d5e2-4fb6-9e60-2ba6c49aa16b\">\n",
              "    <div class=\"colab-df-container\">\n",
              "      <div>\n",
              "<style scoped>\n",
              "    .dataframe tbody tr th:only-of-type {\n",
              "        vertical-align: middle;\n",
              "    }\n",
              "\n",
              "    .dataframe tbody tr th {\n",
              "        vertical-align: top;\n",
              "    }\n",
              "\n",
              "    .dataframe thead th {\n",
              "        text-align: right;\n",
              "    }\n",
              "</style>\n",
              "<table border=\"1\" class=\"dataframe\">\n",
              "  <thead>\n",
              "    <tr style=\"text-align: right;\">\n",
              "      <th></th>\n",
              "      <th>source_003f4f0b240c2adf7bba9dc34e7c14157c2d121be34f43858d32755aa8ce749b</th>\n",
              "      <th>source_0060db974eb8e76c7b963b6ab1807d25abb793eba22ce2c26c18459c0178566d</th>\n",
              "      <th>source_00aac70b20edc42003bb084e3d043afe81a9620c231100548e70efcb74d19d37</th>\n",
              "      <th>source_00ad7e2e78ec717c59e1893b3e0f2e1d405c11d9c6b4d367b03375619ec28938</th>\n",
              "      <th>source_015e81eddfab44be16ac53a8653feab50859b4c5508a915679e33c271d2b54df</th>\n",
              "      <th>source_0169e7f92b1b83d4abd6bfbc87f85412134021888e8a2abf63fc51b3cae37c6b</th>\n",
              "      <th>source_01d21388868623be0581004ac1aa54189af976c5ac5010ad5983ec23f3092fc6</th>\n",
              "      <th>source_02fdef05b288b3d6a12e3b6eb5d36aa344df56da5efb4a7811d52925e95db24c</th>\n",
              "      <th>source_0301cabc002c720a1bb3131bfce8b5577adcde08d15f392f2687234e4870a86b</th>\n",
              "      <th>source_0371fc7cdb0ab35c882c492829dda05076e162691e6550e82bdf842471377d64</th>\n",
              "      <th>...</th>\n",
              "      <th>source_country_e510850db99d8648b1f61ace98d3fd67ab63a7ed689e22eba1472009620c029b</th>\n",
              "      <th>source_country_e6ca7ff449664bd6e363db8cc72dc603b88326d1521b87ab82d4dd4bb392b73b</th>\n",
              "      <th>source_country_e891c4c31acbff0a99f3fbdca99e0d50a90f11083b04dcc7d8fa6089e5d02385</th>\n",
              "      <th>source_country_eca8280683eb029192b1f2a88d89846ce3835bc828bf62685c6f0c350418a084</th>\n",
              "      <th>source_country_ef38c2f2eeb87e2cbba80fa7f55f8c08fc75f944cd65f6b7f7b7c3379e6ecaaa</th>\n",
              "      <th>source_country_f1987974a901281b7c3ed121be5f00af0521f0873bd422f029ee3144fd4099d7</th>\n",
              "      <th>source_country_f24b3e6d69d95512e334bc1cd7d3a80dcd8ffd151c14e97aa06ef132df9e743e</th>\n",
              "      <th>source_country_f59c8750c15e65b667543a7a6b6a8e37561a9d9d18919e0b13c6c6628085ec12</th>\n",
              "      <th>source_country_f782d1dbfba17a52a417972d81ef55a8bc60090f4bfbcc4c5f4c8be11bf7015b</th>\n",
              "      <th>source_country_fde332912b5855a3ba1c42cbc50c29922e91f4f17bcaf82dc1b2c23e2747bd31</th>\n",
              "    </tr>\n",
              "  </thead>\n",
              "  <tbody>\n",
              "    <tr>\n",
              "      <th>2</th>\n",
              "      <td>0</td>\n",
              "      <td>0</td>\n",
              "      <td>0</td>\n",
              "      <td>0</td>\n",
              "      <td>0</td>\n",
              "      <td>0</td>\n",
              "      <td>0</td>\n",
              "      <td>0</td>\n",
              "      <td>0</td>\n",
              "      <td>0</td>\n",
              "      <td>...</td>\n",
              "      <td>0</td>\n",
              "      <td>0</td>\n",
              "      <td>0</td>\n",
              "      <td>0</td>\n",
              "      <td>0</td>\n",
              "      <td>0</td>\n",
              "      <td>0</td>\n",
              "      <td>0</td>\n",
              "      <td>0</td>\n",
              "      <td>0</td>\n",
              "    </tr>\n",
              "    <tr>\n",
              "      <th>3</th>\n",
              "      <td>0</td>\n",
              "      <td>0</td>\n",
              "      <td>0</td>\n",
              "      <td>0</td>\n",
              "      <td>0</td>\n",
              "      <td>0</td>\n",
              "      <td>0</td>\n",
              "      <td>0</td>\n",
              "      <td>0</td>\n",
              "      <td>0</td>\n",
              "      <td>...</td>\n",
              "      <td>0</td>\n",
              "      <td>0</td>\n",
              "      <td>0</td>\n",
              "      <td>0</td>\n",
              "      <td>0</td>\n",
              "      <td>0</td>\n",
              "      <td>0</td>\n",
              "      <td>0</td>\n",
              "      <td>0</td>\n",
              "      <td>0</td>\n",
              "    </tr>\n",
              "    <tr>\n",
              "      <th>5</th>\n",
              "      <td>0</td>\n",
              "      <td>0</td>\n",
              "      <td>0</td>\n",
              "      <td>0</td>\n",
              "      <td>0</td>\n",
              "      <td>0</td>\n",
              "      <td>0</td>\n",
              "      <td>0</td>\n",
              "      <td>0</td>\n",
              "      <td>0</td>\n",
              "      <td>...</td>\n",
              "      <td>0</td>\n",
              "      <td>0</td>\n",
              "      <td>0</td>\n",
              "      <td>0</td>\n",
              "      <td>0</td>\n",
              "      <td>0</td>\n",
              "      <td>0</td>\n",
              "      <td>0</td>\n",
              "      <td>0</td>\n",
              "      <td>0</td>\n",
              "    </tr>\n",
              "    <tr>\n",
              "      <th>6</th>\n",
              "      <td>0</td>\n",
              "      <td>0</td>\n",
              "      <td>0</td>\n",
              "      <td>0</td>\n",
              "      <td>0</td>\n",
              "      <td>0</td>\n",
              "      <td>0</td>\n",
              "      <td>0</td>\n",
              "      <td>0</td>\n",
              "      <td>0</td>\n",
              "      <td>...</td>\n",
              "      <td>0</td>\n",
              "      <td>0</td>\n",
              "      <td>0</td>\n",
              "      <td>0</td>\n",
              "      <td>0</td>\n",
              "      <td>0</td>\n",
              "      <td>0</td>\n",
              "      <td>0</td>\n",
              "      <td>0</td>\n",
              "      <td>0</td>\n",
              "    </tr>\n",
              "    <tr>\n",
              "      <th>7</th>\n",
              "      <td>0</td>\n",
              "      <td>0</td>\n",
              "      <td>0</td>\n",
              "      <td>0</td>\n",
              "      <td>0</td>\n",
              "      <td>0</td>\n",
              "      <td>0</td>\n",
              "      <td>0</td>\n",
              "      <td>0</td>\n",
              "      <td>0</td>\n",
              "      <td>...</td>\n",
              "      <td>0</td>\n",
              "      <td>0</td>\n",
              "      <td>0</td>\n",
              "      <td>0</td>\n",
              "      <td>0</td>\n",
              "      <td>0</td>\n",
              "      <td>0</td>\n",
              "      <td>0</td>\n",
              "      <td>0</td>\n",
              "      <td>0</td>\n",
              "    </tr>\n",
              "  </tbody>\n",
              "</table>\n",
              "<p>5 rows × 3222 columns</p>\n",
              "</div>\n",
              "      <button class=\"colab-df-convert\" onclick=\"convertToInteractive('df-f17a65e6-d5e2-4fb6-9e60-2ba6c49aa16b')\"\n",
              "              title=\"Convert this dataframe to an interactive table.\"\n",
              "              style=\"display:none;\">\n",
              "        \n",
              "  <svg xmlns=\"http://www.w3.org/2000/svg\" height=\"24px\"viewBox=\"0 0 24 24\"\n",
              "       width=\"24px\">\n",
              "    <path d=\"M0 0h24v24H0V0z\" fill=\"none\"/>\n",
              "    <path d=\"M18.56 5.44l.94 2.06.94-2.06 2.06-.94-2.06-.94-.94-2.06-.94 2.06-2.06.94zm-11 1L8.5 8.5l.94-2.06 2.06-.94-2.06-.94L8.5 2.5l-.94 2.06-2.06.94zm10 10l.94 2.06.94-2.06 2.06-.94-2.06-.94-.94-2.06-.94 2.06-2.06.94z\"/><path d=\"M17.41 7.96l-1.37-1.37c-.4-.4-.92-.59-1.43-.59-.52 0-1.04.2-1.43.59L10.3 9.45l-7.72 7.72c-.78.78-.78 2.05 0 2.83L4 21.41c.39.39.9.59 1.41.59.51 0 1.02-.2 1.41-.59l7.78-7.78 2.81-2.81c.8-.78.8-2.07 0-2.86zM5.41 20L4 18.59l7.72-7.72 1.47 1.35L5.41 20z\"/>\n",
              "  </svg>\n",
              "      </button>\n",
              "      \n",
              "  <style>\n",
              "    .colab-df-container {\n",
              "      display:flex;\n",
              "      flex-wrap:wrap;\n",
              "      gap: 12px;\n",
              "    }\n",
              "\n",
              "    .colab-df-convert {\n",
              "      background-color: #E8F0FE;\n",
              "      border: none;\n",
              "      border-radius: 50%;\n",
              "      cursor: pointer;\n",
              "      display: none;\n",
              "      fill: #1967D2;\n",
              "      height: 32px;\n",
              "      padding: 0 0 0 0;\n",
              "      width: 32px;\n",
              "    }\n",
              "\n",
              "    .colab-df-convert:hover {\n",
              "      background-color: #E2EBFA;\n",
              "      box-shadow: 0px 1px 2px rgba(60, 64, 67, 0.3), 0px 1px 3px 1px rgba(60, 64, 67, 0.15);\n",
              "      fill: #174EA6;\n",
              "    }\n",
              "\n",
              "    [theme=dark] .colab-df-convert {\n",
              "      background-color: #3B4455;\n",
              "      fill: #D2E3FC;\n",
              "    }\n",
              "\n",
              "    [theme=dark] .colab-df-convert:hover {\n",
              "      background-color: #434B5C;\n",
              "      box-shadow: 0px 1px 3px 1px rgba(0, 0, 0, 0.15);\n",
              "      filter: drop-shadow(0px 1px 2px rgba(0, 0, 0, 0.3));\n",
              "      fill: #FFFFFF;\n",
              "    }\n",
              "  </style>\n",
              "\n",
              "      <script>\n",
              "        const buttonEl =\n",
              "          document.querySelector('#df-f17a65e6-d5e2-4fb6-9e60-2ba6c49aa16b button.colab-df-convert');\n",
              "        buttonEl.style.display =\n",
              "          google.colab.kernel.accessAllowed ? 'block' : 'none';\n",
              "\n",
              "        async function convertToInteractive(key) {\n",
              "          const element = document.querySelector('#df-f17a65e6-d5e2-4fb6-9e60-2ba6c49aa16b');\n",
              "          const dataTable =\n",
              "            await google.colab.kernel.invokeFunction('convertToInteractive',\n",
              "                                                     [key], {});\n",
              "          if (!dataTable) return;\n",
              "\n",
              "          const docLinkHtml = 'Like what you see? Visit the ' +\n",
              "            '<a target=\"_blank\" href=https://colab.research.google.com/notebooks/data_table.ipynb>data table notebook</a>'\n",
              "            + ' to learn more about interactive tables.';\n",
              "          element.innerHTML = '';\n",
              "          dataTable['output_type'] = 'display_data';\n",
              "          await google.colab.output.renderOutput(dataTable, element);\n",
              "          const docLink = document.createElement('div');\n",
              "          docLink.innerHTML = docLinkHtml;\n",
              "          element.appendChild(docLink);\n",
              "        }\n",
              "      </script>\n",
              "    </div>\n",
              "  </div>\n",
              "  "
            ]
          },
          "metadata": {},
          "execution_count": 31
        }
      ]
    },
    {
      "cell_type": "code",
      "source": [
        "y = data['status_WON']"
      ],
      "metadata": {
        "id": "W2JTKoNOSkyV"
      },
      "execution_count": 32,
      "outputs": []
    },
    {
      "cell_type": "code",
      "source": [
        "X.shape, y.shape"
      ],
      "metadata": {
        "colab": {
          "base_uri": "https://localhost:8080/"
        },
        "id": "RkQGzk-4TeAb",
        "outputId": "49bb96c7-fd6e-44c0-def6-956b119d3403"
      },
      "execution_count": 33,
      "outputs": [
        {
          "output_type": "execute_result",
          "data": {
            "text/plain": [
              "((42552, 3222), (42552,))"
            ]
          },
          "metadata": {},
          "execution_count": 33
        }
      ]
    },
    {
      "cell_type": "markdown",
      "source": [
        "### Splitting Data in training and test split"
      ],
      "metadata": {
        "id": "05oVryUhTPXT"
      }
    },
    {
      "cell_type": "code",
      "source": [
        "from sklearn.model_selection import train_test_split"
      ],
      "metadata": {
        "id": "iovRId0VTFAS"
      },
      "execution_count": 34,
      "outputs": []
    },
    {
      "cell_type": "code",
      "source": [
        "X_train, X_test, y_train, y_test = train_test_split(X, y,\n",
        "                                                    test_size = 0.2,\n",
        "                                                    random_state = 42)"
      ],
      "metadata": {
        "id": "HJTDepTjTcVw"
      },
      "execution_count": 35,
      "outputs": []
    },
    {
      "cell_type": "code",
      "source": [
        "len(X_train), len(X_test), len(y_train), len(y_test)"
      ],
      "metadata": {
        "colab": {
          "base_uri": "https://localhost:8080/"
        },
        "id": "3lsUgDzqTsv_",
        "outputId": "b995dd47-e5ce-467e-bc0f-d978ca30e1b2"
      },
      "execution_count": 36,
      "outputs": [
        {
          "output_type": "execute_result",
          "data": {
            "text/plain": [
              "(34041, 8511, 34041, 8511)"
            ]
          },
          "metadata": {},
          "execution_count": 36
        }
      ]
    },
    {
      "cell_type": "markdown",
      "source": [
        "## Modelling Experiments "
      ],
      "metadata": {
        "id": "Xp9cWHDFUJKx"
      }
    },
    {
      "cell_type": "code",
      "source": [
        "from sklearn.model_selection import GridSearchCV\n",
        "from sklearn.linear_model import LogisticRegression\n",
        "from sklearn.svm import SVC \n",
        "from sklearn.tree import DecisionTreeClassifier\n",
        "from sklearn.neighbors import KNeighborsClassifier"
      ],
      "metadata": {
        "id": "H41RGJZ0aaIi"
      },
      "execution_count": 37,
      "outputs": []
    },
    {
      "cell_type": "code",
      "source": [
        "def plot_confusion_matrix(y, y_predict):\n",
        "  from sklearn.metrics import confusion_matrix \n",
        "\n",
        "  cm = confusion_matrix(y, y_predict)\n",
        "  ax = plt.subplot()\n",
        "  sns.heatmap(cm, annot = True, ax = ax)\n",
        "  ax.set_xlabel('Predicted labels')\n",
        "  ax.set_ylabel('True Labels')\n",
        "  ax.set_title('Confusion Matrix')\n",
        "  ax.xaxis.set_ticklabels(['Lost', 'Won'])\n",
        "  ax.yaxis.set_ticklabels(['Lost', 'Won'])\n",
        "  plt.show()"
      ],
      "metadata": {
        "id": "ocIh59VbbFan"
      },
      "execution_count": 38,
      "outputs": []
    },
    {
      "cell_type": "code",
      "source": [
        "def calculate_results(y_true, y_pred):\n",
        "  from sklearn.metrics import accuracy_score, precision_recall_fscore_support\n",
        "\n",
        "  \"\"\"\n",
        "  Calculates model accuracy, precision, recall and f1 score of a binary classification model.\n",
        "  Args:\n",
        "      y_true: true labels in the form of a 1D array\n",
        "      y_pred: predicted labels in the form of a 1D array\n",
        "  Returns a dictionary of accuracy, precision, recall, f1-score.\n",
        "  \"\"\"\n",
        "  # Calculate model accuracy\n",
        "  model_accuracy = accuracy_score(y_true, y_pred) * 100\n",
        "  # Calculate model precision, recall and f1 score using \"weighted average\n",
        "  model_precision, model_recall, model_f1, _ = precision_recall_fscore_support(y_true, y_pred, average=\"weighted\")\n",
        "  model_results = {\"accuracy\": model_accuracy,\n",
        "                  \"precision\": model_precision,\n",
        "                  \"recall\": model_recall,\n",
        "                  \"f1\": model_f1}\n",
        "  return model_results"
      ],
      "metadata": {
        "id": "L_TOlwby3BcF"
      },
      "execution_count": 39,
      "outputs": []
    },
    {
      "cell_type": "markdown",
      "source": [
        "##Model 1 : Logistic Regression \n",
        "Creating a logistic regression object then create a GridSearchCV object `logreg_cv` with cv = 10. Fitting the object to find the best parameters from dictionary. "
      ],
      "metadata": {
        "id": "1Kj62IQNy36M"
      }
    },
    {
      "cell_type": "code",
      "source": [
        "parameters = {\"C\" : [0.01,0.1,1],\n",
        "              'penalty' : ['l2'], #l1 lasso l2 ridge \n",
        "              'solver' : ['lbfgs']}\n",
        "lr = LogisticRegression()\n",
        "gs_cv = GridSearchCV(lr, parameters, scoring = 'accuracy', cv = 10)\n",
        "logreg_cv = gs_cv.fit(X_train, y_train)"
      ],
      "metadata": {
        "id": "nr-A31FnWZg5"
      },
      "execution_count": 40,
      "outputs": []
    },
    {
      "cell_type": "markdown",
      "source": [
        "`GridSearchCV` object for logistic regression. \n",
        "- we can display the best parameters using the data attribute `best_params_` and the accuracy on validation data using the data attribute `best_score_`\n"
      ],
      "metadata": {
        "id": "FbkY9vSUzXOj"
      }
    },
    {
      "cell_type": "code",
      "source": [
        "print(\"tuned hyperparameters (best_parameters):\", logreg_cv.best_params_)\n",
        "print(\"accuracy: \", logreg_cv.best_score_)"
      ],
      "metadata": {
        "colab": {
          "base_uri": "https://localhost:8080/"
        },
        "id": "ewZxF_ZWzYhf",
        "outputId": "9737952e-fbfc-4e46-a730-6673c7e76076"
      },
      "execution_count": 41,
      "outputs": [
        {
          "output_type": "stream",
          "name": "stdout",
          "text": [
            "tuned hyperparameters (best_parameters): {'C': 0.1, 'penalty': 'l2', 'solver': 'lbfgs'}\n",
            "accuracy:  0.9323463024411118\n"
          ]
        }
      ]
    },
    {
      "cell_type": "markdown",
      "source": [
        "Let's look at the confusion matrix "
      ],
      "metadata": {
        "id": "cjEeBxfb1Kuj"
      }
    },
    {
      "cell_type": "code",
      "source": [
        "y_hat = logreg_cv.predict(X_test)\n",
        "plot_confusion_matrix(y_test, y_hat)"
      ],
      "metadata": {
        "colab": {
          "base_uri": "https://localhost:8080/",
          "height": 295
        },
        "id": "4_Y1cU4G1EAs",
        "outputId": "1e4fe3ac-49e9-41ec-d849-9b6ff6dc2fc0"
      },
      "execution_count": 42,
      "outputs": [
        {
          "output_type": "display_data",
          "data": {
            "text/plain": [
              "<Figure size 432x288 with 2 Axes>"
            ],
            "image/png": "[encoded data removed]"
          },
          "metadata": {
            "needs_background": "light"
          }
        }
      ]
    },
    {
      "cell_type": "code",
      "source": [
        "y_hat[:100]"
      ],
      "metadata": {
        "colab": {
          "base_uri": "https://localhost:8080/"
        },
        "id": "-2VacHkQMPzR",
        "outputId": "193d75fc-cf85-41bf-9b05-ffd2d583fe64"
      },
      "execution_count": 43,
      "outputs": [
        {
          "output_type": "execute_result",
          "data": {
            "text/plain": [
              "array([0, 0, 0, 0, 0, 0, 0, 0, 0, 0, 0, 0, 0, 0, 0, 0, 0, 0, 0, 0, 0, 0,\n",
              "       0, 0, 0, 0, 0, 0, 0, 0, 0, 0, 0, 0, 0, 0, 0, 0, 0, 0, 0, 0, 0, 0,\n",
              "       0, 0, 0, 0, 0, 0, 0, 0, 0, 0, 0, 0, 0, 0, 0, 0, 0, 0, 0, 0, 0, 0,\n",
              "       0, 0, 0, 0, 0, 0, 0, 0, 0, 0, 0, 0, 0, 0, 0, 0, 0, 0, 0, 1, 0, 0,\n",
              "       0, 0, 0, 0, 0, 0, 0, 0, 0, 0, 0, 0], dtype=uint8)"
            ]
          },
          "metadata": {},
          "execution_count": 43
        }
      ]
    },
    {
      "cell_type": "code",
      "source": [
        "logistic_regression_model_result = calculate_results(y_true = y_test,\n",
        "                                                     y_pred = y_hat)\n",
        "logistic_regression_model_result"
      ],
      "metadata": {
        "colab": {
          "base_uri": "https://localhost:8080/"
        },
        "id": "v3FgtH4j1zHU",
        "outputId": "1ef9c54c-87ac-4e84-a974-53e3a365cc32"
      },
      "execution_count": 44,
      "outputs": [
        {
          "output_type": "execute_result",
          "data": {
            "text/plain": [
              "{'accuracy': 92.90330160968159,\n",
              " 'precision': 0.904054915215343,\n",
              " 'recall': 0.9290330160968159,\n",
              " 'f1': 0.9028497054438386}"
            ]
          },
          "metadata": {},
          "execution_count": 44
        }
      ]
    },
    {
      "cell_type": "markdown",
      "source": [
        "## Model 2 : DecisionTreeClassifier"
      ],
      "metadata": {
        "id": "Lx-6jyO37qe0"
      }
    },
    {
      "cell_type": "code",
      "source": [
        "tree = DecisionTreeClassifier()\n",
        "tree_cv = tree.fit(X_train, y_train)"
      ],
      "metadata": {
        "id": "z4DEZe1j71Fd"
      },
      "execution_count": 45,
      "outputs": []
    },
    {
      "cell_type": "code",
      "source": [
        "tree_cv.score(X_test, y_test)"
      ],
      "metadata": {
        "colab": {
          "base_uri": "https://localhost:8080/"
        },
        "id": "4GGy1SMpKVus",
        "outputId": "a12e7fb1-9e30-45cb-b365-414300b21711"
      },
      "execution_count": 46,
      "outputs": [
        {
          "output_type": "execute_result",
          "data": {
            "text/plain": [
              "0.9047115497591353"
            ]
          },
          "metadata": {},
          "execution_count": 46
        }
      ]
    },
    {
      "cell_type": "code",
      "source": [
        "yhat_tree = tree_cv.predict(X_test)\n",
        "plot_confusion_matrix(y_test, yhat_tree)"
      ],
      "metadata": {
        "colab": {
          "base_uri": "https://localhost:8080/",
          "height": 295
        },
        "id": "0F1o4cGCKde_",
        "outputId": "69511585-2c93-42a5-cda9-9fd489d2a210"
      },
      "execution_count": 47,
      "outputs": [
        {
          "output_type": "display_data",
          "data": {
            "text/plain": [
              "<Figure size 432x288 with 2 Axes>"
            ],
            "image/png": "[encoded data removed]"
          },
          "metadata": {
            "needs_background": "light"
          }
        }
      ]
    },
    {
      "cell_type": "code",
      "source": [
        "yhat_tree[:100]"
      ],
      "metadata": {
        "colab": {
          "base_uri": "https://localhost:8080/"
        },
        "id": "xhwIYYDnLiH2",
        "outputId": "c3e8a896-8fce-426e-97b5-61560dc089d0"
      },
      "execution_count": 48,
      "outputs": [
        {
          "output_type": "execute_result",
          "data": {
            "text/plain": [
              "array([0, 0, 0, 0, 0, 0, 0, 0, 0, 0, 0, 0, 0, 1, 0, 0, 0, 0, 0, 0, 1, 0,\n",
              "       0, 0, 0, 0, 0, 0, 0, 0, 0, 0, 0, 0, 0, 1, 0, 0, 0, 0, 0, 0, 1, 0,\n",
              "       0, 0, 0, 0, 0, 0, 0, 0, 0, 0, 0, 0, 0, 0, 0, 0, 0, 1, 0, 0, 1, 0,\n",
              "       0, 0, 0, 0, 0, 0, 0, 0, 0, 0, 0, 0, 0, 0, 0, 0, 0, 0, 0, 1, 0, 0,\n",
              "       0, 0, 0, 0, 0, 0, 0, 0, 0, 1, 0, 0], dtype=uint8)"
            ]
          },
          "metadata": {},
          "execution_count": 48
        }
      ]
    },
    {
      "cell_type": "code",
      "source": [
        "decision_tree_model_result = calculate_results(y_true = y_test,\n",
        "                                                     y_pred = yhat_tree)\n",
        "decision_tree_model_result"
      ],
      "metadata": {
        "colab": {
          "base_uri": "https://localhost:8080/"
        },
        "id": "Z7HVdkp1LK2y",
        "outputId": "6ea04609-7b4c-46f9-a84c-74735ff32ad6"
      },
      "execution_count": 49,
      "outputs": [
        {
          "output_type": "execute_result",
          "data": {
            "text/plain": [
              "{'accuracy': 90.47115497591352,\n",
              " 'precision': 0.8866185295680441,\n",
              " 'recall': 0.9047115497591353,\n",
              " 'f1': 0.8948075520412215}"
            ]
          },
          "metadata": {},
          "execution_count": 49
        }
      ]
    },
    {
      "cell_type": "code",
      "source": [
        "all_model_results = pd.DataFrame({'LR':logistic_regression_model_result, \n",
        "                                  'Decision tree' : decision_tree_model_result}).T"
      ],
      "metadata": {
        "id": "a4sbsFOzkhuS"
      },
      "execution_count": 66,
      "outputs": []
    },
    {
      "cell_type": "code",
      "source": [
        "\n",
        "all_model_results['accuracy'] = all_model_results['accuracy']/100\n",
        "all_model_results.plot(kind = 'bar')"
      ],
      "metadata": {
        "id": "Lo8Otyuc0NTu",
        "outputId": "c68b6158-3546-4b85-940c-c7d228cfc233",
        "colab": {
          "base_uri": "https://localhost:8080/",
          "height": 339
        }
      },
      "execution_count": 68,
      "outputs": [
        {
          "output_type": "execute_result",
          "data": {
            "text/plain": [
              "<Axes: >"
            ]
          },
          "metadata": {},
          "execution_count": 68
        },
        {
          "output_type": "display_data",
          "data": {
            "text/plain": [
              "<Figure size 432x288 with 1 Axes>"
            ],
            "image/png": "[encoded data removed]"
          },
          "metadata": {
            "needs_background": "light"
          }
        }
      ]
    },
    {
      "cell_type": "markdown",
      "source": [
        "\n",
        "Logistic Regrssion performing better. \n",
        "###Now calculating the lead score as an output of input features, with best model. "
      ],
      "metadata": {
        "id": "7Od1YhDzOnVZ"
      }
    },
    {
      "cell_type": "code",
      "source": [
        "probability = logreg_cv.predict_proba(X_test)"
      ],
      "metadata": {
        "id": "Z5m4WrHQO-nO"
      },
      "execution_count": 51,
      "outputs": []
    },
    {
      "cell_type": "code",
      "source": [
        "probability.shape"
      ],
      "metadata": {
        "colab": {
          "base_uri": "https://localhost:8080/"
        },
        "id": "GojKXROtP005",
        "outputId": "f792a7fb-0217-40d4-a8a4-6b2c94180096"
      },
      "execution_count": 52,
      "outputs": [
        {
          "output_type": "execute_result",
          "data": {
            "text/plain": [
              "(8511, 2)"
            ]
          },
          "metadata": {},
          "execution_count": 52
        }
      ]
    },
    {
      "cell_type": "code",
      "source": [
        "chance = np.round_(probability[:,1]*100, decimals = 2)\n",
        "chance"
      ],
      "metadata": {
        "colab": {
          "base_uri": "https://localhost:8080/"
        },
        "id": "yFc0H7DyP6PA",
        "outputId": "e2631ef3-c5ac-4f6f-f169-a789a78daf01"
      },
      "execution_count": 53,
      "outputs": [
        {
          "output_type": "execute_result",
          "data": {
            "text/plain": [
              "array([ 9.41,  0.55, 15.99, ...,  2.05,  3.02,  0.56])"
            ]
          },
          "metadata": {},
          "execution_count": 53
        }
      ]
    },
    {
      "cell_type": "markdown",
      "source": [
        "Sorting the top 20 lead score. "
      ],
      "metadata": {
        "id": "HFZikUZPXFYH"
      }
    },
    {
      "cell_type": "code",
      "source": [
        "pd.DataFrame(chance).sort_values(by=0, ascending=False)[:20]"
      ],
      "metadata": {
        "colab": {
          "base_uri": "https://localhost:8080/",
          "height": 676
        },
        "id": "fE5sE0HpR3y4",
        "outputId": "02bb9787-59b0-4770-ae0e-2e6923de6b62"
      },
      "execution_count": 54,
      "outputs": [
        {
          "output_type": "execute_result",
          "data": {
            "text/plain": [
              "          0\n",
              "132   76.36\n",
              "4942  76.04\n",
              "3065  75.84\n",
              "5072  75.43\n",
              "6144  75.14\n",
              "4852  74.96\n",
              "3004  74.41\n",
              "472   73.97\n",
              "6455  73.63\n",
              "7818  73.63\n",
              "946   72.99\n",
              "6158  70.90\n",
              "3393  70.90\n",
              "2340  70.88\n",
              "8117  70.80\n",
              "7721  70.18\n",
              "1834  69.96\n",
              "8246  69.04\n",
              "5380  68.63\n",
              "4796  68.42"
            ],
            "text/html": [
              "\n",
              "  <div id=\"df-6c717a98-d2dd-4078-9370-fe815d1110c9\">\n",
              "    <div class=\"colab-df-container\">\n",
              "      <div>\n",
              "<style scoped>\n",
              "    .dataframe tbody tr th:only-of-type {\n",
              "        vertical-align: middle;\n",
              "    }\n",
              "\n",
              "    .dataframe tbody tr th {\n",
              "        vertical-align: top;\n",
              "    }\n",
              "\n",
              "    .dataframe thead th {\n",
              "        text-align: right;\n",
              "    }\n",
              "</style>\n",
              "<table border=\"1\" class=\"dataframe\">\n",
              "  <thead>\n",
              "    <tr style=\"text-align: right;\">\n",
              "      <th></th>\n",
              "      <th>0</th>\n",
              "    </tr>\n",
              "  </thead>\n",
              "  <tbody>\n",
              "    <tr>\n",
              "      <th>132</th>\n",
              "      <td>76.36</td>\n",
              "    </tr>\n",
              "    <tr>\n",
              "      <th>4942</th>\n",
              "      <td>76.04</td>\n",
              "    </tr>\n",
              "    <tr>\n",
              "      <th>3065</th>\n",
              "      <td>75.84</td>\n",
              "    </tr>\n",
              "    <tr>\n",
              "      <th>5072</th>\n",
              "      <td>75.43</td>\n",
              "    </tr>\n",
              "    <tr>\n",
              "      <th>6144</th>\n",
              "      <td>75.14</td>\n",
              "    </tr>\n",
              "    <tr>\n",
              "      <th>4852</th>\n",
              "      <td>74.96</td>\n",
              "    </tr>\n",
              "    <tr>\n",
              "      <th>3004</th>\n",
              "      <td>74.41</td>\n",
              "    </tr>\n",
              "    <tr>\n",
              "      <th>472</th>\n",
              "      <td>73.97</td>\n",
              "    </tr>\n",
              "    <tr>\n",
              "      <th>6455</th>\n",
              "      <td>73.63</td>\n",
              "    </tr>\n",
              "    <tr>\n",
              "      <th>7818</th>\n",
              "      <td>73.63</td>\n",
              "    </tr>\n",
              "    <tr>\n",
              "      <th>946</th>\n",
              "      <td>72.99</td>\n",
              "    </tr>\n",
              "    <tr>\n",
              "      <th>6158</th>\n",
              "      <td>70.90</td>\n",
              "    </tr>\n",
              "    <tr>\n",
              "      <th>3393</th>\n",
              "      <td>70.90</td>\n",
              "    </tr>\n",
              "    <tr>\n",
              "      <th>2340</th>\n",
              "      <td>70.88</td>\n",
              "    </tr>\n",
              "    <tr>\n",
              "      <th>8117</th>\n",
              "      <td>70.80</td>\n",
              "    </tr>\n",
              "    <tr>\n",
              "      <th>7721</th>\n",
              "      <td>70.18</td>\n",
              "    </tr>\n",
              "    <tr>\n",
              "      <th>1834</th>\n",
              "      <td>69.96</td>\n",
              "    </tr>\n",
              "    <tr>\n",
              "      <th>8246</th>\n",
              "      <td>69.04</td>\n",
              "    </tr>\n",
              "    <tr>\n",
              "      <th>5380</th>\n",
              "      <td>68.63</td>\n",
              "    </tr>\n",
              "    <tr>\n",
              "      <th>4796</th>\n",
              "      <td>68.42</td>\n",
              "    </tr>\n",
              "  </tbody>\n",
              "</table>\n",
              "</div>\n",
              "      <button class=\"colab-df-convert\" onclick=\"convertToInteractive('df-6c717a98-d2dd-4078-9370-fe815d1110c9')\"\n",
              "              title=\"Convert this dataframe to an interactive table.\"\n",
              "              style=\"display:none;\">\n",
              "        \n",
              "  <svg xmlns=\"http://www.w3.org/2000/svg\" height=\"24px\"viewBox=\"0 0 24 24\"\n",
              "       width=\"24px\">\n",
              "    <path d=\"M0 0h24v24H0V0z\" fill=\"none\"/>\n",
              "    <path d=\"M18.56 5.44l.94 2.06.94-2.06 2.06-.94-2.06-.94-.94-2.06-.94 2.06-2.06.94zm-11 1L8.5 8.5l.94-2.06 2.06-.94-2.06-.94L8.5 2.5l-.94 2.06-2.06.94zm10 10l.94 2.06.94-2.06 2.06-.94-2.06-.94-.94-2.06-.94 2.06-2.06.94z\"/><path d=\"M17.41 7.96l-1.37-1.37c-.4-.4-.92-.59-1.43-.59-.52 0-1.04.2-1.43.59L10.3 9.45l-7.72 7.72c-.78.78-.78 2.05 0 2.83L4 21.41c.39.39.9.59 1.41.59.51 0 1.02-.2 1.41-.59l7.78-7.78 2.81-2.81c.8-.78.8-2.07 0-2.86zM5.41 20L4 18.59l7.72-7.72 1.47 1.35L5.41 20z\"/>\n",
              "  </svg>\n",
              "      </button>\n",
              "      \n",
              "  <style>\n",
              "    .colab-df-container {\n",
              "      display:flex;\n",
              "      flex-wrap:wrap;\n",
              "      gap: 12px;\n",
              "    }\n",
              "\n",
              "    .colab-df-convert {\n",
              "      background-color: #E8F0FE;\n",
              "      border: none;\n",
              "      border-radius: 50%;\n",
              "      cursor: pointer;\n",
              "      display: none;\n",
              "      fill: #1967D2;\n",
              "      height: 32px;\n",
              "      padding: 0 0 0 0;\n",
              "      width: 32px;\n",
              "    }\n",
              "\n",
              "    .colab-df-convert:hover {\n",
              "      background-color: #E2EBFA;\n",
              "      box-shadow: 0px 1px 2px rgba(60, 64, 67, 0.3), 0px 1px 3px 1px rgba(60, 64, 67, 0.15);\n",
              "      fill: #174EA6;\n",
              "    }\n",
              "\n",
              "    [theme=dark] .colab-df-convert {\n",
              "      background-color: #3B4455;\n",
              "      fill: #D2E3FC;\n",
              "    }\n",
              "\n",
              "    [theme=dark] .colab-df-convert:hover {\n",
              "      background-color: #434B5C;\n",
              "      box-shadow: 0px 1px 3px 1px rgba(0, 0, 0, 0.15);\n",
              "      filter: drop-shadow(0px 1px 2px rgba(0, 0, 0, 0.3));\n",
              "      fill: #FFFFFF;\n",
              "    }\n",
              "  </style>\n",
              "\n",
              "      <script>\n",
              "        const buttonEl =\n",
              "          document.querySelector('#df-6c717a98-d2dd-4078-9370-fe815d1110c9 button.colab-df-convert');\n",
              "        buttonEl.style.display =\n",
              "          google.colab.kernel.accessAllowed ? 'block' : 'none';\n",
              "\n",
              "        async function convertToInteractive(key) {\n",
              "          const element = document.querySelector('#df-6c717a98-d2dd-4078-9370-fe815d1110c9');\n",
              "          const dataTable =\n",
              "            await google.colab.kernel.invokeFunction('convertToInteractive',\n",
              "                                                     [key], {});\n",
              "          if (!dataTable) return;\n",
              "\n",
              "          const docLinkHtml = 'Like what you see? Visit the ' +\n",
              "            '<a target=\"_blank\" href=https://colab.research.google.com/notebooks/data_table.ipynb>data table notebook</a>'\n",
              "            + ' to learn more about interactive tables.';\n",
              "          element.innerHTML = '';\n",
              "          dataTable['output_type'] = 'display_data';\n",
              "          await google.colab.output.renderOutput(dataTable, element);\n",
              "          const docLink = document.createElement('div');\n",
              "          docLink.innerHTML = docLinkHtml;\n",
              "          element.appendChild(docLink);\n",
              "        }\n",
              "      </script>\n",
              "    </div>\n",
              "  </div>\n",
              "  "
            ]
          },
          "metadata": {},
          "execution_count": 54
        }
      ]
    },
    {
      "cell_type": "markdown",
      "source": [
        "Defining a function to take on random sample and calcualte its **lead score.**"
      ],
      "metadata": {
        "id": "64eLtQpsWdS8"
      }
    },
    {
      "cell_type": "code",
      "source": [
        "import random"
      ],
      "metadata": {
        "id": "w1FQDUmpSU5M"
      },
      "execution_count": 55,
      "outputs": []
    },
    {
      "cell_type": "code",
      "source": [
        "def lead_score_of_random_feature(model, data):\n",
        "  probability = model.predict_proba(random.sample(data.values.tolist(), 1))\n",
        "  chance = np.round_(probability[:,1]*100, decimals = 2)\n",
        "  return print(f\"Lead score of this sample is {chance.item()}\")"
      ],
      "metadata": {
        "id": "B-4-uOKMTHRw"
      },
      "execution_count": 56,
      "outputs": []
    },
    {
      "cell_type": "code",
      "source": [
        "lead_score_of_random_feature(model = logreg_cv, data = X_test)"
      ],
      "metadata": {
        "colab": {
          "base_uri": "https://localhost:8080/"
        },
        "id": "TREOvQqGVYDa",
        "outputId": "663d060f-656a-4a75-fa9c-4a8c0a4ab168"
      },
      "execution_count": 57,
      "outputs": [
        {
          "output_type": "stream",
          "name": "stdout",
          "text": [
            "Lead score of this sample is 10.33\n"
          ]
        }
      ]
    },
    {
      "cell_type": "code",
      "source": [
        "def lead_score_of_10_random_feature(model, data):\n",
        "  lead_score = []\n",
        "  for i in range(10):\n",
        "    probability = model.predict_proba(random.sample(data.values.tolist(), 1))\n",
        "    chance = np.round_(probability[:,1]*100, decimals = 2)\n",
        "    lead_score.append(chance.item())\n",
        "\n",
        "\n",
        "  return print(f\"Lead score of 10 random samples is {lead_score}\")"
      ],
      "metadata": {
        "id": "elmmXCsjXn_4"
      },
      "execution_count": 58,
      "outputs": []
    },
    {
      "cell_type": "code",
      "source": [
        "lead_score_of_10_random_feature(model = logreg_cv, data = X_test)"
      ],
      "metadata": {
        "colab": {
          "base_uri": "https://localhost:8080/"
        },
        "id": "ATV87UeNYDMj",
        "outputId": "341ef289-3879-4d4c-cd0a-179b9b9ffb63"
      },
      "execution_count": 59,
      "outputs": [
        {
          "output_type": "stream",
          "name": "stdout",
          "text": [
            "Lead score of 10 random samples is [3.59, 11.94, 0.28, 10.61, 12.21, 21.69, 1.81, 1.72, 6.13, 1.66]\n"
          ]
        }
      ]
    }
  ]
}