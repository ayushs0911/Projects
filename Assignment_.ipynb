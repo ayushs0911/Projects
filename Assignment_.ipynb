{
  "nbformat": 4,
  "nbformat_minor": 0,
  "metadata": {
    "colab": {
      "provenance": [],
      "authorship_tag": "ABX9TyMbshhhEcyYU8wW3+XnBWP7",
      "include_colab_link": true
    },
    "kernelspec": {
      "name": "python3",
      "display_name": "Python 3"
    },
    "language_info": {
      "name": "python"
    },
    "gpuClass": "standard"
  },
  "cells": [
    {
      "cell_type": "markdown",
      "metadata": {
        "id": "view-in-github",
        "colab_type": "text"
      },
      "source": [
        "<a href=\"https://colab.research.google.com/github/ayushs0911/Projects/blob/main/Assignment_.ipynb\" target=\"_parent\"><img src=\"https://colab.research.google.com/assets/colab-badge.svg\" alt=\"Open In Colab\"/></a>"
      ]
    },
    {
      "cell_type": "markdown",
      "source": [
        "#Problem: Lead Scoring Model\n",
        "\n",
        "Selling something is not an easy task. A business might have many potential customers, commonly referred as leads, but not enough resources to cater them all. Even most of the leads won’t turn into actual bookings. So there is a need for a system that prioritises the leads, and sorts them on the basis of a score, referred to here as lead score. So whenever a new lead is generated, this system analyses the features of the lead and gives it a score that correlates with chances of it being converted into booking. Such ranking of potential customers not only helps in saving time but also helps in increasing the conversion rate by letting the sales team figure out what leads to spend time on.\n",
        "\n",
        "\n",
        "Here you have a dataset of leads with their set of features and their status. You have to build a ML model that predicts the lead score as an OUTPUT on the basis of the INPUT set of features. This lead score will range from 0-100, so more the lead score means more chances of conversion of lead to WON.\n",
        "\n",
        "\n",
        "- NOTE: The leads with STATUS other than ‘WON’ or ‘LOST’ can be dropped during training.\n",
        "- NOTE: Treat all columns as CATEGORICAL columns\n",
        "NOTE: \n",
        "This '9b2d5b4678781e53038e91ea5324530a03f27dc1d0e5f6c9bc9d493a23be9de0' represents NaN and could be present in more than one column.\n",
        "\n",
        "\n",
        "Steps should be:\n",
        "- Data Cleaning ( including Feature Selection)\n",
        "- Training ( on Y percent of data)\n",
        "- Testing ( on (100-Y) percent of data)\n",
        "- Evaluate the performance using metrics such as accuracy, precision, recall and F1-score.\n"
      ],
      "metadata": {
        "id": "Bw-05-DMACa6"
      }
    },
    {
      "cell_type": "code",
      "source": [
        "import pandas as pd \n",
        "import numpy as np\n",
        "import seaborn as sns \n",
        "import matplotlib.pyplot as plt"
      ],
      "metadata": {
        "id": "GaNPYhqgAekg"
      },
      "execution_count": 3,
      "outputs": []
    },
    {
      "cell_type": "code",
      "source": [
        "import warnings\n",
        "warnings.filterwarnings('ignore')\n"
      ],
      "metadata": {
        "id": "5fSdJX0aYbeh"
      },
      "execution_count": 141,
      "outputs": []
    },
    {
      "cell_type": "code",
      "source": [
        "#importing dataset from google drive\n",
        "from google.colab import drive\n",
        "drive.mount('/content/drive')\n",
        "     "
      ],
      "metadata": {
        "colab": {
          "base_uri": "https://localhost:8080/"
        },
        "id": "_TrlAX4AAGzr",
        "outputId": "204b8de8-c52e-40a0-abfa-e87d090388c9"
      },
      "execution_count": 4,
      "outputs": [
        {
          "output_type": "stream",
          "name": "stdout",
          "text": [
            "Drive already mounted at /content/drive; to attempt to forcibly remount, call drive.mount(\"/content/drive\", force_remount=True).\n"
          ]
        }
      ]
    },
    {
      "cell_type": "code",
      "source": [
        "df = pd.read_csv('/content/drive/MyDrive/Datasets/Data_Science_Internship - Dump.csv')\n"
      ],
      "metadata": {
        "id": "WdwKwTiPAKK4"
      },
      "execution_count": 5,
      "outputs": []
    },
    {
      "cell_type": "markdown",
      "source": [
        "### Taking a Quick look at data structure "
      ],
      "metadata": {
        "id": "ufRfn3gYA1N8"
      }
    },
    {
      "cell_type": "code",
      "source": [
        "df.replace(\n",
        "    to_replace=['9b2d5b4678781e53038e91ea5324530a03f27dc1d0e5f6c9bc9d493a23be9de0'],\n",
        "    value='NaN',\n",
        "    inplace=True\n",
        ")"
      ],
      "metadata": {
        "id": "29aVnerZBv08"
      },
      "execution_count": 6,
      "outputs": []
    },
    {
      "cell_type": "code",
      "source": [
        "df.head()"
      ],
      "metadata": {
        "colab": {
          "base_uri": "https://localhost:8080/",
          "height": 391
        },
        "id": "9MwNbYI_AdaR",
        "outputId": "f923d1ac-c85f-4654-bbce-51aa1e68e9a6"
      },
      "execution_count": 7,
      "outputs": [
        {
          "output_type": "execute_result",
          "data": {
            "text/plain": [
              "   Unnamed: 0                                           Agent_id status  \\\n",
              "0           0  1deba9e96f404694373de9749ddd1ca8aa7bb823145a6f...   LOST   \n",
              "1           1  299ae77a4ef350ae0dd37d6bba1c002d03444fb1edb236...   LOST   \n",
              "2           2  c213697430c006013012dd2aca82dd9732aa0a1a6bca13...   LOST   \n",
              "3           3  eac9815a500f908736d303e23aa227f0957177b0e6756b...   LOST   \n",
              "4           4  1deba9e96f404694373de9749ddd1ca8aa7bb823145a6f...   LOST   \n",
              "\n",
              "      lost_reason                budget                                lease  \\\n",
              "0  Not responding                   NaN                                  NaN   \n",
              "1      Low budget                   NaN                                  NaN   \n",
              "2  Not responding  £121 - £180 Per Week  Full Year Course Stay 40 - 44 weeks   \n",
              "3      Low budget                   0-0                                    0   \n",
              "4       Junk lead                   NaN                                  NaN   \n",
              "\n",
              "     movein                                             source  \\\n",
              "0       NaN                                                NaN   \n",
              "1       NaN                                                NaN   \n",
              "2  31/08/22  7aae3e886e89fc1187a5c47d6cea1c22998ee610ade1f2...   \n",
              "3       NaN  ba2d0a29556ac20f86f45e4543c0825428cba33fd7a9ea...   \n",
              "4       NaN                                                NaN   \n",
              "\n",
              "                                         source_city  \\\n",
              "0                                                NaN   \n",
              "1                                                NaN   \n",
              "2  9b8cc3c63cdf447e463c11544924bf027945cbd29675f7...   \n",
              "3  a5f0d2d08eb0592087e3a3a2f9c1ba2c67cc30f2efd2bd...   \n",
              "4                                                NaN   \n",
              "\n",
              "                                      source_country  \\\n",
              "0                                                NaN   \n",
              "1                                                NaN   \n",
              "2  e09e10e67812e9d236ad900e5d46b4308fc62f5d69446a...   \n",
              "3  e09e10e67812e9d236ad900e5d46b4308fc62f5d69446a...   \n",
              "4                                                NaN   \n",
              "\n",
              "                                          utm_source  \\\n",
              "0  3d59f7548e1af2151b64135003ce63c0a484c26b9b8b16...   \n",
              "1  3d59f7548e1af2151b64135003ce63c0a484c26b9b8b16...   \n",
              "2  bbdefa2950f49882f295b1285d4fa9dec45fc4144bfb07...   \n",
              "3  bbdefa2950f49882f295b1285d4fa9dec45fc4144bfb07...   \n",
              "4  3d59f7548e1af2151b64135003ce63c0a484c26b9b8b16...   \n",
              "\n",
              "                                          utm_medium  \\\n",
              "0  268ad70eb5bc4737a2ae28162cbca30118cc94520e49ef...   \n",
              "1  268ad70eb5bc4737a2ae28162cbca30118cc94520e49ef...   \n",
              "2  09076eb7665d1fb9389c7c4517fee0b00e43092eb34821...   \n",
              "3  09076eb7665d1fb9389c7c4517fee0b00e43092eb34821...   \n",
              "4  268ad70eb5bc4737a2ae28162cbca30118cc94520e49ef...   \n",
              "\n",
              "                                            des_city  \\\n",
              "0  ecc0e7dc084f141b29479058967d0bc07dee25d9690a98...   \n",
              "1  5372372f3bf5896820cb2819300c3e681820d82c6efc54...   \n",
              "2  11ab03a1a8c367191355c152f39fe28cae5e426fce49ef...   \n",
              "3  19372fa44c57a01c37a5a8418779ca3d99b0b59731fb35...   \n",
              "4                                                NaN   \n",
              "\n",
              "                                         des_country room_type  \\\n",
              "0  8d23a6e37e0a6431a8f1b43a91026dcff51170a89a6512...       NaN   \n",
              "1  8d23a6e37e0a6431a8f1b43a91026dcff51170a89a6512...       NaN   \n",
              "2  8d23a6e37e0a6431a8f1b43a91026dcff51170a89a6512...   Ensuite   \n",
              "3  8d23a6e37e0a6431a8f1b43a91026dcff51170a89a6512...       NaN   \n",
              "4                                                NaN       NaN   \n",
              "\n",
              "                                             lead_id  \n",
              "0  cd5dc0d9393f3980d11d4ba6f88f8110c2b7a7f7796307...  \n",
              "1  b94693673a5f7178d1b114e4004ad52377d3244dd24a3d...  \n",
              "2  96ea4e2bf04496c044745938c0299c264c3f4ba079e572...  \n",
              "3  1d2b34d8add02a182a4129023766ca4585a8ddced0e5b3...  \n",
              "4  fc10fffd29cfbe93c55158fb47752a7501c211d253468c...  "
            ],
            "text/html": [
              "\n",
              "  <div id=\"df-b5942e52-ee03-40a2-b62d-b71d0c8839db\">\n",
              "    <div class=\"colab-df-container\">\n",
              "      <div>\n",
              "<style scoped>\n",
              "    .dataframe tbody tr th:only-of-type {\n",
              "        vertical-align: middle;\n",
              "    }\n",
              "\n",
              "    .dataframe tbody tr th {\n",
              "        vertical-align: top;\n",
              "    }\n",
              "\n",
              "    .dataframe thead th {\n",
              "        text-align: right;\n",
              "    }\n",
              "</style>\n",
              "<table border=\"1\" class=\"dataframe\">\n",
              "  <thead>\n",
              "    <tr style=\"text-align: right;\">\n",
              "      <th></th>\n",
              "      <th>Unnamed: 0</th>\n",
              "      <th>Agent_id</th>\n",
              "      <th>status</th>\n",
              "      <th>lost_reason</th>\n",
              "      <th>budget</th>\n",
              "      <th>lease</th>\n",
              "      <th>movein</th>\n",
              "      <th>source</th>\n",
              "      <th>source_city</th>\n",
              "      <th>source_country</th>\n",
              "      <th>utm_source</th>\n",
              "      <th>utm_medium</th>\n",
              "      <th>des_city</th>\n",
              "      <th>des_country</th>\n",
              "      <th>room_type</th>\n",
              "      <th>lead_id</th>\n",
              "    </tr>\n",
              "  </thead>\n",
              "  <tbody>\n",
              "    <tr>\n",
              "      <th>0</th>\n",
              "      <td>0</td>\n",
              "      <td>1deba9e96f404694373de9749ddd1ca8aa7bb823145a6f...</td>\n",
              "      <td>LOST</td>\n",
              "      <td>Not responding</td>\n",
              "      <td>NaN</td>\n",
              "      <td>NaN</td>\n",
              "      <td>NaN</td>\n",
              "      <td>NaN</td>\n",
              "      <td>NaN</td>\n",
              "      <td>NaN</td>\n",
              "      <td>3d59f7548e1af2151b64135003ce63c0a484c26b9b8b16...</td>\n",
              "      <td>268ad70eb5bc4737a2ae28162cbca30118cc94520e49ef...</td>\n",
              "      <td>ecc0e7dc084f141b29479058967d0bc07dee25d9690a98...</td>\n",
              "      <td>8d23a6e37e0a6431a8f1b43a91026dcff51170a89a6512...</td>\n",
              "      <td>NaN</td>\n",
              "      <td>cd5dc0d9393f3980d11d4ba6f88f8110c2b7a7f7796307...</td>\n",
              "    </tr>\n",
              "    <tr>\n",
              "      <th>1</th>\n",
              "      <td>1</td>\n",
              "      <td>299ae77a4ef350ae0dd37d6bba1c002d03444fb1edb236...</td>\n",
              "      <td>LOST</td>\n",
              "      <td>Low budget</td>\n",
              "      <td>NaN</td>\n",
              "      <td>NaN</td>\n",
              "      <td>NaN</td>\n",
              "      <td>NaN</td>\n",
              "      <td>NaN</td>\n",
              "      <td>NaN</td>\n",
              "      <td>3d59f7548e1af2151b64135003ce63c0a484c26b9b8b16...</td>\n",
              "      <td>268ad70eb5bc4737a2ae28162cbca30118cc94520e49ef...</td>\n",
              "      <td>5372372f3bf5896820cb2819300c3e681820d82c6efc54...</td>\n",
              "      <td>8d23a6e37e0a6431a8f1b43a91026dcff51170a89a6512...</td>\n",
              "      <td>NaN</td>\n",
              "      <td>b94693673a5f7178d1b114e4004ad52377d3244dd24a3d...</td>\n",
              "    </tr>\n",
              "    <tr>\n",
              "      <th>2</th>\n",
              "      <td>2</td>\n",
              "      <td>c213697430c006013012dd2aca82dd9732aa0a1a6bca13...</td>\n",
              "      <td>LOST</td>\n",
              "      <td>Not responding</td>\n",
              "      <td>£121 - £180 Per Week</td>\n",
              "      <td>Full Year Course Stay 40 - 44 weeks</td>\n",
              "      <td>31/08/22</td>\n",
              "      <td>7aae3e886e89fc1187a5c47d6cea1c22998ee610ade1f2...</td>\n",
              "      <td>9b8cc3c63cdf447e463c11544924bf027945cbd29675f7...</td>\n",
              "      <td>e09e10e67812e9d236ad900e5d46b4308fc62f5d69446a...</td>\n",
              "      <td>bbdefa2950f49882f295b1285d4fa9dec45fc4144bfb07...</td>\n",
              "      <td>09076eb7665d1fb9389c7c4517fee0b00e43092eb34821...</td>\n",
              "      <td>11ab03a1a8c367191355c152f39fe28cae5e426fce49ef...</td>\n",
              "      <td>8d23a6e37e0a6431a8f1b43a91026dcff51170a89a6512...</td>\n",
              "      <td>Ensuite</td>\n",
              "      <td>96ea4e2bf04496c044745938c0299c264c3f4ba079e572...</td>\n",
              "    </tr>\n",
              "    <tr>\n",
              "      <th>3</th>\n",
              "      <td>3</td>\n",
              "      <td>eac9815a500f908736d303e23aa227f0957177b0e6756b...</td>\n",
              "      <td>LOST</td>\n",
              "      <td>Low budget</td>\n",
              "      <td>0-0</td>\n",
              "      <td>0</td>\n",
              "      <td>NaN</td>\n",
              "      <td>ba2d0a29556ac20f86f45e4543c0825428cba33fd7a9ea...</td>\n",
              "      <td>a5f0d2d08eb0592087e3a3a2f9c1ba2c67cc30f2efd2bd...</td>\n",
              "      <td>e09e10e67812e9d236ad900e5d46b4308fc62f5d69446a...</td>\n",
              "      <td>bbdefa2950f49882f295b1285d4fa9dec45fc4144bfb07...</td>\n",
              "      <td>09076eb7665d1fb9389c7c4517fee0b00e43092eb34821...</td>\n",
              "      <td>19372fa44c57a01c37a5a8418779ca3d99b0b59731fb35...</td>\n",
              "      <td>8d23a6e37e0a6431a8f1b43a91026dcff51170a89a6512...</td>\n",
              "      <td>NaN</td>\n",
              "      <td>1d2b34d8add02a182a4129023766ca4585a8ddced0e5b3...</td>\n",
              "    </tr>\n",
              "    <tr>\n",
              "      <th>4</th>\n",
              "      <td>4</td>\n",
              "      <td>1deba9e96f404694373de9749ddd1ca8aa7bb823145a6f...</td>\n",
              "      <td>LOST</td>\n",
              "      <td>Junk lead</td>\n",
              "      <td>NaN</td>\n",
              "      <td>NaN</td>\n",
              "      <td>NaN</td>\n",
              "      <td>NaN</td>\n",
              "      <td>NaN</td>\n",
              "      <td>NaN</td>\n",
              "      <td>3d59f7548e1af2151b64135003ce63c0a484c26b9b8b16...</td>\n",
              "      <td>268ad70eb5bc4737a2ae28162cbca30118cc94520e49ef...</td>\n",
              "      <td>NaN</td>\n",
              "      <td>NaN</td>\n",
              "      <td>NaN</td>\n",
              "      <td>fc10fffd29cfbe93c55158fb47752a7501c211d253468c...</td>\n",
              "    </tr>\n",
              "  </tbody>\n",
              "</table>\n",
              "</div>\n",
              "      <button class=\"colab-df-convert\" onclick=\"convertToInteractive('df-b5942e52-ee03-40a2-b62d-b71d0c8839db')\"\n",
              "              title=\"Convert this dataframe to an interactive table.\"\n",
              "              style=\"display:none;\">\n",
              "        \n",
              "  <svg xmlns=\"http://www.w3.org/2000/svg\" height=\"24px\"viewBox=\"0 0 24 24\"\n",
              "       width=\"24px\">\n",
              "    <path d=\"M0 0h24v24H0V0z\" fill=\"none\"/>\n",
              "    <path d=\"M18.56 5.44l.94 2.06.94-2.06 2.06-.94-2.06-.94-.94-2.06-.94 2.06-2.06.94zm-11 1L8.5 8.5l.94-2.06 2.06-.94-2.06-.94L8.5 2.5l-.94 2.06-2.06.94zm10 10l.94 2.06.94-2.06 2.06-.94-2.06-.94-.94-2.06-.94 2.06-2.06.94z\"/><path d=\"M17.41 7.96l-1.37-1.37c-.4-.4-.92-.59-1.43-.59-.52 0-1.04.2-1.43.59L10.3 9.45l-7.72 7.72c-.78.78-.78 2.05 0 2.83L4 21.41c.39.39.9.59 1.41.59.51 0 1.02-.2 1.41-.59l7.78-7.78 2.81-2.81c.8-.78.8-2.07 0-2.86zM5.41 20L4 18.59l7.72-7.72 1.47 1.35L5.41 20z\"/>\n",
              "  </svg>\n",
              "      </button>\n",
              "      \n",
              "  <style>\n",
              "    .colab-df-container {\n",
              "      display:flex;\n",
              "      flex-wrap:wrap;\n",
              "      gap: 12px;\n",
              "    }\n",
              "\n",
              "    .colab-df-convert {\n",
              "      background-color: #E8F0FE;\n",
              "      border: none;\n",
              "      border-radius: 50%;\n",
              "      cursor: pointer;\n",
              "      display: none;\n",
              "      fill: #1967D2;\n",
              "      height: 32px;\n",
              "      padding: 0 0 0 0;\n",
              "      width: 32px;\n",
              "    }\n",
              "\n",
              "    .colab-df-convert:hover {\n",
              "      background-color: #E2EBFA;\n",
              "      box-shadow: 0px 1px 2px rgba(60, 64, 67, 0.3), 0px 1px 3px 1px rgba(60, 64, 67, 0.15);\n",
              "      fill: #174EA6;\n",
              "    }\n",
              "\n",
              "    [theme=dark] .colab-df-convert {\n",
              "      background-color: #3B4455;\n",
              "      fill: #D2E3FC;\n",
              "    }\n",
              "\n",
              "    [theme=dark] .colab-df-convert:hover {\n",
              "      background-color: #434B5C;\n",
              "      box-shadow: 0px 1px 3px 1px rgba(0, 0, 0, 0.15);\n",
              "      filter: drop-shadow(0px 1px 2px rgba(0, 0, 0, 0.3));\n",
              "      fill: #FFFFFF;\n",
              "    }\n",
              "  </style>\n",
              "\n",
              "      <script>\n",
              "        const buttonEl =\n",
              "          document.querySelector('#df-b5942e52-ee03-40a2-b62d-b71d0c8839db button.colab-df-convert');\n",
              "        buttonEl.style.display =\n",
              "          google.colab.kernel.accessAllowed ? 'block' : 'none';\n",
              "\n",
              "        async function convertToInteractive(key) {\n",
              "          const element = document.querySelector('#df-b5942e52-ee03-40a2-b62d-b71d0c8839db');\n",
              "          const dataTable =\n",
              "            await google.colab.kernel.invokeFunction('convertToInteractive',\n",
              "                                                     [key], {});\n",
              "          if (!dataTable) return;\n",
              "\n",
              "          const docLinkHtml = 'Like what you see? Visit the ' +\n",
              "            '<a target=\"_blank\" href=https://colab.research.google.com/notebooks/data_table.ipynb>data table notebook</a>'\n",
              "            + ' to learn more about interactive tables.';\n",
              "          element.innerHTML = '';\n",
              "          dataTable['output_type'] = 'display_data';\n",
              "          await google.colab.output.renderOutput(dataTable, element);\n",
              "          const docLink = document.createElement('div');\n",
              "          docLink.innerHTML = docLinkHtml;\n",
              "          element.appendChild(docLink);\n",
              "        }\n",
              "      </script>\n",
              "    </div>\n",
              "  </div>\n",
              "  "
            ]
          },
          "metadata": {},
          "execution_count": 7
        }
      ]
    },
    {
      "cell_type": "code",
      "source": [
        "df.info()"
      ],
      "metadata": {
        "colab": {
          "base_uri": "https://localhost:8080/"
        },
        "id": "hIvOAtXjA5lB",
        "outputId": "1070be24-21f2-4d5b-aec7-5193e9a32c88"
      },
      "execution_count": 8,
      "outputs": [
        {
          "output_type": "stream",
          "name": "stdout",
          "text": [
            "<class 'pandas.core.frame.DataFrame'>\n",
            "RangeIndex: 46608 entries, 0 to 46607\n",
            "Data columns (total 16 columns):\n",
            " #   Column          Non-Null Count  Dtype \n",
            "---  ------          --------------  ----- \n",
            " 0   Unnamed: 0      46608 non-null  int64 \n",
            " 1   Agent_id        46608 non-null  object\n",
            " 2   status          46608 non-null  object\n",
            " 3   lost_reason     43244 non-null  object\n",
            " 4   budget          42908 non-null  object\n",
            " 5   lease           44267 non-null  object\n",
            " 6   movein          32970 non-null  object\n",
            " 7   source          46608 non-null  object\n",
            " 8   source_city     46608 non-null  object\n",
            " 9   source_country  46608 non-null  object\n",
            " 10  utm_source      46608 non-null  object\n",
            " 11  utm_medium      46608 non-null  object\n",
            " 12  des_city        46608 non-null  object\n",
            " 13  des_country     46608 non-null  object\n",
            " 14  room_type       23061 non-null  object\n",
            " 15  lead_id         46608 non-null  object\n",
            "dtypes: int64(1), object(15)\n",
            "memory usage: 5.7+ MB\n"
          ]
        }
      ]
    },
    {
      "cell_type": "markdown",
      "source": [
        "##Data Cleaning "
      ],
      "metadata": {
        "id": "0yfM6KO-HVMr"
      }
    },
    {
      "cell_type": "code",
      "source": [
        "sns.heatmap(df.isnull(), yticklabels = False, cbar= False, cmap = 'Blues')\n"
      ],
      "metadata": {
        "colab": {
          "base_uri": "https://localhost:8080/",
          "height": 350
        },
        "id": "ALYycmdHB4uD",
        "outputId": "774b53e1-89d8-4ebf-ec68-2fbc133da468"
      },
      "execution_count": 9,
      "outputs": [
        {
          "output_type": "execute_result",
          "data": {
            "text/plain": [
              "<Axes: >"
            ]
          },
          "metadata": {},
          "execution_count": 9
        },
        {
          "output_type": "display_data",
          "data": {
            "text/plain": [
              "<Figure size 432x288 with 1 Axes>"
            ],
            "image/png": "[encoded data removed]"
          },
          "metadata": {
            "needs_background": "light"
          }
        }
      ]
    },
    {
      "cell_type": "markdown",
      "source": [
        "Plenty of missing values, Let's analyse them. "
      ],
      "metadata": {
        "id": "Hdo2S2_MCS87"
      }
    },
    {
      "cell_type": "code",
      "source": [
        "df.isnull().sum()"
      ],
      "metadata": {
        "colab": {
          "base_uri": "https://localhost:8080/"
        },
        "id": "4PORU4voCHWI",
        "outputId": "6dcafad8-5837-44b1-bb55-41ffc6e620dc"
      },
      "execution_count": 10,
      "outputs": [
        {
          "output_type": "execute_result",
          "data": {
            "text/plain": [
              "Unnamed: 0            0\n",
              "Agent_id              0\n",
              "status                0\n",
              "lost_reason        3364\n",
              "budget             3700\n",
              "lease              2341\n",
              "movein            13638\n",
              "source                0\n",
              "source_city           0\n",
              "source_country        0\n",
              "utm_source            0\n",
              "utm_medium            0\n",
              "des_city              0\n",
              "des_country           0\n",
              "room_type         23547\n",
              "lead_id               0\n",
              "dtype: int64"
            ]
          },
          "metadata": {},
          "execution_count": 10
        }
      ]
    },
    {
      "cell_type": "code",
      "source": [
        "df[df['lost_reason'].isnull()]"
      ],
      "metadata": {
        "colab": {
          "base_uri": "https://localhost:8080/",
          "height": 852
        },
        "id": "ogxqwTblCsZA",
        "outputId": "49865e1f-a0fe-4e95-e5dc-9c01cb3f41fe"
      },
      "execution_count": 11,
      "outputs": [
        {
          "output_type": "execute_result",
          "data": {
            "text/plain": [
              "       Unnamed: 0                                           Agent_id status  \\\n",
              "98             98  c077ad291c7b691b8defba867c1b937f16e878c1f3bdd5...    WON   \n",
              "111           111  44864c96fa1c36602f0d045b268981b6cab638a60fc207...    WON   \n",
              "139           139  59e1dc79a681665177701a504d7d704e1b6e36a4e191f4...    WON   \n",
              "141           141  96ab6152cb421b4d4012a4903c19004608a342a5f7c667...    WON   \n",
              "152           152  53eb7f9dcaa22b09db85547fa158a6893089db596bfdcc...    WON   \n",
              "...           ...                                                ...    ...   \n",
              "46559       46559  4ab75b931e46eda84e381be209b305d1ad8833f230eb24...    WON   \n",
              "46566       46566  44864c96fa1c36602f0d045b268981b6cab638a60fc207...    WON   \n",
              "46570       46570  96ab6152cb421b4d4012a4903c19004608a342a5f7c667...    WON   \n",
              "46586       46586  1dc43dab243ecfa3cc71b4fbc230ffd813798c72d1d551...    WON   \n",
              "46592       46592  c077ad291c7b691b8defba867c1b937f16e878c1f3bdd5...    WON   \n",
              "\n",
              "      lost_reason                budget  \\\n",
              "98            NaN                   109   \n",
              "111           NaN  £121 - £180 Per Week   \n",
              "139           NaN  £181 - £240 Per Week   \n",
              "141           NaN       > 300£ Per Week   \n",
              "152           NaN  £121 - £180 Per Week   \n",
              "...           ...                   ...   \n",
              "46559         NaN                   139   \n",
              "46566         NaN                   179   \n",
              "46570         NaN                   180   \n",
              "46586         NaN  £121 - £180 Per Week   \n",
              "46592         NaN   £60 - £120 Per week   \n",
              "\n",
              "                                            lease    movein  \\\n",
              "98                                             51       NaN   \n",
              "111           Full Year Course Stay 40 - 44 weeks  09/09/22   \n",
              "139           Full Year Course Stay 40 - 44 weeks  29/09/22   \n",
              "141    Complete Education Year Stay 50 - 52 weeks  07/09/22   \n",
              "152           Full Year Course Stay 40 - 44 weeks  31/08/22   \n",
              "...                                           ...       ...   \n",
              "46559                                          42  01/10/22   \n",
              "46566                                          51  10/09/22   \n",
              "46570                                          44  16/09/22   \n",
              "46586  Complete Education Year Stay 50 - 52 weeks  05/09/22   \n",
              "46592         Full Year Course Stay 40 - 44 weeks  12/09/22   \n",
              "\n",
              "                                                  source  \\\n",
              "98     9ba9134a91cfc6b52ac8d480e9ad37896ca4ac216e2d79...   \n",
              "111    7aae3e886e89fc1187a5c47d6cea1c22998ee610ade1f2...   \n",
              "139    7aae3e886e89fc1187a5c47d6cea1c22998ee610ade1f2...   \n",
              "141    7aae3e886e89fc1187a5c47d6cea1c22998ee610ade1f2...   \n",
              "152    7aae3e886e89fc1187a5c47d6cea1c22998ee610ade1f2...   \n",
              "...                                                  ...   \n",
              "46559  9ba9134a91cfc6b52ac8d480e9ad37896ca4ac216e2d79...   \n",
              "46566  9ba9134a91cfc6b52ac8d480e9ad37896ca4ac216e2d79...   \n",
              "46570  9ba9134a91cfc6b52ac8d480e9ad37896ca4ac216e2d79...   \n",
              "46586  7aae3e886e89fc1187a5c47d6cea1c22998ee610ade1f2...   \n",
              "46592  7aae3e886e89fc1187a5c47d6cea1c22998ee610ade1f2...   \n",
              "\n",
              "                                             source_city  \\\n",
              "98     8593b9db65212160979d946950601c26622a219c80f1f1...   \n",
              "111    ef6d625bd287131ad98e4ed57295037bb46e4864f9d6ef...   \n",
              "139    ecc0e7dc084f141b29479058967d0bc07dee25d9690a98...   \n",
              "141    3c1def48af45cb9748302f34e57f2cbeb866de95beb0d2...   \n",
              "152    69f0114003f8a8ec5f99506325f8ca6a5ca237c9fe91ba...   \n",
              "...                                                  ...   \n",
              "46559  f618d9049cbfb9410ad8d47541218cc7a2a9e930750f59...   \n",
              "46566  ac15eb6ea0471bd80c833fa9d4ff9799de32a00b4681b0...   \n",
              "46570  ecc0e7dc084f141b29479058967d0bc07dee25d9690a98...   \n",
              "46586  11ab03a1a8c367191355c152f39fe28cae5e426fce49ef...   \n",
              "46592  777e88b51092d314e2b6b9e523fc4dc2f3281c52df171e...   \n",
              "\n",
              "                                          source_country  \\\n",
              "98     e09e10e67812e9d236ad900e5d46b4308fc62f5d69446a...   \n",
              "111    e09e10e67812e9d236ad900e5d46b4308fc62f5d69446a...   \n",
              "139    e09e10e67812e9d236ad900e5d46b4308fc62f5d69446a...   \n",
              "141    e09e10e67812e9d236ad900e5d46b4308fc62f5d69446a...   \n",
              "152    e09e10e67812e9d236ad900e5d46b4308fc62f5d69446a...   \n",
              "...                                                  ...   \n",
              "46559  e09e10e67812e9d236ad900e5d46b4308fc62f5d69446a...   \n",
              "46566  735b17b54154132f4d5c48eebcabe058b0e5a2953932ad...   \n",
              "46570  e09e10e67812e9d236ad900e5d46b4308fc62f5d69446a...   \n",
              "46586  e09e10e67812e9d236ad900e5d46b4308fc62f5d69446a...   \n",
              "46592  e09e10e67812e9d236ad900e5d46b4308fc62f5d69446a...   \n",
              "\n",
              "                                              utm_source  \\\n",
              "98     bbdefa2950f49882f295b1285d4fa9dec45fc4144bfb07...   \n",
              "111    bbdefa2950f49882f295b1285d4fa9dec45fc4144bfb07...   \n",
              "139    bbdefa2950f49882f295b1285d4fa9dec45fc4144bfb07...   \n",
              "141    bbdefa2950f49882f295b1285d4fa9dec45fc4144bfb07...   \n",
              "152    bbdefa2950f49882f295b1285d4fa9dec45fc4144bfb07...   \n",
              "...                                                  ...   \n",
              "46559  bbdefa2950f49882f295b1285d4fa9dec45fc4144bfb07...   \n",
              "46566  bbdefa2950f49882f295b1285d4fa9dec45fc4144bfb07...   \n",
              "46570  bbdefa2950f49882f295b1285d4fa9dec45fc4144bfb07...   \n",
              "46586  bbdefa2950f49882f295b1285d4fa9dec45fc4144bfb07...   \n",
              "46592  bbdefa2950f49882f295b1285d4fa9dec45fc4144bfb07...   \n",
              "\n",
              "                                              utm_medium  \\\n",
              "98     09076eb7665d1fb9389c7c4517fee0b00e43092eb34821...   \n",
              "111    09076eb7665d1fb9389c7c4517fee0b00e43092eb34821...   \n",
              "139    09076eb7665d1fb9389c7c4517fee0b00e43092eb34821...   \n",
              "141    09076eb7665d1fb9389c7c4517fee0b00e43092eb34821...   \n",
              "152    09076eb7665d1fb9389c7c4517fee0b00e43092eb34821...   \n",
              "...                                                  ...   \n",
              "46559  69f81619d0ef92cbb165a44e76f4f0c284d2aa83c318fa...   \n",
              "46566  69f81619d0ef92cbb165a44e76f4f0c284d2aa83c318fa...   \n",
              "46570  69f81619d0ef92cbb165a44e76f4f0c284d2aa83c318fa...   \n",
              "46586  09076eb7665d1fb9389c7c4517fee0b00e43092eb34821...   \n",
              "46592  09076eb7665d1fb9389c7c4517fee0b00e43092eb34821...   \n",
              "\n",
              "                                                des_city  \\\n",
              "98     acb208d3ac02ab6d5a45120b4187f12bc41a132011fe1c...   \n",
              "111    71b89d8b802ddcc0120ec5352d9c0fe5bde35a3aff101b...   \n",
              "139    acb208d3ac02ab6d5a45120b4187f12bc41a132011fe1c...   \n",
              "141    8593b9db65212160979d946950601c26622a219c80f1f1...   \n",
              "152    11ab03a1a8c367191355c152f39fe28cae5e426fce49ef...   \n",
              "...                                                  ...   \n",
              "46559  8593b9db65212160979d946950601c26622a219c80f1f1...   \n",
              "46566  c384826dfbfce62c3fd99a46984a56fe71546a85c2cb6c...   \n",
              "46570  6c5988c3032fffdad757f9ece1a56029a631825d527001...   \n",
              "46586  19372fa44c57a01c37a5a8418779ca3d99b0b59731fb35...   \n",
              "46592  810c069040f6a9b16fdf976a901755508a87cb0224b169...   \n",
              "\n",
              "                                             des_country     room_type  \\\n",
              "98     8d23a6e37e0a6431a8f1b43a91026dcff51170a89a6512...           NaN   \n",
              "111    8d23a6e37e0a6431a8f1b43a91026dcff51170a89a6512...        Studio   \n",
              "139    8d23a6e37e0a6431a8f1b43a91026dcff51170a89a6512...  Entire Place   \n",
              "141    8d23a6e37e0a6431a8f1b43a91026dcff51170a89a6512...       Ensuite   \n",
              "152    8d23a6e37e0a6431a8f1b43a91026dcff51170a89a6512...  Entire Place   \n",
              "...                                                  ...           ...   \n",
              "46559  8d23a6e37e0a6431a8f1b43a91026dcff51170a89a6512...           NaN   \n",
              "46566  8d23a6e37e0a6431a8f1b43a91026dcff51170a89a6512...           NaN   \n",
              "46570  8d23a6e37e0a6431a8f1b43a91026dcff51170a89a6512...           NaN   \n",
              "46586  8d23a6e37e0a6431a8f1b43a91026dcff51170a89a6512...        Studio   \n",
              "46592  8d23a6e37e0a6431a8f1b43a91026dcff51170a89a6512...       Ensuite   \n",
              "\n",
              "                                                 lead_id  \n",
              "98     b66690fb86da687dda8d0e4be51958aab94e4b595272d7...  \n",
              "111    eab489be32de234eb13f3ef643755451a2c2d876dadae9...  \n",
              "139    adbc799bdd9422ca4083ef3d83389853f1d72280efe25f...  \n",
              "141    aff03877c7a6e8799057e5ad4b82de902487b7c7f30dbf...  \n",
              "152    1c4cb4a47a62cce90db6619f8ddeed9eb2c0a598a6d0ed...  \n",
              "...                                                  ...  \n",
              "46559  c4f2571fb68158cf43193eaaae6241d94652abae4ff953...  \n",
              "46566  f2a5171da297accb58cb0d1ad4480127032153e3437164...  \n",
              "46570  f5f0dcf17a05f003011a264327b0666ddcbc9855dc1882...  \n",
              "46586  b872d8eaf5a329e82b57308671ef177cf67eb594b72b7b...  \n",
              "46592  2dde69fbc6fae52d8fb97a4b8eeb0da2829ab14009f9c4...  \n",
              "\n",
              "[3364 rows x 16 columns]"
            ],
            "text/html": [
              "\n",
              "  <div id=\"df-f0f48843-37b5-4e61-96a5-5f81a705e3e6\">\n",
              "    <div class=\"colab-df-container\">\n",
              "      <div>\n",
              "<style scoped>\n",
              "    .dataframe tbody tr th:only-of-type {\n",
              "        vertical-align: middle;\n",
              "    }\n",
              "\n",
              "    .dataframe tbody tr th {\n",
              "        vertical-align: top;\n",
              "    }\n",
              "\n",
              "    .dataframe thead th {\n",
              "        text-align: right;\n",
              "    }\n",
              "</style>\n",
              "<table border=\"1\" class=\"dataframe\">\n",
              "  <thead>\n",
              "    <tr style=\"text-align: right;\">\n",
              "      <th></th>\n",
              "      <th>Unnamed: 0</th>\n",
              "      <th>Agent_id</th>\n",
              "      <th>status</th>\n",
              "      <th>lost_reason</th>\n",
              "      <th>budget</th>\n",
              "      <th>lease</th>\n",
              "      <th>movein</th>\n",
              "      <th>source</th>\n",
              "      <th>source_city</th>\n",
              "      <th>source_country</th>\n",
              "      <th>utm_source</th>\n",
              "      <th>utm_medium</th>\n",
              "      <th>des_city</th>\n",
              "      <th>des_country</th>\n",
              "      <th>room_type</th>\n",
              "      <th>lead_id</th>\n",
              "    </tr>\n",
              "  </thead>\n",
              "  <tbody>\n",
              "    <tr>\n",
              "      <th>98</th>\n",
              "      <td>98</td>\n",
              "      <td>c077ad291c7b691b8defba867c1b937f16e878c1f3bdd5...</td>\n",
              "      <td>WON</td>\n",
              "      <td>NaN</td>\n",
              "      <td>109</td>\n",
              "      <td>51</td>\n",
              "      <td>NaN</td>\n",
              "      <td>9ba9134a91cfc6b52ac8d480e9ad37896ca4ac216e2d79...</td>\n",
              "      <td>8593b9db65212160979d946950601c26622a219c80f1f1...</td>\n",
              "      <td>e09e10e67812e9d236ad900e5d46b4308fc62f5d69446a...</td>\n",
              "      <td>bbdefa2950f49882f295b1285d4fa9dec45fc4144bfb07...</td>\n",
              "      <td>09076eb7665d1fb9389c7c4517fee0b00e43092eb34821...</td>\n",
              "      <td>acb208d3ac02ab6d5a45120b4187f12bc41a132011fe1c...</td>\n",
              "      <td>8d23a6e37e0a6431a8f1b43a91026dcff51170a89a6512...</td>\n",
              "      <td>NaN</td>\n",
              "      <td>b66690fb86da687dda8d0e4be51958aab94e4b595272d7...</td>\n",
              "    </tr>\n",
              "    <tr>\n",
              "      <th>111</th>\n",
              "      <td>111</td>\n",
              "      <td>44864c96fa1c36602f0d045b268981b6cab638a60fc207...</td>\n",
              "      <td>WON</td>\n",
              "      <td>NaN</td>\n",
              "      <td>£121 - £180 Per Week</td>\n",
              "      <td>Full Year Course Stay 40 - 44 weeks</td>\n",
              "      <td>09/09/22</td>\n",
              "      <td>7aae3e886e89fc1187a5c47d6cea1c22998ee610ade1f2...</td>\n",
              "      <td>ef6d625bd287131ad98e4ed57295037bb46e4864f9d6ef...</td>\n",
              "      <td>e09e10e67812e9d236ad900e5d46b4308fc62f5d69446a...</td>\n",
              "      <td>bbdefa2950f49882f295b1285d4fa9dec45fc4144bfb07...</td>\n",
              "      <td>09076eb7665d1fb9389c7c4517fee0b00e43092eb34821...</td>\n",
              "      <td>71b89d8b802ddcc0120ec5352d9c0fe5bde35a3aff101b...</td>\n",
              "      <td>8d23a6e37e0a6431a8f1b43a91026dcff51170a89a6512...</td>\n",
              "      <td>Studio</td>\n",
              "      <td>eab489be32de234eb13f3ef643755451a2c2d876dadae9...</td>\n",
              "    </tr>\n",
              "    <tr>\n",
              "      <th>139</th>\n",
              "      <td>139</td>\n",
              "      <td>59e1dc79a681665177701a504d7d704e1b6e36a4e191f4...</td>\n",
              "      <td>WON</td>\n",
              "      <td>NaN</td>\n",
              "      <td>£181 - £240 Per Week</td>\n",
              "      <td>Full Year Course Stay 40 - 44 weeks</td>\n",
              "      <td>29/09/22</td>\n",
              "      <td>7aae3e886e89fc1187a5c47d6cea1c22998ee610ade1f2...</td>\n",
              "      <td>ecc0e7dc084f141b29479058967d0bc07dee25d9690a98...</td>\n",
              "      <td>e09e10e67812e9d236ad900e5d46b4308fc62f5d69446a...</td>\n",
              "      <td>bbdefa2950f49882f295b1285d4fa9dec45fc4144bfb07...</td>\n",
              "      <td>09076eb7665d1fb9389c7c4517fee0b00e43092eb34821...</td>\n",
              "      <td>acb208d3ac02ab6d5a45120b4187f12bc41a132011fe1c...</td>\n",
              "      <td>8d23a6e37e0a6431a8f1b43a91026dcff51170a89a6512...</td>\n",
              "      <td>Entire Place</td>\n",
              "      <td>adbc799bdd9422ca4083ef3d83389853f1d72280efe25f...</td>\n",
              "    </tr>\n",
              "    <tr>\n",
              "      <th>141</th>\n",
              "      <td>141</td>\n",
              "      <td>96ab6152cb421b4d4012a4903c19004608a342a5f7c667...</td>\n",
              "      <td>WON</td>\n",
              "      <td>NaN</td>\n",
              "      <td>&gt; 300£ Per Week</td>\n",
              "      <td>Complete Education Year Stay 50 - 52 weeks</td>\n",
              "      <td>07/09/22</td>\n",
              "      <td>7aae3e886e89fc1187a5c47d6cea1c22998ee610ade1f2...</td>\n",
              "      <td>3c1def48af45cb9748302f34e57f2cbeb866de95beb0d2...</td>\n",
              "      <td>e09e10e67812e9d236ad900e5d46b4308fc62f5d69446a...</td>\n",
              "      <td>bbdefa2950f49882f295b1285d4fa9dec45fc4144bfb07...</td>\n",
              "      <td>09076eb7665d1fb9389c7c4517fee0b00e43092eb34821...</td>\n",
              "      <td>8593b9db65212160979d946950601c26622a219c80f1f1...</td>\n",
              "      <td>8d23a6e37e0a6431a8f1b43a91026dcff51170a89a6512...</td>\n",
              "      <td>Ensuite</td>\n",
              "      <td>aff03877c7a6e8799057e5ad4b82de902487b7c7f30dbf...</td>\n",
              "    </tr>\n",
              "    <tr>\n",
              "      <th>152</th>\n",
              "      <td>152</td>\n",
              "      <td>53eb7f9dcaa22b09db85547fa158a6893089db596bfdcc...</td>\n",
              "      <td>WON</td>\n",
              "      <td>NaN</td>\n",
              "      <td>£121 - £180 Per Week</td>\n",
              "      <td>Full Year Course Stay 40 - 44 weeks</td>\n",
              "      <td>31/08/22</td>\n",
              "      <td>7aae3e886e89fc1187a5c47d6cea1c22998ee610ade1f2...</td>\n",
              "      <td>69f0114003f8a8ec5f99506325f8ca6a5ca237c9fe91ba...</td>\n",
              "      <td>e09e10e67812e9d236ad900e5d46b4308fc62f5d69446a...</td>\n",
              "      <td>bbdefa2950f49882f295b1285d4fa9dec45fc4144bfb07...</td>\n",
              "      <td>09076eb7665d1fb9389c7c4517fee0b00e43092eb34821...</td>\n",
              "      <td>11ab03a1a8c367191355c152f39fe28cae5e426fce49ef...</td>\n",
              "      <td>8d23a6e37e0a6431a8f1b43a91026dcff51170a89a6512...</td>\n",
              "      <td>Entire Place</td>\n",
              "      <td>1c4cb4a47a62cce90db6619f8ddeed9eb2c0a598a6d0ed...</td>\n",
              "    </tr>\n",
              "    <tr>\n",
              "      <th>...</th>\n",
              "      <td>...</td>\n",
              "      <td>...</td>\n",
              "      <td>...</td>\n",
              "      <td>...</td>\n",
              "      <td>...</td>\n",
              "      <td>...</td>\n",
              "      <td>...</td>\n",
              "      <td>...</td>\n",
              "      <td>...</td>\n",
              "      <td>...</td>\n",
              "      <td>...</td>\n",
              "      <td>...</td>\n",
              "      <td>...</td>\n",
              "      <td>...</td>\n",
              "      <td>...</td>\n",
              "      <td>...</td>\n",
              "    </tr>\n",
              "    <tr>\n",
              "      <th>46559</th>\n",
              "      <td>46559</td>\n",
              "      <td>4ab75b931e46eda84e381be209b305d1ad8833f230eb24...</td>\n",
              "      <td>WON</td>\n",
              "      <td>NaN</td>\n",
              "      <td>139</td>\n",
              "      <td>42</td>\n",
              "      <td>01/10/22</td>\n",
              "      <td>9ba9134a91cfc6b52ac8d480e9ad37896ca4ac216e2d79...</td>\n",
              "      <td>f618d9049cbfb9410ad8d47541218cc7a2a9e930750f59...</td>\n",
              "      <td>e09e10e67812e9d236ad900e5d46b4308fc62f5d69446a...</td>\n",
              "      <td>bbdefa2950f49882f295b1285d4fa9dec45fc4144bfb07...</td>\n",
              "      <td>69f81619d0ef92cbb165a44e76f4f0c284d2aa83c318fa...</td>\n",
              "      <td>8593b9db65212160979d946950601c26622a219c80f1f1...</td>\n",
              "      <td>8d23a6e37e0a6431a8f1b43a91026dcff51170a89a6512...</td>\n",
              "      <td>NaN</td>\n",
              "      <td>c4f2571fb68158cf43193eaaae6241d94652abae4ff953...</td>\n",
              "    </tr>\n",
              "    <tr>\n",
              "      <th>46566</th>\n",
              "      <td>46566</td>\n",
              "      <td>44864c96fa1c36602f0d045b268981b6cab638a60fc207...</td>\n",
              "      <td>WON</td>\n",
              "      <td>NaN</td>\n",
              "      <td>179</td>\n",
              "      <td>51</td>\n",
              "      <td>10/09/22</td>\n",
              "      <td>9ba9134a91cfc6b52ac8d480e9ad37896ca4ac216e2d79...</td>\n",
              "      <td>ac15eb6ea0471bd80c833fa9d4ff9799de32a00b4681b0...</td>\n",
              "      <td>735b17b54154132f4d5c48eebcabe058b0e5a2953932ad...</td>\n",
              "      <td>bbdefa2950f49882f295b1285d4fa9dec45fc4144bfb07...</td>\n",
              "      <td>69f81619d0ef92cbb165a44e76f4f0c284d2aa83c318fa...</td>\n",
              "      <td>c384826dfbfce62c3fd99a46984a56fe71546a85c2cb6c...</td>\n",
              "      <td>8d23a6e37e0a6431a8f1b43a91026dcff51170a89a6512...</td>\n",
              "      <td>NaN</td>\n",
              "      <td>f2a5171da297accb58cb0d1ad4480127032153e3437164...</td>\n",
              "    </tr>\n",
              "    <tr>\n",
              "      <th>46570</th>\n",
              "      <td>46570</td>\n",
              "      <td>96ab6152cb421b4d4012a4903c19004608a342a5f7c667...</td>\n",
              "      <td>WON</td>\n",
              "      <td>NaN</td>\n",
              "      <td>180</td>\n",
              "      <td>44</td>\n",
              "      <td>16/09/22</td>\n",
              "      <td>9ba9134a91cfc6b52ac8d480e9ad37896ca4ac216e2d79...</td>\n",
              "      <td>ecc0e7dc084f141b29479058967d0bc07dee25d9690a98...</td>\n",
              "      <td>e09e10e67812e9d236ad900e5d46b4308fc62f5d69446a...</td>\n",
              "      <td>bbdefa2950f49882f295b1285d4fa9dec45fc4144bfb07...</td>\n",
              "      <td>69f81619d0ef92cbb165a44e76f4f0c284d2aa83c318fa...</td>\n",
              "      <td>6c5988c3032fffdad757f9ece1a56029a631825d527001...</td>\n",
              "      <td>8d23a6e37e0a6431a8f1b43a91026dcff51170a89a6512...</td>\n",
              "      <td>NaN</td>\n",
              "      <td>f5f0dcf17a05f003011a264327b0666ddcbc9855dc1882...</td>\n",
              "    </tr>\n",
              "    <tr>\n",
              "      <th>46586</th>\n",
              "      <td>46586</td>\n",
              "      <td>1dc43dab243ecfa3cc71b4fbc230ffd813798c72d1d551...</td>\n",
              "      <td>WON</td>\n",
              "      <td>NaN</td>\n",
              "      <td>£121 - £180 Per Week</td>\n",
              "      <td>Complete Education Year Stay 50 - 52 weeks</td>\n",
              "      <td>05/09/22</td>\n",
              "      <td>7aae3e886e89fc1187a5c47d6cea1c22998ee610ade1f2...</td>\n",
              "      <td>11ab03a1a8c367191355c152f39fe28cae5e426fce49ef...</td>\n",
              "      <td>e09e10e67812e9d236ad900e5d46b4308fc62f5d69446a...</td>\n",
              "      <td>bbdefa2950f49882f295b1285d4fa9dec45fc4144bfb07...</td>\n",
              "      <td>09076eb7665d1fb9389c7c4517fee0b00e43092eb34821...</td>\n",
              "      <td>19372fa44c57a01c37a5a8418779ca3d99b0b59731fb35...</td>\n",
              "      <td>8d23a6e37e0a6431a8f1b43a91026dcff51170a89a6512...</td>\n",
              "      <td>Studio</td>\n",
              "      <td>b872d8eaf5a329e82b57308671ef177cf67eb594b72b7b...</td>\n",
              "    </tr>\n",
              "    <tr>\n",
              "      <th>46592</th>\n",
              "      <td>46592</td>\n",
              "      <td>c077ad291c7b691b8defba867c1b937f16e878c1f3bdd5...</td>\n",
              "      <td>WON</td>\n",
              "      <td>NaN</td>\n",
              "      <td>£60 - £120 Per week</td>\n",
              "      <td>Full Year Course Stay 40 - 44 weeks</td>\n",
              "      <td>12/09/22</td>\n",
              "      <td>7aae3e886e89fc1187a5c47d6cea1c22998ee610ade1f2...</td>\n",
              "      <td>777e88b51092d314e2b6b9e523fc4dc2f3281c52df171e...</td>\n",
              "      <td>e09e10e67812e9d236ad900e5d46b4308fc62f5d69446a...</td>\n",
              "      <td>bbdefa2950f49882f295b1285d4fa9dec45fc4144bfb07...</td>\n",
              "      <td>09076eb7665d1fb9389c7c4517fee0b00e43092eb34821...</td>\n",
              "      <td>810c069040f6a9b16fdf976a901755508a87cb0224b169...</td>\n",
              "      <td>8d23a6e37e0a6431a8f1b43a91026dcff51170a89a6512...</td>\n",
              "      <td>Ensuite</td>\n",
              "      <td>2dde69fbc6fae52d8fb97a4b8eeb0da2829ab14009f9c4...</td>\n",
              "    </tr>\n",
              "  </tbody>\n",
              "</table>\n",
              "<p>3364 rows × 16 columns</p>\n",
              "</div>\n",
              "      <button class=\"colab-df-convert\" onclick=\"convertToInteractive('df-f0f48843-37b5-4e61-96a5-5f81a705e3e6')\"\n",
              "              title=\"Convert this dataframe to an interactive table.\"\n",
              "              style=\"display:none;\">\n",
              "        \n",
              "  <svg xmlns=\"http://www.w3.org/2000/svg\" height=\"24px\"viewBox=\"0 0 24 24\"\n",
              "       width=\"24px\">\n",
              "    <path d=\"M0 0h24v24H0V0z\" fill=\"none\"/>\n",
              "    <path d=\"M18.56 5.44l.94 2.06.94-2.06 2.06-.94-2.06-.94-.94-2.06-.94 2.06-2.06.94zm-11 1L8.5 8.5l.94-2.06 2.06-.94-2.06-.94L8.5 2.5l-.94 2.06-2.06.94zm10 10l.94 2.06.94-2.06 2.06-.94-2.06-.94-.94-2.06-.94 2.06-2.06.94z\"/><path d=\"M17.41 7.96l-1.37-1.37c-.4-.4-.92-.59-1.43-.59-.52 0-1.04.2-1.43.59L10.3 9.45l-7.72 7.72c-.78.78-.78 2.05 0 2.83L4 21.41c.39.39.9.59 1.41.59.51 0 1.02-.2 1.41-.59l7.78-7.78 2.81-2.81c.8-.78.8-2.07 0-2.86zM5.41 20L4 18.59l7.72-7.72 1.47 1.35L5.41 20z\"/>\n",
              "  </svg>\n",
              "      </button>\n",
              "      \n",
              "  <style>\n",
              "    .colab-df-container {\n",
              "      display:flex;\n",
              "      flex-wrap:wrap;\n",
              "      gap: 12px;\n",
              "    }\n",
              "\n",
              "    .colab-df-convert {\n",
              "      background-color: #E8F0FE;\n",
              "      border: none;\n",
              "      border-radius: 50%;\n",
              "      cursor: pointer;\n",
              "      display: none;\n",
              "      fill: #1967D2;\n",
              "      height: 32px;\n",
              "      padding: 0 0 0 0;\n",
              "      width: 32px;\n",
              "    }\n",
              "\n",
              "    .colab-df-convert:hover {\n",
              "      background-color: #E2EBFA;\n",
              "      box-shadow: 0px 1px 2px rgba(60, 64, 67, 0.3), 0px 1px 3px 1px rgba(60, 64, 67, 0.15);\n",
              "      fill: #174EA6;\n",
              "    }\n",
              "\n",
              "    [theme=dark] .colab-df-convert {\n",
              "      background-color: #3B4455;\n",
              "      fill: #D2E3FC;\n",
              "    }\n",
              "\n",
              "    [theme=dark] .colab-df-convert:hover {\n",
              "      background-color: #434B5C;\n",
              "      box-shadow: 0px 1px 3px 1px rgba(0, 0, 0, 0.15);\n",
              "      filter: drop-shadow(0px 1px 2px rgba(0, 0, 0, 0.3));\n",
              "      fill: #FFFFFF;\n",
              "    }\n",
              "  </style>\n",
              "\n",
              "      <script>\n",
              "        const buttonEl =\n",
              "          document.querySelector('#df-f0f48843-37b5-4e61-96a5-5f81a705e3e6 button.colab-df-convert');\n",
              "        buttonEl.style.display =\n",
              "          google.colab.kernel.accessAllowed ? 'block' : 'none';\n",
              "\n",
              "        async function convertToInteractive(key) {\n",
              "          const element = document.querySelector('#df-f0f48843-37b5-4e61-96a5-5f81a705e3e6');\n",
              "          const dataTable =\n",
              "            await google.colab.kernel.invokeFunction('convertToInteractive',\n",
              "                                                     [key], {});\n",
              "          if (!dataTable) return;\n",
              "\n",
              "          const docLinkHtml = 'Like what you see? Visit the ' +\n",
              "            '<a target=\"_blank\" href=https://colab.research.google.com/notebooks/data_table.ipynb>data table notebook</a>'\n",
              "            + ' to learn more about interactive tables.';\n",
              "          element.innerHTML = '';\n",
              "          dataTable['output_type'] = 'display_data';\n",
              "          await google.colab.output.renderOutput(dataTable, element);\n",
              "          const docLink = document.createElement('div');\n",
              "          docLink.innerHTML = docLinkHtml;\n",
              "          element.appendChild(docLink);\n",
              "        }\n",
              "      </script>\n",
              "    </div>\n",
              "  </div>\n",
              "  "
            ]
          },
          "metadata": {},
          "execution_count": 11
        }
      ]
    },
    {
      "cell_type": "markdown",
      "source": [
        "It seems like lost reason is 'NaN', where status is won. "
      ],
      "metadata": {
        "id": "xIXjD0TxC7bW"
      }
    },
    {
      "cell_type": "code",
      "source": [
        "df['lost_reason'].fillna('Not appicable, Booking Accepted', inplace = True)"
      ],
      "metadata": {
        "id": "nMxRI8zAD2oA"
      },
      "execution_count": 12,
      "outputs": []
    },
    {
      "cell_type": "markdown",
      "source": [
        "Too many values are missing in movein and roomtype. Dropping both the columns. "
      ],
      "metadata": {
        "id": "MIchECnTFaIP"
      }
    },
    {
      "cell_type": "code",
      "source": [
        "df.drop(['movein', 'room_type'], axis =1, inplace = True)"
      ],
      "metadata": {
        "id": "fMscTpSqFi37"
      },
      "execution_count": 13,
      "outputs": []
    },
    {
      "cell_type": "code",
      "source": [
        "df[df['budget'].isnull()]"
      ],
      "metadata": {
        "colab": {
          "base_uri": "https://localhost:8080/",
          "height": 522
        },
        "id": "Kg4AhQCFD9IM",
        "outputId": "99cf85f4-36bd-4484-809e-1649f6479c96"
      },
      "execution_count": 14,
      "outputs": [
        {
          "output_type": "execute_result",
          "data": {
            "text/plain": [
              "       Unnamed: 0                                           Agent_id status  \\\n",
              "0               0  1deba9e96f404694373de9749ddd1ca8aa7bb823145a6f...   LOST   \n",
              "1               1  299ae77a4ef350ae0dd37d6bba1c002d03444fb1edb236...   LOST   \n",
              "4               4  1deba9e96f404694373de9749ddd1ca8aa7bb823145a6f...   LOST   \n",
              "25             25  6b61e611d25ec81e83491a7e289ed7483d067c4c9bb50e...   LOST   \n",
              "27             27  2fca346db656187102ce806ac732e06a62df0dbb2829e5...   LOST   \n",
              "...           ...                                                ...    ...   \n",
              "46505       46505  53eb7f9dcaa22b09db85547fa158a6893089db596bfdcc...   LOST   \n",
              "46509       46509  64ce47d15992e40da1dd9e37330f1aa90bf11b5878258a...   LOST   \n",
              "46572       46572  2306878a9ad9b57686cd623dd285aaa9b25afdf627f651...   LOST   \n",
              "46581       46581  c213697430c006013012dd2aca82dd9732aa0a1a6bca13...   LOST   \n",
              "46582       46582  bb22552c613cd3d30888fe8c4fecac110298f9f06698ef...   LOST   \n",
              "\n",
              "                       lost_reason budget lease  \\\n",
              "0                   Not responding    NaN   NaN   \n",
              "1                       Low budget    NaN   NaN   \n",
              "4                        Junk lead    NaN   NaN   \n",
              "25                  Not responding    NaN     0   \n",
              "27                Low availability    NaN     0   \n",
              "...                            ...    ...   ...   \n",
              "46505                Not a student    NaN   NaN   \n",
              "46509                    No supply    NaN   NaN   \n",
              "46572               Not interested    NaN     0   \n",
              "46581                   Low budget    NaN   NaN   \n",
              "46582  Wants private accommodation    NaN   NaN   \n",
              "\n",
              "                                                  source source_city  \\\n",
              "0                                                    NaN         NaN   \n",
              "1                                                    NaN         NaN   \n",
              "4                                                    NaN         NaN   \n",
              "25                                                   NaN         NaN   \n",
              "27                                                   NaN         NaN   \n",
              "...                                                  ...         ...   \n",
              "46505  b2b2a0ecb072ed25f1844a3325a810b85689bcc785ddb4...         NaN   \n",
              "46509                                                NaN         NaN   \n",
              "46572  9c225a25baf2847828f299f46f22428571a4b305ad465e...         NaN   \n",
              "46581                                                NaN         NaN   \n",
              "46582                                                NaN         NaN   \n",
              "\n",
              "                                          source_country  \\\n",
              "0                                                    NaN   \n",
              "1                                                    NaN   \n",
              "4                                                    NaN   \n",
              "25     abd149214539d9f222d25de6358735b9fa0efd3956f661...   \n",
              "27                                                   NaN   \n",
              "...                                                  ...   \n",
              "46505                                                NaN   \n",
              "46509                                                NaN   \n",
              "46572                                                NaN   \n",
              "46581                                                NaN   \n",
              "46582                                                NaN   \n",
              "\n",
              "                                              utm_source  \\\n",
              "0      3d59f7548e1af2151b64135003ce63c0a484c26b9b8b16...   \n",
              "1      3d59f7548e1af2151b64135003ce63c0a484c26b9b8b16...   \n",
              "4      3d59f7548e1af2151b64135003ce63c0a484c26b9b8b16...   \n",
              "25     ec8202b6f9fb16f9e26b66367afa4e037752f3c09a18ce...   \n",
              "27     3d59f7548e1af2151b64135003ce63c0a484c26b9b8b16...   \n",
              "...                                                  ...   \n",
              "46505  7f3fa48ca885678134842fa7456f3ece53a97f843b6101...   \n",
              "46509  3d59f7548e1af2151b64135003ce63c0a484c26b9b8b16...   \n",
              "46572  44574c4ba2ea74ad4bf1e184133cdbf4e7390a3690beff...   \n",
              "46581  3d59f7548e1af2151b64135003ce63c0a484c26b9b8b16...   \n",
              "46582  3d59f7548e1af2151b64135003ce63c0a484c26b9b8b16...   \n",
              "\n",
              "                                              utm_medium  \\\n",
              "0      268ad70eb5bc4737a2ae28162cbca30118cc94520e49ef...   \n",
              "1      268ad70eb5bc4737a2ae28162cbca30118cc94520e49ef...   \n",
              "4      268ad70eb5bc4737a2ae28162cbca30118cc94520e49ef...   \n",
              "25     4ed379d418bb86290a01117e9ceb0debffc4d1b7087db6...   \n",
              "27     4ed379d418bb86290a01117e9ceb0debffc4d1b7087db6...   \n",
              "...                                                  ...   \n",
              "46505  4f86ca37dd9e4b9b0c94b2fc9dc36771317ce4593f93f9...   \n",
              "46509  268ad70eb5bc4737a2ae28162cbca30118cc94520e49ef...   \n",
              "46572  09076eb7665d1fb9389c7c4517fee0b00e43092eb34821...   \n",
              "46581  268ad70eb5bc4737a2ae28162cbca30118cc94520e49ef...   \n",
              "46582  268ad70eb5bc4737a2ae28162cbca30118cc94520e49ef...   \n",
              "\n",
              "                                                des_city  \\\n",
              "0      ecc0e7dc084f141b29479058967d0bc07dee25d9690a98...   \n",
              "1      5372372f3bf5896820cb2819300c3e681820d82c6efc54...   \n",
              "4                                                    NaN   \n",
              "25     6a5ed83658ef85afc77709cc16ede854ad98e3c2ad8b07...   \n",
              "27     0a8ad51fea30c29587f61bd8420a49602aa78304833627...   \n",
              "...                                                  ...   \n",
              "46505                                                NaN   \n",
              "46509  086eec074ad18d1159de3c076d7f7d8a55f5bc8d134f6f...   \n",
              "46572  c384826dfbfce62c3fd99a46984a56fe71546a85c2cb6c...   \n",
              "46581                                                NaN   \n",
              "46582  e509e9f3fb8f1e6b3cee0b3e924eb6e533928aeca83653...   \n",
              "\n",
              "                                             des_country  \\\n",
              "0      8d23a6e37e0a6431a8f1b43a91026dcff51170a89a6512...   \n",
              "1      8d23a6e37e0a6431a8f1b43a91026dcff51170a89a6512...   \n",
              "4                                                    NaN   \n",
              "25     8d23a6e37e0a6431a8f1b43a91026dcff51170a89a6512...   \n",
              "27     02bf1dfa9a0365a86223f0e4ac9eaa0517b06b2e927379...   \n",
              "...                                                  ...   \n",
              "46505                                                NaN   \n",
              "46509  8d23a6e37e0a6431a8f1b43a91026dcff51170a89a6512...   \n",
              "46572  8d23a6e37e0a6431a8f1b43a91026dcff51170a89a6512...   \n",
              "46581                                                NaN   \n",
              "46582  8d23a6e37e0a6431a8f1b43a91026dcff51170a89a6512...   \n",
              "\n",
              "                                                 lead_id  \n",
              "0      cd5dc0d9393f3980d11d4ba6f88f8110c2b7a7f7796307...  \n",
              "1      b94693673a5f7178d1b114e4004ad52377d3244dd24a3d...  \n",
              "4      fc10fffd29cfbe93c55158fb47752a7501c211d253468c...  \n",
              "25     11912c46b1c88029c447f4bbd61669680bf114881f4a1a...  \n",
              "27     27ecd20aff6354468464e8f69eb31bf64232a5d93b27a2...  \n",
              "...                                                  ...  \n",
              "46505  3451f0dc40f9e1e4f8a86d837716fdeb4c3674566d723c...  \n",
              "46509  9c2eeb40e195e586e6eab1335d3644b178e9002de061c1...  \n",
              "46572  f88dc31ca77b5271e7df490af95e0cab85a3d859b0edc2...  \n",
              "46581  8eb1790c9a94820022b72682ba955490697174ddc61293...  \n",
              "46582  98b4f190437c95869d33b2747577a243d64a9ada8add3f...  \n",
              "\n",
              "[3700 rows x 14 columns]"
            ],
            "text/html": [
              "\n",
              "  <div id=\"df-670cef68-5341-495c-a35e-759b613a61a4\">\n",
              "    <div class=\"colab-df-container\">\n",
              "      <div>\n",
              "<style scoped>\n",
              "    .dataframe tbody tr th:only-of-type {\n",
              "        vertical-align: middle;\n",
              "    }\n",
              "\n",
              "    .dataframe tbody tr th {\n",
              "        vertical-align: top;\n",
              "    }\n",
              "\n",
              "    .dataframe thead th {\n",
              "        text-align: right;\n",
              "    }\n",
              "</style>\n",
              "<table border=\"1\" class=\"dataframe\">\n",
              "  <thead>\n",
              "    <tr style=\"text-align: right;\">\n",
              "      <th></th>\n",
              "      <th>Unnamed: 0</th>\n",
              "      <th>Agent_id</th>\n",
              "      <th>status</th>\n",
              "      <th>lost_reason</th>\n",
              "      <th>budget</th>\n",
              "      <th>lease</th>\n",
              "      <th>source</th>\n",
              "      <th>source_city</th>\n",
              "      <th>source_country</th>\n",
              "      <th>utm_source</th>\n",
              "      <th>utm_medium</th>\n",
              "      <th>des_city</th>\n",
              "      <th>des_country</th>\n",
              "      <th>lead_id</th>\n",
              "    </tr>\n",
              "  </thead>\n",
              "  <tbody>\n",
              "    <tr>\n",
              "      <th>0</th>\n",
              "      <td>0</td>\n",
              "      <td>1deba9e96f404694373de9749ddd1ca8aa7bb823145a6f...</td>\n",
              "      <td>LOST</td>\n",
              "      <td>Not responding</td>\n",
              "      <td>NaN</td>\n",
              "      <td>NaN</td>\n",
              "      <td>NaN</td>\n",
              "      <td>NaN</td>\n",
              "      <td>NaN</td>\n",
              "      <td>3d59f7548e1af2151b64135003ce63c0a484c26b9b8b16...</td>\n",
              "      <td>268ad70eb5bc4737a2ae28162cbca30118cc94520e49ef...</td>\n",
              "      <td>ecc0e7dc084f141b29479058967d0bc07dee25d9690a98...</td>\n",
              "      <td>8d23a6e37e0a6431a8f1b43a91026dcff51170a89a6512...</td>\n",
              "      <td>cd5dc0d9393f3980d11d4ba6f88f8110c2b7a7f7796307...</td>\n",
              "    </tr>\n",
              "    <tr>\n",
              "      <th>1</th>\n",
              "      <td>1</td>\n",
              "      <td>299ae77a4ef350ae0dd37d6bba1c002d03444fb1edb236...</td>\n",
              "      <td>LOST</td>\n",
              "      <td>Low budget</td>\n",
              "      <td>NaN</td>\n",
              "      <td>NaN</td>\n",
              "      <td>NaN</td>\n",
              "      <td>NaN</td>\n",
              "      <td>NaN</td>\n",
              "      <td>3d59f7548e1af2151b64135003ce63c0a484c26b9b8b16...</td>\n",
              "      <td>268ad70eb5bc4737a2ae28162cbca30118cc94520e49ef...</td>\n",
              "      <td>5372372f3bf5896820cb2819300c3e681820d82c6efc54...</td>\n",
              "      <td>8d23a6e37e0a6431a8f1b43a91026dcff51170a89a6512...</td>\n",
              "      <td>b94693673a5f7178d1b114e4004ad52377d3244dd24a3d...</td>\n",
              "    </tr>\n",
              "    <tr>\n",
              "      <th>4</th>\n",
              "      <td>4</td>\n",
              "      <td>1deba9e96f404694373de9749ddd1ca8aa7bb823145a6f...</td>\n",
              "      <td>LOST</td>\n",
              "      <td>Junk lead</td>\n",
              "      <td>NaN</td>\n",
              "      <td>NaN</td>\n",
              "      <td>NaN</td>\n",
              "      <td>NaN</td>\n",
              "      <td>NaN</td>\n",
              "      <td>3d59f7548e1af2151b64135003ce63c0a484c26b9b8b16...</td>\n",
              "      <td>268ad70eb5bc4737a2ae28162cbca30118cc94520e49ef...</td>\n",
              "      <td>NaN</td>\n",
              "      <td>NaN</td>\n",
              "      <td>fc10fffd29cfbe93c55158fb47752a7501c211d253468c...</td>\n",
              "    </tr>\n",
              "    <tr>\n",
              "      <th>25</th>\n",
              "      <td>25</td>\n",
              "      <td>6b61e611d25ec81e83491a7e289ed7483d067c4c9bb50e...</td>\n",
              "      <td>LOST</td>\n",
              "      <td>Not responding</td>\n",
              "      <td>NaN</td>\n",
              "      <td>0</td>\n",
              "      <td>NaN</td>\n",
              "      <td>NaN</td>\n",
              "      <td>abd149214539d9f222d25de6358735b9fa0efd3956f661...</td>\n",
              "      <td>ec8202b6f9fb16f9e26b66367afa4e037752f3c09a18ce...</td>\n",
              "      <td>4ed379d418bb86290a01117e9ceb0debffc4d1b7087db6...</td>\n",
              "      <td>6a5ed83658ef85afc77709cc16ede854ad98e3c2ad8b07...</td>\n",
              "      <td>8d23a6e37e0a6431a8f1b43a91026dcff51170a89a6512...</td>\n",
              "      <td>11912c46b1c88029c447f4bbd61669680bf114881f4a1a...</td>\n",
              "    </tr>\n",
              "    <tr>\n",
              "      <th>27</th>\n",
              "      <td>27</td>\n",
              "      <td>2fca346db656187102ce806ac732e06a62df0dbb2829e5...</td>\n",
              "      <td>LOST</td>\n",
              "      <td>Low availability</td>\n",
              "      <td>NaN</td>\n",
              "      <td>0</td>\n",
              "      <td>NaN</td>\n",
              "      <td>NaN</td>\n",
              "      <td>NaN</td>\n",
              "      <td>3d59f7548e1af2151b64135003ce63c0a484c26b9b8b16...</td>\n",
              "      <td>4ed379d418bb86290a01117e9ceb0debffc4d1b7087db6...</td>\n",
              "      <td>0a8ad51fea30c29587f61bd8420a49602aa78304833627...</td>\n",
              "      <td>02bf1dfa9a0365a86223f0e4ac9eaa0517b06b2e927379...</td>\n",
              "      <td>27ecd20aff6354468464e8f69eb31bf64232a5d93b27a2...</td>\n",
              "    </tr>\n",
              "    <tr>\n",
              "      <th>...</th>\n",
              "      <td>...</td>\n",
              "      <td>...</td>\n",
              "      <td>...</td>\n",
              "      <td>...</td>\n",
              "      <td>...</td>\n",
              "      <td>...</td>\n",
              "      <td>...</td>\n",
              "      <td>...</td>\n",
              "      <td>...</td>\n",
              "      <td>...</td>\n",
              "      <td>...</td>\n",
              "      <td>...</td>\n",
              "      <td>...</td>\n",
              "      <td>...</td>\n",
              "    </tr>\n",
              "    <tr>\n",
              "      <th>46505</th>\n",
              "      <td>46505</td>\n",
              "      <td>53eb7f9dcaa22b09db85547fa158a6893089db596bfdcc...</td>\n",
              "      <td>LOST</td>\n",
              "      <td>Not a student</td>\n",
              "      <td>NaN</td>\n",
              "      <td>NaN</td>\n",
              "      <td>b2b2a0ecb072ed25f1844a3325a810b85689bcc785ddb4...</td>\n",
              "      <td>NaN</td>\n",
              "      <td>NaN</td>\n",
              "      <td>7f3fa48ca885678134842fa7456f3ece53a97f843b6101...</td>\n",
              "      <td>4f86ca37dd9e4b9b0c94b2fc9dc36771317ce4593f93f9...</td>\n",
              "      <td>NaN</td>\n",
              "      <td>NaN</td>\n",
              "      <td>3451f0dc40f9e1e4f8a86d837716fdeb4c3674566d723c...</td>\n",
              "    </tr>\n",
              "    <tr>\n",
              "      <th>46509</th>\n",
              "      <td>46509</td>\n",
              "      <td>64ce47d15992e40da1dd9e37330f1aa90bf11b5878258a...</td>\n",
              "      <td>LOST</td>\n",
              "      <td>No supply</td>\n",
              "      <td>NaN</td>\n",
              "      <td>NaN</td>\n",
              "      <td>NaN</td>\n",
              "      <td>NaN</td>\n",
              "      <td>NaN</td>\n",
              "      <td>3d59f7548e1af2151b64135003ce63c0a484c26b9b8b16...</td>\n",
              "      <td>268ad70eb5bc4737a2ae28162cbca30118cc94520e49ef...</td>\n",
              "      <td>086eec074ad18d1159de3c076d7f7d8a55f5bc8d134f6f...</td>\n",
              "      <td>8d23a6e37e0a6431a8f1b43a91026dcff51170a89a6512...</td>\n",
              "      <td>9c2eeb40e195e586e6eab1335d3644b178e9002de061c1...</td>\n",
              "    </tr>\n",
              "    <tr>\n",
              "      <th>46572</th>\n",
              "      <td>46572</td>\n",
              "      <td>2306878a9ad9b57686cd623dd285aaa9b25afdf627f651...</td>\n",
              "      <td>LOST</td>\n",
              "      <td>Not interested</td>\n",
              "      <td>NaN</td>\n",
              "      <td>0</td>\n",
              "      <td>9c225a25baf2847828f299f46f22428571a4b305ad465e...</td>\n",
              "      <td>NaN</td>\n",
              "      <td>NaN</td>\n",
              "      <td>44574c4ba2ea74ad4bf1e184133cdbf4e7390a3690beff...</td>\n",
              "      <td>09076eb7665d1fb9389c7c4517fee0b00e43092eb34821...</td>\n",
              "      <td>c384826dfbfce62c3fd99a46984a56fe71546a85c2cb6c...</td>\n",
              "      <td>8d23a6e37e0a6431a8f1b43a91026dcff51170a89a6512...</td>\n",
              "      <td>f88dc31ca77b5271e7df490af95e0cab85a3d859b0edc2...</td>\n",
              "    </tr>\n",
              "    <tr>\n",
              "      <th>46581</th>\n",
              "      <td>46581</td>\n",
              "      <td>c213697430c006013012dd2aca82dd9732aa0a1a6bca13...</td>\n",
              "      <td>LOST</td>\n",
              "      <td>Low budget</td>\n",
              "      <td>NaN</td>\n",
              "      <td>NaN</td>\n",
              "      <td>NaN</td>\n",
              "      <td>NaN</td>\n",
              "      <td>NaN</td>\n",
              "      <td>3d59f7548e1af2151b64135003ce63c0a484c26b9b8b16...</td>\n",
              "      <td>268ad70eb5bc4737a2ae28162cbca30118cc94520e49ef...</td>\n",
              "      <td>NaN</td>\n",
              "      <td>NaN</td>\n",
              "      <td>8eb1790c9a94820022b72682ba955490697174ddc61293...</td>\n",
              "    </tr>\n",
              "    <tr>\n",
              "      <th>46582</th>\n",
              "      <td>46582</td>\n",
              "      <td>bb22552c613cd3d30888fe8c4fecac110298f9f06698ef...</td>\n",
              "      <td>LOST</td>\n",
              "      <td>Wants private accommodation</td>\n",
              "      <td>NaN</td>\n",
              "      <td>NaN</td>\n",
              "      <td>NaN</td>\n",
              "      <td>NaN</td>\n",
              "      <td>NaN</td>\n",
              "      <td>3d59f7548e1af2151b64135003ce63c0a484c26b9b8b16...</td>\n",
              "      <td>268ad70eb5bc4737a2ae28162cbca30118cc94520e49ef...</td>\n",
              "      <td>e509e9f3fb8f1e6b3cee0b3e924eb6e533928aeca83653...</td>\n",
              "      <td>8d23a6e37e0a6431a8f1b43a91026dcff51170a89a6512...</td>\n",
              "      <td>98b4f190437c95869d33b2747577a243d64a9ada8add3f...</td>\n",
              "    </tr>\n",
              "  </tbody>\n",
              "</table>\n",
              "<p>3700 rows × 14 columns</p>\n",
              "</div>\n",
              "      <button class=\"colab-df-convert\" onclick=\"convertToInteractive('df-670cef68-5341-495c-a35e-759b613a61a4')\"\n",
              "              title=\"Convert this dataframe to an interactive table.\"\n",
              "              style=\"display:none;\">\n",
              "        \n",
              "  <svg xmlns=\"http://www.w3.org/2000/svg\" height=\"24px\"viewBox=\"0 0 24 24\"\n",
              "       width=\"24px\">\n",
              "    <path d=\"M0 0h24v24H0V0z\" fill=\"none\"/>\n",
              "    <path d=\"M18.56 5.44l.94 2.06.94-2.06 2.06-.94-2.06-.94-.94-2.06-.94 2.06-2.06.94zm-11 1L8.5 8.5l.94-2.06 2.06-.94-2.06-.94L8.5 2.5l-.94 2.06-2.06.94zm10 10l.94 2.06.94-2.06 2.06-.94-2.06-.94-.94-2.06-.94 2.06-2.06.94z\"/><path d=\"M17.41 7.96l-1.37-1.37c-.4-.4-.92-.59-1.43-.59-.52 0-1.04.2-1.43.59L10.3 9.45l-7.72 7.72c-.78.78-.78 2.05 0 2.83L4 21.41c.39.39.9.59 1.41.59.51 0 1.02-.2 1.41-.59l7.78-7.78 2.81-2.81c.8-.78.8-2.07 0-2.86zM5.41 20L4 18.59l7.72-7.72 1.47 1.35L5.41 20z\"/>\n",
              "  </svg>\n",
              "      </button>\n",
              "      \n",
              "  <style>\n",
              "    .colab-df-container {\n",
              "      display:flex;\n",
              "      flex-wrap:wrap;\n",
              "      gap: 12px;\n",
              "    }\n",
              "\n",
              "    .colab-df-convert {\n",
              "      background-color: #E8F0FE;\n",
              "      border: none;\n",
              "      border-radius: 50%;\n",
              "      cursor: pointer;\n",
              "      display: none;\n",
              "      fill: #1967D2;\n",
              "      height: 32px;\n",
              "      padding: 0 0 0 0;\n",
              "      width: 32px;\n",
              "    }\n",
              "\n",
              "    .colab-df-convert:hover {\n",
              "      background-color: #E2EBFA;\n",
              "      box-shadow: 0px 1px 2px rgba(60, 64, 67, 0.3), 0px 1px 3px 1px rgba(60, 64, 67, 0.15);\n",
              "      fill: #174EA6;\n",
              "    }\n",
              "\n",
              "    [theme=dark] .colab-df-convert {\n",
              "      background-color: #3B4455;\n",
              "      fill: #D2E3FC;\n",
              "    }\n",
              "\n",
              "    [theme=dark] .colab-df-convert:hover {\n",
              "      background-color: #434B5C;\n",
              "      box-shadow: 0px 1px 3px 1px rgba(0, 0, 0, 0.15);\n",
              "      filter: drop-shadow(0px 1px 2px rgba(0, 0, 0, 0.3));\n",
              "      fill: #FFFFFF;\n",
              "    }\n",
              "  </style>\n",
              "\n",
              "      <script>\n",
              "        const buttonEl =\n",
              "          document.querySelector('#df-670cef68-5341-495c-a35e-759b613a61a4 button.colab-df-convert');\n",
              "        buttonEl.style.display =\n",
              "          google.colab.kernel.accessAllowed ? 'block' : 'none';\n",
              "\n",
              "        async function convertToInteractive(key) {\n",
              "          const element = document.querySelector('#df-670cef68-5341-495c-a35e-759b613a61a4');\n",
              "          const dataTable =\n",
              "            await google.colab.kernel.invokeFunction('convertToInteractive',\n",
              "                                                     [key], {});\n",
              "          if (!dataTable) return;\n",
              "\n",
              "          const docLinkHtml = 'Like what you see? Visit the ' +\n",
              "            '<a target=\"_blank\" href=https://colab.research.google.com/notebooks/data_table.ipynb>data table notebook</a>'\n",
              "            + ' to learn more about interactive tables.';\n",
              "          element.innerHTML = '';\n",
              "          dataTable['output_type'] = 'display_data';\n",
              "          await google.colab.output.renderOutput(dataTable, element);\n",
              "          const docLink = document.createElement('div');\n",
              "          docLink.innerHTML = docLinkHtml;\n",
              "          element.appendChild(docLink);\n",
              "        }\n",
              "      </script>\n",
              "    </div>\n",
              "  </div>\n",
              "  "
            ]
          },
          "metadata": {},
          "execution_count": 14
        }
      ]
    },
    {
      "cell_type": "code",
      "source": [
        "df.isnull().sum()"
      ],
      "metadata": {
        "colab": {
          "base_uri": "https://localhost:8080/"
        },
        "id": "PEOaN29DEi5x",
        "outputId": "c5fab9b3-6ca4-439c-85e8-5b988fe93deb"
      },
      "execution_count": 15,
      "outputs": [
        {
          "output_type": "execute_result",
          "data": {
            "text/plain": [
              "Unnamed: 0           0\n",
              "Agent_id             0\n",
              "status               0\n",
              "lost_reason          0\n",
              "budget            3700\n",
              "lease             2341\n",
              "source               0\n",
              "source_city          0\n",
              "source_country       0\n",
              "utm_source           0\n",
              "utm_medium           0\n",
              "des_city             0\n",
              "des_country          0\n",
              "lead_id              0\n",
              "dtype: int64"
            ]
          },
          "metadata": {},
          "execution_count": 15
        }
      ]
    },
    {
      "cell_type": "markdown",
      "source": [
        "Budget and Lease can be the most important features of our machine learning modelling. Taking any assumption of their values can create bias in our modelling. <br>\n",
        "Dropping the rows, where budget and lease are Null. "
      ],
      "metadata": {
        "id": "QdJ-jxnpGYUo"
      }
    },
    {
      "cell_type": "code",
      "source": [
        "df[df['budget'].isnull()].lease"
      ],
      "metadata": {
        "colab": {
          "base_uri": "https://localhost:8080/"
        },
        "id": "TtziakfTGDcr",
        "outputId": "85db1896-f258-49e4-ffda-ea127dde84be"
      },
      "execution_count": 16,
      "outputs": [
        {
          "output_type": "execute_result",
          "data": {
            "text/plain": [
              "0        NaN\n",
              "1        NaN\n",
              "4        NaN\n",
              "25         0\n",
              "27         0\n",
              "        ... \n",
              "46505    NaN\n",
              "46509    NaN\n",
              "46572      0\n",
              "46581    NaN\n",
              "46582    NaN\n",
              "Name: lease, Length: 3700, dtype: object"
            ]
          },
          "metadata": {},
          "execution_count": 16
        }
      ]
    },
    {
      "cell_type": "code",
      "source": [
        "df.dropna(inplace = True)"
      ],
      "metadata": {
        "id": "Hb1jJ9TrGx96"
      },
      "execution_count": 17,
      "outputs": []
    },
    {
      "cell_type": "code",
      "source": [
        "df.isnull().sum()"
      ],
      "metadata": {
        "colab": {
          "base_uri": "https://localhost:8080/"
        },
        "id": "Db3kF4gqHDkR",
        "outputId": "5dd9ca8c-7bb7-4907-c90a-71d5a7a00e36"
      },
      "execution_count": 18,
      "outputs": [
        {
          "output_type": "execute_result",
          "data": {
            "text/plain": [
              "Unnamed: 0        0\n",
              "Agent_id          0\n",
              "status            0\n",
              "lost_reason       0\n",
              "budget            0\n",
              "lease             0\n",
              "source            0\n",
              "source_city       0\n",
              "source_country    0\n",
              "utm_source        0\n",
              "utm_medium        0\n",
              "des_city          0\n",
              "des_country       0\n",
              "lead_id           0\n",
              "dtype: int64"
            ]
          },
          "metadata": {},
          "execution_count": 18
        }
      ]
    },
    {
      "cell_type": "markdown",
      "source": [
        "No missing values, now we can start our analysis. "
      ],
      "metadata": {
        "id": "T8sWUXtLHIO5"
      }
    },
    {
      "cell_type": "markdown",
      "source": [
        "**Dropping status other than Won and Lost**"
      ],
      "metadata": {
        "id": "xYywI8zcJ7zH"
      }
    },
    {
      "cell_type": "code",
      "source": [
        "df['status'].value_counts()"
      ],
      "metadata": {
        "colab": {
          "base_uri": "https://localhost:8080/"
        },
        "id": "E58SlWrZLF4O",
        "outputId": "eae65c46-be4e-40c8-b2fc-8f13bd387cd8"
      },
      "execution_count": 19,
      "outputs": [
        {
          "output_type": "execute_result",
          "data": {
            "text/plain": [
              "LOST           39561\n",
              "WON             2991\n",
              "OPPORTUNITY      248\n",
              "CONTACTED         28\n",
              "PROCESSING         8\n",
              "IMPORTANT          1\n",
              "Name: status, dtype: int64"
            ]
          },
          "metadata": {},
          "execution_count": 19
        }
      ]
    },
    {
      "cell_type": "code",
      "source": [
        "df = df.loc[df['status'].isin(['WON', 'LOST'])]\n"
      ],
      "metadata": {
        "id": "HRyc22FdNKK0"
      },
      "execution_count": 20,
      "outputs": []
    },
    {
      "cell_type": "code",
      "source": [
        "df['status'].value_counts()"
      ],
      "metadata": {
        "colab": {
          "base_uri": "https://localhost:8080/"
        },
        "id": "Oscgr_gyLgGd",
        "outputId": "363b79e0-9e1b-4941-e349-4e71a31d4531"
      },
      "execution_count": 21,
      "outputs": [
        {
          "output_type": "execute_result",
          "data": {
            "text/plain": [
              "LOST    39561\n",
              "WON      2991\n",
              "Name: status, dtype: int64"
            ]
          },
          "metadata": {},
          "execution_count": 21
        }
      ]
    },
    {
      "cell_type": "markdown",
      "source": [
        "## Data Exploration "
      ],
      "metadata": {
        "id": "wswgC83hHR5X"
      }
    },
    {
      "cell_type": "code",
      "source": [
        "df.head()"
      ],
      "metadata": {
        "colab": {
          "base_uri": "https://localhost:8080/",
          "height": 409
        },
        "id": "xQ_xjbywJGtO",
        "outputId": "e1945269-37fc-4f42-a1dc-ce65fe8f4259"
      },
      "execution_count": 22,
      "outputs": [
        {
          "output_type": "execute_result",
          "data": {
            "text/plain": [
              "   Unnamed: 0                                           Agent_id status  \\\n",
              "2           2  c213697430c006013012dd2aca82dd9732aa0a1a6bca13...   LOST   \n",
              "3           3  eac9815a500f908736d303e23aa227f0957177b0e6756b...   LOST   \n",
              "5           5  2306878a9ad9b57686cd623dd285aaa9b25afdf627f651...   LOST   \n",
              "6           6  2306878a9ad9b57686cd623dd285aaa9b25afdf627f651...   LOST   \n",
              "7           7  44864c96fa1c36602f0d045b268981b6cab638a60fc207...   LOST   \n",
              "\n",
              "                   lost_reason                budget  \\\n",
              "2               Not responding  £121 - £180 Per Week   \n",
              "3                   Low budget                   0-0   \n",
              "5  Wants private accommodation                   120   \n",
              "6                   Short stay                   0-0   \n",
              "7  Wants private accommodation  £181 - £240 Per Week   \n",
              "\n",
              "                                 lease  \\\n",
              "2  Full Year Course Stay 40 - 44 weeks   \n",
              "3                                    0   \n",
              "5                        semester-stay   \n",
              "6                                    0   \n",
              "7                                   51   \n",
              "\n",
              "                                              source  \\\n",
              "2  7aae3e886e89fc1187a5c47d6cea1c22998ee610ade1f2...   \n",
              "3  ba2d0a29556ac20f86f45e4543c0825428cba33fd7a9ea...   \n",
              "5  7bcfca0e9d73371699b0adbf1c691e02108fa64f02f4db...   \n",
              "6  9ba9134a91cfc6b52ac8d480e9ad37896ca4ac216e2d79...   \n",
              "7  7aae3e886e89fc1187a5c47d6cea1c22998ee610ade1f2...   \n",
              "\n",
              "                                         source_city  \\\n",
              "2  9b8cc3c63cdf447e463c11544924bf027945cbd29675f7...   \n",
              "3  a5f0d2d08eb0592087e3a3a2f9c1ba2c67cc30f2efd2bd...   \n",
              "5  7b7f15f9ffbeb905caaee265ac39d267d0512ab5333f2f...   \n",
              "6  3c1def48af45cb9748302f34e57f2cbeb866de95beb0d2...   \n",
              "7  8593b9db65212160979d946950601c26622a219c80f1f1...   \n",
              "\n",
              "                                      source_country  \\\n",
              "2  e09e10e67812e9d236ad900e5d46b4308fc62f5d69446a...   \n",
              "3  e09e10e67812e9d236ad900e5d46b4308fc62f5d69446a...   \n",
              "5  8da82000ef9c4468ba47362a924b895e40662fed846942...   \n",
              "6  e09e10e67812e9d236ad900e5d46b4308fc62f5d69446a...   \n",
              "7  e09e10e67812e9d236ad900e5d46b4308fc62f5d69446a...   \n",
              "\n",
              "                                          utm_source  \\\n",
              "2  bbdefa2950f49882f295b1285d4fa9dec45fc4144bfb07...   \n",
              "3  bbdefa2950f49882f295b1285d4fa9dec45fc4144bfb07...   \n",
              "5  bbdefa2950f49882f295b1285d4fa9dec45fc4144bfb07...   \n",
              "6  4688fa9ce4f64d0451be91f30a3de24a1c1c41635bd221...   \n",
              "7  bbdefa2950f49882f295b1285d4fa9dec45fc4144bfb07...   \n",
              "\n",
              "                                          utm_medium  \\\n",
              "2  09076eb7665d1fb9389c7c4517fee0b00e43092eb34821...   \n",
              "3  09076eb7665d1fb9389c7c4517fee0b00e43092eb34821...   \n",
              "5  09076eb7665d1fb9389c7c4517fee0b00e43092eb34821...   \n",
              "6  09076eb7665d1fb9389c7c4517fee0b00e43092eb34821...   \n",
              "7  09076eb7665d1fb9389c7c4517fee0b00e43092eb34821...   \n",
              "\n",
              "                                            des_city  \\\n",
              "2  11ab03a1a8c367191355c152f39fe28cae5e426fce49ef...   \n",
              "3  19372fa44c57a01c37a5a8418779ca3d99b0b59731fb35...   \n",
              "5  f19d051291d4364989e4e957ef610448af3e05863ee1b8...   \n",
              "6  ecc0e7dc084f141b29479058967d0bc07dee25d9690a98...   \n",
              "7  8593b9db65212160979d946950601c26622a219c80f1f1...   \n",
              "\n",
              "                                         des_country  \\\n",
              "2  8d23a6e37e0a6431a8f1b43a91026dcff51170a89a6512...   \n",
              "3  8d23a6e37e0a6431a8f1b43a91026dcff51170a89a6512...   \n",
              "5  8d23a6e37e0a6431a8f1b43a91026dcff51170a89a6512...   \n",
              "6  8d23a6e37e0a6431a8f1b43a91026dcff51170a89a6512...   \n",
              "7  8d23a6e37e0a6431a8f1b43a91026dcff51170a89a6512...   \n",
              "\n",
              "                                             lead_id  \n",
              "2  96ea4e2bf04496c044745938c0299c264c3f4ba079e572...  \n",
              "3  1d2b34d8add02a182a4129023766ca4585a8ddced0e5b3...  \n",
              "5  b26f82b657d94e19ef8382877006c3e9425d7e4ab836f9...  \n",
              "6  7ea9868bb6b4ebe610b0e509950b10322bcb7241d4a101...  \n",
              "7  96ea4e2bf04496c044745938c0299c264c3f4ba079e572...  "
            ],
            "text/html": [
              "\n",
              "  <div id=\"df-22abcf33-bd37-49db-9b92-b21d611829dc\">\n",
              "    <div class=\"colab-df-container\">\n",
              "      <div>\n",
              "<style scoped>\n",
              "    .dataframe tbody tr th:only-of-type {\n",
              "        vertical-align: middle;\n",
              "    }\n",
              "\n",
              "    .dataframe tbody tr th {\n",
              "        vertical-align: top;\n",
              "    }\n",
              "\n",
              "    .dataframe thead th {\n",
              "        text-align: right;\n",
              "    }\n",
              "</style>\n",
              "<table border=\"1\" class=\"dataframe\">\n",
              "  <thead>\n",
              "    <tr style=\"text-align: right;\">\n",
              "      <th></th>\n",
              "      <th>Unnamed: 0</th>\n",
              "      <th>Agent_id</th>\n",
              "      <th>status</th>\n",
              "      <th>lost_reason</th>\n",
              "      <th>budget</th>\n",
              "      <th>lease</th>\n",
              "      <th>source</th>\n",
              "      <th>source_city</th>\n",
              "      <th>source_country</th>\n",
              "      <th>utm_source</th>\n",
              "      <th>utm_medium</th>\n",
              "      <th>des_city</th>\n",
              "      <th>des_country</th>\n",
              "      <th>lead_id</th>\n",
              "    </tr>\n",
              "  </thead>\n",
              "  <tbody>\n",
              "    <tr>\n",
              "      <th>2</th>\n",
              "      <td>2</td>\n",
              "      <td>c213697430c006013012dd2aca82dd9732aa0a1a6bca13...</td>\n",
              "      <td>LOST</td>\n",
              "      <td>Not responding</td>\n",
              "      <td>£121 - £180 Per Week</td>\n",
              "      <td>Full Year Course Stay 40 - 44 weeks</td>\n",
              "      <td>7aae3e886e89fc1187a5c47d6cea1c22998ee610ade1f2...</td>\n",
              "      <td>9b8cc3c63cdf447e463c11544924bf027945cbd29675f7...</td>\n",
              "      <td>e09e10e67812e9d236ad900e5d46b4308fc62f5d69446a...</td>\n",
              "      <td>bbdefa2950f49882f295b1285d4fa9dec45fc4144bfb07...</td>\n",
              "      <td>09076eb7665d1fb9389c7c4517fee0b00e43092eb34821...</td>\n",
              "      <td>11ab03a1a8c367191355c152f39fe28cae5e426fce49ef...</td>\n",
              "      <td>8d23a6e37e0a6431a8f1b43a91026dcff51170a89a6512...</td>\n",
              "      <td>96ea4e2bf04496c044745938c0299c264c3f4ba079e572...</td>\n",
              "    </tr>\n",
              "    <tr>\n",
              "      <th>3</th>\n",
              "      <td>3</td>\n",
              "      <td>eac9815a500f908736d303e23aa227f0957177b0e6756b...</td>\n",
              "      <td>LOST</td>\n",
              "      <td>Low budget</td>\n",
              "      <td>0-0</td>\n",
              "      <td>0</td>\n",
              "      <td>ba2d0a29556ac20f86f45e4543c0825428cba33fd7a9ea...</td>\n",
              "      <td>a5f0d2d08eb0592087e3a3a2f9c1ba2c67cc30f2efd2bd...</td>\n",
              "      <td>e09e10e67812e9d236ad900e5d46b4308fc62f5d69446a...</td>\n",
              "      <td>bbdefa2950f49882f295b1285d4fa9dec45fc4144bfb07...</td>\n",
              "      <td>09076eb7665d1fb9389c7c4517fee0b00e43092eb34821...</td>\n",
              "      <td>19372fa44c57a01c37a5a8418779ca3d99b0b59731fb35...</td>\n",
              "      <td>8d23a6e37e0a6431a8f1b43a91026dcff51170a89a6512...</td>\n",
              "      <td>1d2b34d8add02a182a4129023766ca4585a8ddced0e5b3...</td>\n",
              "    </tr>\n",
              "    <tr>\n",
              "      <th>5</th>\n",
              "      <td>5</td>\n",
              "      <td>2306878a9ad9b57686cd623dd285aaa9b25afdf627f651...</td>\n",
              "      <td>LOST</td>\n",
              "      <td>Wants private accommodation</td>\n",
              "      <td>120</td>\n",
              "      <td>semester-stay</td>\n",
              "      <td>7bcfca0e9d73371699b0adbf1c691e02108fa64f02f4db...</td>\n",
              "      <td>7b7f15f9ffbeb905caaee265ac39d267d0512ab5333f2f...</td>\n",
              "      <td>8da82000ef9c4468ba47362a924b895e40662fed846942...</td>\n",
              "      <td>bbdefa2950f49882f295b1285d4fa9dec45fc4144bfb07...</td>\n",
              "      <td>09076eb7665d1fb9389c7c4517fee0b00e43092eb34821...</td>\n",
              "      <td>f19d051291d4364989e4e957ef610448af3e05863ee1b8...</td>\n",
              "      <td>8d23a6e37e0a6431a8f1b43a91026dcff51170a89a6512...</td>\n",
              "      <td>b26f82b657d94e19ef8382877006c3e9425d7e4ab836f9...</td>\n",
              "    </tr>\n",
              "    <tr>\n",
              "      <th>6</th>\n",
              "      <td>6</td>\n",
              "      <td>2306878a9ad9b57686cd623dd285aaa9b25afdf627f651...</td>\n",
              "      <td>LOST</td>\n",
              "      <td>Short stay</td>\n",
              "      <td>0-0</td>\n",
              "      <td>0</td>\n",
              "      <td>9ba9134a91cfc6b52ac8d480e9ad37896ca4ac216e2d79...</td>\n",
              "      <td>3c1def48af45cb9748302f34e57f2cbeb866de95beb0d2...</td>\n",
              "      <td>e09e10e67812e9d236ad900e5d46b4308fc62f5d69446a...</td>\n",
              "      <td>4688fa9ce4f64d0451be91f30a3de24a1c1c41635bd221...</td>\n",
              "      <td>09076eb7665d1fb9389c7c4517fee0b00e43092eb34821...</td>\n",
              "      <td>ecc0e7dc084f141b29479058967d0bc07dee25d9690a98...</td>\n",
              "      <td>8d23a6e37e0a6431a8f1b43a91026dcff51170a89a6512...</td>\n",
              "      <td>7ea9868bb6b4ebe610b0e509950b10322bcb7241d4a101...</td>\n",
              "    </tr>\n",
              "    <tr>\n",
              "      <th>7</th>\n",
              "      <td>7</td>\n",
              "      <td>44864c96fa1c36602f0d045b268981b6cab638a60fc207...</td>\n",
              "      <td>LOST</td>\n",
              "      <td>Wants private accommodation</td>\n",
              "      <td>£181 - £240 Per Week</td>\n",
              "      <td>51</td>\n",
              "      <td>7aae3e886e89fc1187a5c47d6cea1c22998ee610ade1f2...</td>\n",
              "      <td>8593b9db65212160979d946950601c26622a219c80f1f1...</td>\n",
              "      <td>e09e10e67812e9d236ad900e5d46b4308fc62f5d69446a...</td>\n",
              "      <td>bbdefa2950f49882f295b1285d4fa9dec45fc4144bfb07...</td>\n",
              "      <td>09076eb7665d1fb9389c7c4517fee0b00e43092eb34821...</td>\n",
              "      <td>8593b9db65212160979d946950601c26622a219c80f1f1...</td>\n",
              "      <td>8d23a6e37e0a6431a8f1b43a91026dcff51170a89a6512...</td>\n",
              "      <td>96ea4e2bf04496c044745938c0299c264c3f4ba079e572...</td>\n",
              "    </tr>\n",
              "  </tbody>\n",
              "</table>\n",
              "</div>\n",
              "      <button class=\"colab-df-convert\" onclick=\"convertToInteractive('df-22abcf33-bd37-49db-9b92-b21d611829dc')\"\n",
              "              title=\"Convert this dataframe to an interactive table.\"\n",
              "              style=\"display:none;\">\n",
              "        \n",
              "  <svg xmlns=\"http://www.w3.org/2000/svg\" height=\"24px\"viewBox=\"0 0 24 24\"\n",
              "       width=\"24px\">\n",
              "    <path d=\"M0 0h24v24H0V0z\" fill=\"none\"/>\n",
              "    <path d=\"M18.56 5.44l.94 2.06.94-2.06 2.06-.94-2.06-.94-.94-2.06-.94 2.06-2.06.94zm-11 1L8.5 8.5l.94-2.06 2.06-.94-2.06-.94L8.5 2.5l-.94 2.06-2.06.94zm10 10l.94 2.06.94-2.06 2.06-.94-2.06-.94-.94-2.06-.94 2.06-2.06.94z\"/><path d=\"M17.41 7.96l-1.37-1.37c-.4-.4-.92-.59-1.43-.59-.52 0-1.04.2-1.43.59L10.3 9.45l-7.72 7.72c-.78.78-.78 2.05 0 2.83L4 21.41c.39.39.9.59 1.41.59.51 0 1.02-.2 1.41-.59l7.78-7.78 2.81-2.81c.8-.78.8-2.07 0-2.86zM5.41 20L4 18.59l7.72-7.72 1.47 1.35L5.41 20z\"/>\n",
              "  </svg>\n",
              "      </button>\n",
              "      \n",
              "  <style>\n",
              "    .colab-df-container {\n",
              "      display:flex;\n",
              "      flex-wrap:wrap;\n",
              "      gap: 12px;\n",
              "    }\n",
              "\n",
              "    .colab-df-convert {\n",
              "      background-color: #E8F0FE;\n",
              "      border: none;\n",
              "      border-radius: 50%;\n",
              "      cursor: pointer;\n",
              "      display: none;\n",
              "      fill: #1967D2;\n",
              "      height: 32px;\n",
              "      padding: 0 0 0 0;\n",
              "      width: 32px;\n",
              "    }\n",
              "\n",
              "    .colab-df-convert:hover {\n",
              "      background-color: #E2EBFA;\n",
              "      box-shadow: 0px 1px 2px rgba(60, 64, 67, 0.3), 0px 1px 3px 1px rgba(60, 64, 67, 0.15);\n",
              "      fill: #174EA6;\n",
              "    }\n",
              "\n",
              "    [theme=dark] .colab-df-convert {\n",
              "      background-color: #3B4455;\n",
              "      fill: #D2E3FC;\n",
              "    }\n",
              "\n",
              "    [theme=dark] .colab-df-convert:hover {\n",
              "      background-color: #434B5C;\n",
              "      box-shadow: 0px 1px 3px 1px rgba(0, 0, 0, 0.15);\n",
              "      filter: drop-shadow(0px 1px 2px rgba(0, 0, 0, 0.3));\n",
              "      fill: #FFFFFF;\n",
              "    }\n",
              "  </style>\n",
              "\n",
              "      <script>\n",
              "        const buttonEl =\n",
              "          document.querySelector('#df-22abcf33-bd37-49db-9b92-b21d611829dc button.colab-df-convert');\n",
              "        buttonEl.style.display =\n",
              "          google.colab.kernel.accessAllowed ? 'block' : 'none';\n",
              "\n",
              "        async function convertToInteractive(key) {\n",
              "          const element = document.querySelector('#df-22abcf33-bd37-49db-9b92-b21d611829dc');\n",
              "          const dataTable =\n",
              "            await google.colab.kernel.invokeFunction('convertToInteractive',\n",
              "                                                     [key], {});\n",
              "          if (!dataTable) return;\n",
              "\n",
              "          const docLinkHtml = 'Like what you see? Visit the ' +\n",
              "            '<a target=\"_blank\" href=https://colab.research.google.com/notebooks/data_table.ipynb>data table notebook</a>'\n",
              "            + ' to learn more about interactive tables.';\n",
              "          element.innerHTML = '';\n",
              "          dataTable['output_type'] = 'display_data';\n",
              "          await google.colab.output.renderOutput(dataTable, element);\n",
              "          const docLink = document.createElement('div');\n",
              "          docLink.innerHTML = docLinkHtml;\n",
              "          element.appendChild(docLink);\n",
              "        }\n",
              "      </script>\n",
              "    </div>\n",
              "  </div>\n",
              "  "
            ]
          },
          "metadata": {},
          "execution_count": 22
        }
      ]
    },
    {
      "cell_type": "code",
      "source": [
        "df.nunique()"
      ],
      "metadata": {
        "colab": {
          "base_uri": "https://localhost:8080/"
        },
        "id": "yveCkq55JN_J",
        "outputId": "79abc164-1d0a-44f9-ec7e-32acffa120c8"
      },
      "execution_count": 23,
      "outputs": [
        {
          "output_type": "execute_result",
          "data": {
            "text/plain": [
              "Unnamed: 0        42552\n",
              "Agent_id            120\n",
              "status                2\n",
              "lost_reason          31\n",
              "budget             1843\n",
              "lease               304\n",
              "source              451\n",
              "source_city        4316\n",
              "source_country      183\n",
              "utm_source           32\n",
              "utm_medium           58\n",
              "des_city            216\n",
              "des_country          15\n",
              "lead_id           29106\n",
              "dtype: int64"
            ]
          },
          "metadata": {},
          "execution_count": 23
        }
      ]
    },
    {
      "cell_type": "markdown",
      "source": [
        "Drooping `Unnamed: 0`, `lead_id`, as it is unique to every booking. "
      ],
      "metadata": {
        "id": "jKL5WbnFPD2t"
      }
    },
    {
      "cell_type": "code",
      "source": [
        "df.drop(['Unnamed: 0', 'lead_id'], axis =1, inplace = True)"
      ],
      "metadata": {
        "id": "rxN_7_S_Jb_p"
      },
      "execution_count": 24,
      "outputs": []
    },
    {
      "cell_type": "markdown",
      "source": [
        "##Performing Chisquare test\n",
        "ChiSquare test is performed for checking dependency between categorical to categorical variables.\n",
        "\n",
        "P-value is calculated for each categorical variable with respect to Status\n",
        "Variables \n",
        "- P-values less than 0.05 are selected"
      ],
      "metadata": {
        "id": "z7XZmMTvR9Wy"
      }
    },
    {
      "cell_type": "code",
      "source": [
        "def chisquare(df, cat1, cat2):\n",
        "  import pandas as pd\n",
        "  from scipy.stats import chi2_contingency  \n",
        "  a,b,c,d = chi2_contingency(pd.crosstab(df[cat1], df[cat2]))\n",
        "  return b "
      ],
      "metadata": {
        "id": "XdIre4-QJq9O"
      },
      "execution_count": 25,
      "outputs": []
    },
    {
      "cell_type": "code",
      "source": [
        "Q = []\n",
        "for i in df.columns:\n",
        "  Q.append(chisquare(df, 'status',i))"
      ],
      "metadata": {
        "id": "2I3_i6g3OSFm"
      },
      "execution_count": 26,
      "outputs": []
    },
    {
      "cell_type": "code",
      "source": [
        "Q = pd.Series(Q)\n",
        "Q.index = df.columns\n",
        "Q = Q.sort_values()\n",
        "Q"
      ],
      "metadata": {
        "colab": {
          "base_uri": "https://localhost:8080/"
        },
        "id": "7HGuuhO9QS-I",
        "outputId": "cb731a55-bb7c-48ca-f772-f2c77a99b918"
      },
      "execution_count": 27,
      "outputs": [
        {
          "output_type": "execute_result",
          "data": {
            "text/plain": [
              "status             0.000000e+00\n",
              "lost_reason        0.000000e+00\n",
              "source             0.000000e+00\n",
              "utm_source         0.000000e+00\n",
              "lease             2.183785e-252\n",
              "des_city          9.388011e-247\n",
              "budget            1.944715e-209\n",
              "Agent_id          2.600247e-171\n",
              "utm_medium        1.079325e-125\n",
              "des_country        1.777175e-24\n",
              "source_country     3.427325e-18\n",
              "source_city        9.999956e-01\n",
              "dtype: float64"
            ]
          },
          "metadata": {},
          "execution_count": 27
        }
      ]
    },
    {
      "cell_type": "code",
      "source": [
        "important_columns = list(Q[Q<=0.5].index)"
      ],
      "metadata": {
        "id": "eTmmgjg-QaXB"
      },
      "execution_count": 28,
      "outputs": []
    },
    {
      "cell_type": "code",
      "source": [
        "data = pd.get_dummies(df[important_columns])"
      ],
      "metadata": {
        "id": "Xlyh0efdRBME"
      },
      "execution_count": 29,
      "outputs": []
    },
    {
      "cell_type": "code",
      "source": [
        "data.head()"
      ],
      "metadata": {
        "colab": {
          "base_uri": "https://localhost:8080/",
          "height": 334
        },
        "id": "zh0JlSWfRa12",
        "outputId": "661f0f9d-0cc9-472f-b891-32d76769478f"
      },
      "execution_count": 30,
      "outputs": [
        {
          "output_type": "execute_result",
          "data": {
            "text/plain": [
              "   status_LOST  status_WON  lost_reason_Booked on campus accommodation  \\\n",
              "2            1           0                                           0   \n",
              "3            1           0                                           0   \n",
              "5            1           0                                           0   \n",
              "6            1           0                                           0   \n",
              "7            1           0                                           0   \n",
              "\n",
              "   lost_reason_Booked with competitor  lost_reason_Booked with manager  \\\n",
              "2                                   0                                0   \n",
              "3                                   0                                0   \n",
              "5                                   0                                0   \n",
              "6                                   0                                0   \n",
              "7                                   0                                0   \n",
              "\n",
              "   lost_reason_Cross sell  lost_reason_Didn't respond in time  \\\n",
              "2                       0                                   0   \n",
              "3                       0                                   0   \n",
              "5                       0                                   0   \n",
              "6                       0                                   0   \n",
              "7                       0                                   0   \n",
              "\n",
              "   lost_reason_Distance issue  lost_reason_Guarantor issue  \\\n",
              "2                           0                            0   \n",
              "3                           0                            0   \n",
              "5                           0                            0   \n",
              "6                           0                            0   \n",
              "7                           0                            0   \n",
              "\n",
              "   lost_reason_Inadequate details  ...  \\\n",
              "2                               0  ...   \n",
              "3                               0  ...   \n",
              "5                               0  ...   \n",
              "6                               0  ...   \n",
              "7                               0  ...   \n",
              "\n",
              "   source_country_e510850db99d8648b1f61ace98d3fd67ab63a7ed689e22eba1472009620c029b  \\\n",
              "2                                                  0                                 \n",
              "3                                                  0                                 \n",
              "5                                                  0                                 \n",
              "6                                                  0                                 \n",
              "7                                                  0                                 \n",
              "\n",
              "   source_country_e6ca7ff449664bd6e363db8cc72dc603b88326d1521b87ab82d4dd4bb392b73b  \\\n",
              "2                                                  0                                 \n",
              "3                                                  0                                 \n",
              "5                                                  0                                 \n",
              "6                                                  0                                 \n",
              "7                                                  0                                 \n",
              "\n",
              "   source_country_e891c4c31acbff0a99f3fbdca99e0d50a90f11083b04dcc7d8fa6089e5d02385  \\\n",
              "2                                                  0                                 \n",
              "3                                                  0                                 \n",
              "5                                                  0                                 \n",
              "6                                                  0                                 \n",
              "7                                                  0                                 \n",
              "\n",
              "   source_country_eca8280683eb029192b1f2a88d89846ce3835bc828bf62685c6f0c350418a084  \\\n",
              "2                                                  0                                 \n",
              "3                                                  0                                 \n",
              "5                                                  0                                 \n",
              "6                                                  0                                 \n",
              "7                                                  0                                 \n",
              "\n",
              "   source_country_ef38c2f2eeb87e2cbba80fa7f55f8c08fc75f944cd65f6b7f7b7c3379e6ecaaa  \\\n",
              "2                                                  0                                 \n",
              "3                                                  0                                 \n",
              "5                                                  0                                 \n",
              "6                                                  0                                 \n",
              "7                                                  0                                 \n",
              "\n",
              "   source_country_f1987974a901281b7c3ed121be5f00af0521f0873bd422f029ee3144fd4099d7  \\\n",
              "2                                                  0                                 \n",
              "3                                                  0                                 \n",
              "5                                                  0                                 \n",
              "6                                                  0                                 \n",
              "7                                                  0                                 \n",
              "\n",
              "   source_country_f24b3e6d69d95512e334bc1cd7d3a80dcd8ffd151c14e97aa06ef132df9e743e  \\\n",
              "2                                                  0                                 \n",
              "3                                                  0                                 \n",
              "5                                                  0                                 \n",
              "6                                                  0                                 \n",
              "7                                                  0                                 \n",
              "\n",
              "   source_country_f59c8750c15e65b667543a7a6b6a8e37561a9d9d18919e0b13c6c6628085ec12  \\\n",
              "2                                                  0                                 \n",
              "3                                                  0                                 \n",
              "5                                                  0                                 \n",
              "6                                                  0                                 \n",
              "7                                                  0                                 \n",
              "\n",
              "   source_country_f782d1dbfba17a52a417972d81ef55a8bc60090f4bfbcc4c5f4c8be11bf7015b  \\\n",
              "2                                                  0                                 \n",
              "3                                                  0                                 \n",
              "5                                                  0                                 \n",
              "6                                                  0                                 \n",
              "7                                                  0                                 \n",
              "\n",
              "   source_country_fde332912b5855a3ba1c42cbc50c29922e91f4f17bcaf82dc1b2c23e2747bd31  \n",
              "2                                                  0                                \n",
              "3                                                  0                                \n",
              "5                                                  0                                \n",
              "6                                                  0                                \n",
              "7                                                  0                                \n",
              "\n",
              "[5 rows x 3255 columns]"
            ],
            "text/html": [
              "\n",
              "  <div id=\"df-e39f30ff-b005-4ced-9b8b-962c609fa81f\">\n",
              "    <div class=\"colab-df-container\">\n",
              "      <div>\n",
              "<style scoped>\n",
              "    .dataframe tbody tr th:only-of-type {\n",
              "        vertical-align: middle;\n",
              "    }\n",
              "\n",
              "    .dataframe tbody tr th {\n",
              "        vertical-align: top;\n",
              "    }\n",
              "\n",
              "    .dataframe thead th {\n",
              "        text-align: right;\n",
              "    }\n",
              "</style>\n",
              "<table border=\"1\" class=\"dataframe\">\n",
              "  <thead>\n",
              "    <tr style=\"text-align: right;\">\n",
              "      <th></th>\n",
              "      <th>status_LOST</th>\n",
              "      <th>status_WON</th>\n",
              "      <th>lost_reason_Booked on campus accommodation</th>\n",
              "      <th>lost_reason_Booked with competitor</th>\n",
              "      <th>lost_reason_Booked with manager</th>\n",
              "      <th>lost_reason_Cross sell</th>\n",
              "      <th>lost_reason_Didn't respond in time</th>\n",
              "      <th>lost_reason_Distance issue</th>\n",
              "      <th>lost_reason_Guarantor issue</th>\n",
              "      <th>lost_reason_Inadequate details</th>\n",
              "      <th>...</th>\n",
              "      <th>source_country_e510850db99d8648b1f61ace98d3fd67ab63a7ed689e22eba1472009620c029b</th>\n",
              "      <th>source_country_e6ca7ff449664bd6e363db8cc72dc603b88326d1521b87ab82d4dd4bb392b73b</th>\n",
              "      <th>source_country_e891c4c31acbff0a99f3fbdca99e0d50a90f11083b04dcc7d8fa6089e5d02385</th>\n",
              "      <th>source_country_eca8280683eb029192b1f2a88d89846ce3835bc828bf62685c6f0c350418a084</th>\n",
              "      <th>source_country_ef38c2f2eeb87e2cbba80fa7f55f8c08fc75f944cd65f6b7f7b7c3379e6ecaaa</th>\n",
              "      <th>source_country_f1987974a901281b7c3ed121be5f00af0521f0873bd422f029ee3144fd4099d7</th>\n",
              "      <th>source_country_f24b3e6d69d95512e334bc1cd7d3a80dcd8ffd151c14e97aa06ef132df9e743e</th>\n",
              "      <th>source_country_f59c8750c15e65b667543a7a6b6a8e37561a9d9d18919e0b13c6c6628085ec12</th>\n",
              "      <th>source_country_f782d1dbfba17a52a417972d81ef55a8bc60090f4bfbcc4c5f4c8be11bf7015b</th>\n",
              "      <th>source_country_fde332912b5855a3ba1c42cbc50c29922e91f4f17bcaf82dc1b2c23e2747bd31</th>\n",
              "    </tr>\n",
              "  </thead>\n",
              "  <tbody>\n",
              "    <tr>\n",
              "      <th>2</th>\n",
              "      <td>1</td>\n",
              "      <td>0</td>\n",
              "      <td>0</td>\n",
              "      <td>0</td>\n",
              "      <td>0</td>\n",
              "      <td>0</td>\n",
              "      <td>0</td>\n",
              "      <td>0</td>\n",
              "      <td>0</td>\n",
              "      <td>0</td>\n",
              "      <td>...</td>\n",
              "      <td>0</td>\n",
              "      <td>0</td>\n",
              "      <td>0</td>\n",
              "      <td>0</td>\n",
              "      <td>0</td>\n",
              "      <td>0</td>\n",
              "      <td>0</td>\n",
              "      <td>0</td>\n",
              "      <td>0</td>\n",
              "      <td>0</td>\n",
              "    </tr>\n",
              "    <tr>\n",
              "      <th>3</th>\n",
              "      <td>1</td>\n",
              "      <td>0</td>\n",
              "      <td>0</td>\n",
              "      <td>0</td>\n",
              "      <td>0</td>\n",
              "      <td>0</td>\n",
              "      <td>0</td>\n",
              "      <td>0</td>\n",
              "      <td>0</td>\n",
              "      <td>0</td>\n",
              "      <td>...</td>\n",
              "      <td>0</td>\n",
              "      <td>0</td>\n",
              "      <td>0</td>\n",
              "      <td>0</td>\n",
              "      <td>0</td>\n",
              "      <td>0</td>\n",
              "      <td>0</td>\n",
              "      <td>0</td>\n",
              "      <td>0</td>\n",
              "      <td>0</td>\n",
              "    </tr>\n",
              "    <tr>\n",
              "      <th>5</th>\n",
              "      <td>1</td>\n",
              "      <td>0</td>\n",
              "      <td>0</td>\n",
              "      <td>0</td>\n",
              "      <td>0</td>\n",
              "      <td>0</td>\n",
              "      <td>0</td>\n",
              "      <td>0</td>\n",
              "      <td>0</td>\n",
              "      <td>0</td>\n",
              "      <td>...</td>\n",
              "      <td>0</td>\n",
              "      <td>0</td>\n",
              "      <td>0</td>\n",
              "      <td>0</td>\n",
              "      <td>0</td>\n",
              "      <td>0</td>\n",
              "      <td>0</td>\n",
              "      <td>0</td>\n",
              "      <td>0</td>\n",
              "      <td>0</td>\n",
              "    </tr>\n",
              "    <tr>\n",
              "      <th>6</th>\n",
              "      <td>1</td>\n",
              "      <td>0</td>\n",
              "      <td>0</td>\n",
              "      <td>0</td>\n",
              "      <td>0</td>\n",
              "      <td>0</td>\n",
              "      <td>0</td>\n",
              "      <td>0</td>\n",
              "      <td>0</td>\n",
              "      <td>0</td>\n",
              "      <td>...</td>\n",
              "      <td>0</td>\n",
              "      <td>0</td>\n",
              "      <td>0</td>\n",
              "      <td>0</td>\n",
              "      <td>0</td>\n",
              "      <td>0</td>\n",
              "      <td>0</td>\n",
              "      <td>0</td>\n",
              "      <td>0</td>\n",
              "      <td>0</td>\n",
              "    </tr>\n",
              "    <tr>\n",
              "      <th>7</th>\n",
              "      <td>1</td>\n",
              "      <td>0</td>\n",
              "      <td>0</td>\n",
              "      <td>0</td>\n",
              "      <td>0</td>\n",
              "      <td>0</td>\n",
              "      <td>0</td>\n",
              "      <td>0</td>\n",
              "      <td>0</td>\n",
              "      <td>0</td>\n",
              "      <td>...</td>\n",
              "      <td>0</td>\n",
              "      <td>0</td>\n",
              "      <td>0</td>\n",
              "      <td>0</td>\n",
              "      <td>0</td>\n",
              "      <td>0</td>\n",
              "      <td>0</td>\n",
              "      <td>0</td>\n",
              "      <td>0</td>\n",
              "      <td>0</td>\n",
              "    </tr>\n",
              "  </tbody>\n",
              "</table>\n",
              "<p>5 rows × 3255 columns</p>\n",
              "</div>\n",
              "      <button class=\"colab-df-convert\" onclick=\"convertToInteractive('df-e39f30ff-b005-4ced-9b8b-962c609fa81f')\"\n",
              "              title=\"Convert this dataframe to an interactive table.\"\n",
              "              style=\"display:none;\">\n",
              "        \n",
              "  <svg xmlns=\"http://www.w3.org/2000/svg\" height=\"24px\"viewBox=\"0 0 24 24\"\n",
              "       width=\"24px\">\n",
              "    <path d=\"M0 0h24v24H0V0z\" fill=\"none\"/>\n",
              "    <path d=\"M18.56 5.44l.94 2.06.94-2.06 2.06-.94-2.06-.94-.94-2.06-.94 2.06-2.06.94zm-11 1L8.5 8.5l.94-2.06 2.06-.94-2.06-.94L8.5 2.5l-.94 2.06-2.06.94zm10 10l.94 2.06.94-2.06 2.06-.94-2.06-.94-.94-2.06-.94 2.06-2.06.94z\"/><path d=\"M17.41 7.96l-1.37-1.37c-.4-.4-.92-.59-1.43-.59-.52 0-1.04.2-1.43.59L10.3 9.45l-7.72 7.72c-.78.78-.78 2.05 0 2.83L4 21.41c.39.39.9.59 1.41.59.51 0 1.02-.2 1.41-.59l7.78-7.78 2.81-2.81c.8-.78.8-2.07 0-2.86zM5.41 20L4 18.59l7.72-7.72 1.47 1.35L5.41 20z\"/>\n",
              "  </svg>\n",
              "      </button>\n",
              "      \n",
              "  <style>\n",
              "    .colab-df-container {\n",
              "      display:flex;\n",
              "      flex-wrap:wrap;\n",
              "      gap: 12px;\n",
              "    }\n",
              "\n",
              "    .colab-df-convert {\n",
              "      background-color: #E8F0FE;\n",
              "      border: none;\n",
              "      border-radius: 50%;\n",
              "      cursor: pointer;\n",
              "      display: none;\n",
              "      fill: #1967D2;\n",
              "      height: 32px;\n",
              "      padding: 0 0 0 0;\n",
              "      width: 32px;\n",
              "    }\n",
              "\n",
              "    .colab-df-convert:hover {\n",
              "      background-color: #E2EBFA;\n",
              "      box-shadow: 0px 1px 2px rgba(60, 64, 67, 0.3), 0px 1px 3px 1px rgba(60, 64, 67, 0.15);\n",
              "      fill: #174EA6;\n",
              "    }\n",
              "\n",
              "    [theme=dark] .colab-df-convert {\n",
              "      background-color: #3B4455;\n",
              "      fill: #D2E3FC;\n",
              "    }\n",
              "\n",
              "    [theme=dark] .colab-df-convert:hover {\n",
              "      background-color: #434B5C;\n",
              "      box-shadow: 0px 1px 3px 1px rgba(0, 0, 0, 0.15);\n",
              "      filter: drop-shadow(0px 1px 2px rgba(0, 0, 0, 0.3));\n",
              "      fill: #FFFFFF;\n",
              "    }\n",
              "  </style>\n",
              "\n",
              "      <script>\n",
              "        const buttonEl =\n",
              "          document.querySelector('#df-e39f30ff-b005-4ced-9b8b-962c609fa81f button.colab-df-convert');\n",
              "        buttonEl.style.display =\n",
              "          google.colab.kernel.accessAllowed ? 'block' : 'none';\n",
              "\n",
              "        async function convertToInteractive(key) {\n",
              "          const element = document.querySelector('#df-e39f30ff-b005-4ced-9b8b-962c609fa81f');\n",
              "          const dataTable =\n",
              "            await google.colab.kernel.invokeFunction('convertToInteractive',\n",
              "                                                     [key], {});\n",
              "          if (!dataTable) return;\n",
              "\n",
              "          const docLinkHtml = 'Like what you see? Visit the ' +\n",
              "            '<a target=\"_blank\" href=https://colab.research.google.com/notebooks/data_table.ipynb>data table notebook</a>'\n",
              "            + ' to learn more about interactive tables.';\n",
              "          element.innerHTML = '';\n",
              "          dataTable['output_type'] = 'display_data';\n",
              "          await google.colab.output.renderOutput(dataTable, element);\n",
              "          const docLink = document.createElement('div');\n",
              "          docLink.innerHTML = docLinkHtml;\n",
              "          element.appendChild(docLink);\n",
              "        }\n",
              "      </script>\n",
              "    </div>\n",
              "  </div>\n",
              "  "
            ]
          },
          "metadata": {},
          "execution_count": 30
        }
      ]
    },
    {
      "cell_type": "code",
      "source": [
        "X = data.drop(['status_LOST', 'status_WON'], axis =1)\n",
        "X.head()"
      ],
      "metadata": {
        "colab": {
          "base_uri": "https://localhost:8080/",
          "height": 334
        },
        "id": "51e7f1XZRdQ9",
        "outputId": "5dfef708-146e-4ab5-82fe-3ba91c90d7f5"
      },
      "execution_count": 31,
      "outputs": [
        {
          "output_type": "execute_result",
          "data": {
            "text/plain": [
              "   lost_reason_Booked on campus accommodation  \\\n",
              "2                                           0   \n",
              "3                                           0   \n",
              "5                                           0   \n",
              "6                                           0   \n",
              "7                                           0   \n",
              "\n",
              "   lost_reason_Booked with competitor  lost_reason_Booked with manager  \\\n",
              "2                                   0                                0   \n",
              "3                                   0                                0   \n",
              "5                                   0                                0   \n",
              "6                                   0                                0   \n",
              "7                                   0                                0   \n",
              "\n",
              "   lost_reason_Cross sell  lost_reason_Didn't respond in time  \\\n",
              "2                       0                                   0   \n",
              "3                       0                                   0   \n",
              "5                       0                                   0   \n",
              "6                       0                                   0   \n",
              "7                       0                                   0   \n",
              "\n",
              "   lost_reason_Distance issue  lost_reason_Guarantor issue  \\\n",
              "2                           0                            0   \n",
              "3                           0                            0   \n",
              "5                           0                            0   \n",
              "6                           0                            0   \n",
              "7                           0                            0   \n",
              "\n",
              "   lost_reason_Inadequate details  lost_reason_Junk lead  \\\n",
              "2                               0                      0   \n",
              "3                               0                      0   \n",
              "5                               0                      0   \n",
              "6                               0                      0   \n",
              "7                               0                      0   \n",
              "\n",
              "   lost_reason_Junk lead/ Just Enquiring  ...  \\\n",
              "2                                      0  ...   \n",
              "3                                      0  ...   \n",
              "5                                      0  ...   \n",
              "6                                      0  ...   \n",
              "7                                      0  ...   \n",
              "\n",
              "   source_country_e510850db99d8648b1f61ace98d3fd67ab63a7ed689e22eba1472009620c029b  \\\n",
              "2                                                  0                                 \n",
              "3                                                  0                                 \n",
              "5                                                  0                                 \n",
              "6                                                  0                                 \n",
              "7                                                  0                                 \n",
              "\n",
              "   source_country_e6ca7ff449664bd6e363db8cc72dc603b88326d1521b87ab82d4dd4bb392b73b  \\\n",
              "2                                                  0                                 \n",
              "3                                                  0                                 \n",
              "5                                                  0                                 \n",
              "6                                                  0                                 \n",
              "7                                                  0                                 \n",
              "\n",
              "   source_country_e891c4c31acbff0a99f3fbdca99e0d50a90f11083b04dcc7d8fa6089e5d02385  \\\n",
              "2                                                  0                                 \n",
              "3                                                  0                                 \n",
              "5                                                  0                                 \n",
              "6                                                  0                                 \n",
              "7                                                  0                                 \n",
              "\n",
              "   source_country_eca8280683eb029192b1f2a88d89846ce3835bc828bf62685c6f0c350418a084  \\\n",
              "2                                                  0                                 \n",
              "3                                                  0                                 \n",
              "5                                                  0                                 \n",
              "6                                                  0                                 \n",
              "7                                                  0                                 \n",
              "\n",
              "   source_country_ef38c2f2eeb87e2cbba80fa7f55f8c08fc75f944cd65f6b7f7b7c3379e6ecaaa  \\\n",
              "2                                                  0                                 \n",
              "3                                                  0                                 \n",
              "5                                                  0                                 \n",
              "6                                                  0                                 \n",
              "7                                                  0                                 \n",
              "\n",
              "   source_country_f1987974a901281b7c3ed121be5f00af0521f0873bd422f029ee3144fd4099d7  \\\n",
              "2                                                  0                                 \n",
              "3                                                  0                                 \n",
              "5                                                  0                                 \n",
              "6                                                  0                                 \n",
              "7                                                  0                                 \n",
              "\n",
              "   source_country_f24b3e6d69d95512e334bc1cd7d3a80dcd8ffd151c14e97aa06ef132df9e743e  \\\n",
              "2                                                  0                                 \n",
              "3                                                  0                                 \n",
              "5                                                  0                                 \n",
              "6                                                  0                                 \n",
              "7                                                  0                                 \n",
              "\n",
              "   source_country_f59c8750c15e65b667543a7a6b6a8e37561a9d9d18919e0b13c6c6628085ec12  \\\n",
              "2                                                  0                                 \n",
              "3                                                  0                                 \n",
              "5                                                  0                                 \n",
              "6                                                  0                                 \n",
              "7                                                  0                                 \n",
              "\n",
              "   source_country_f782d1dbfba17a52a417972d81ef55a8bc60090f4bfbcc4c5f4c8be11bf7015b  \\\n",
              "2                                                  0                                 \n",
              "3                                                  0                                 \n",
              "5                                                  0                                 \n",
              "6                                                  0                                 \n",
              "7                                                  0                                 \n",
              "\n",
              "   source_country_fde332912b5855a3ba1c42cbc50c29922e91f4f17bcaf82dc1b2c23e2747bd31  \n",
              "2                                                  0                                \n",
              "3                                                  0                                \n",
              "5                                                  0                                \n",
              "6                                                  0                                \n",
              "7                                                  0                                \n",
              "\n",
              "[5 rows x 3253 columns]"
            ],
            "text/html": [
              "\n",
              "  <div id=\"df-d21a7cce-48de-4ad5-9007-bdd21fb63f95\">\n",
              "    <div class=\"colab-df-container\">\n",
              "      <div>\n",
              "<style scoped>\n",
              "    .dataframe tbody tr th:only-of-type {\n",
              "        vertical-align: middle;\n",
              "    }\n",
              "\n",
              "    .dataframe tbody tr th {\n",
              "        vertical-align: top;\n",
              "    }\n",
              "\n",
              "    .dataframe thead th {\n",
              "        text-align: right;\n",
              "    }\n",
              "</style>\n",
              "<table border=\"1\" class=\"dataframe\">\n",
              "  <thead>\n",
              "    <tr style=\"text-align: right;\">\n",
              "      <th></th>\n",
              "      <th>lost_reason_Booked on campus accommodation</th>\n",
              "      <th>lost_reason_Booked with competitor</th>\n",
              "      <th>lost_reason_Booked with manager</th>\n",
              "      <th>lost_reason_Cross sell</th>\n",
              "      <th>lost_reason_Didn't respond in time</th>\n",
              "      <th>lost_reason_Distance issue</th>\n",
              "      <th>lost_reason_Guarantor issue</th>\n",
              "      <th>lost_reason_Inadequate details</th>\n",
              "      <th>lost_reason_Junk lead</th>\n",
              "      <th>lost_reason_Junk lead/ Just Enquiring</th>\n",
              "      <th>...</th>\n",
              "      <th>source_country_e510850db99d8648b1f61ace98d3fd67ab63a7ed689e22eba1472009620c029b</th>\n",
              "      <th>source_country_e6ca7ff449664bd6e363db8cc72dc603b88326d1521b87ab82d4dd4bb392b73b</th>\n",
              "      <th>source_country_e891c4c31acbff0a99f3fbdca99e0d50a90f11083b04dcc7d8fa6089e5d02385</th>\n",
              "      <th>source_country_eca8280683eb029192b1f2a88d89846ce3835bc828bf62685c6f0c350418a084</th>\n",
              "      <th>source_country_ef38c2f2eeb87e2cbba80fa7f55f8c08fc75f944cd65f6b7f7b7c3379e6ecaaa</th>\n",
              "      <th>source_country_f1987974a901281b7c3ed121be5f00af0521f0873bd422f029ee3144fd4099d7</th>\n",
              "      <th>source_country_f24b3e6d69d95512e334bc1cd7d3a80dcd8ffd151c14e97aa06ef132df9e743e</th>\n",
              "      <th>source_country_f59c8750c15e65b667543a7a6b6a8e37561a9d9d18919e0b13c6c6628085ec12</th>\n",
              "      <th>source_country_f782d1dbfba17a52a417972d81ef55a8bc60090f4bfbcc4c5f4c8be11bf7015b</th>\n",
              "      <th>source_country_fde332912b5855a3ba1c42cbc50c29922e91f4f17bcaf82dc1b2c23e2747bd31</th>\n",
              "    </tr>\n",
              "  </thead>\n",
              "  <tbody>\n",
              "    <tr>\n",
              "      <th>2</th>\n",
              "      <td>0</td>\n",
              "      <td>0</td>\n",
              "      <td>0</td>\n",
              "      <td>0</td>\n",
              "      <td>0</td>\n",
              "      <td>0</td>\n",
              "      <td>0</td>\n",
              "      <td>0</td>\n",
              "      <td>0</td>\n",
              "      <td>0</td>\n",
              "      <td>...</td>\n",
              "      <td>0</td>\n",
              "      <td>0</td>\n",
              "      <td>0</td>\n",
              "      <td>0</td>\n",
              "      <td>0</td>\n",
              "      <td>0</td>\n",
              "      <td>0</td>\n",
              "      <td>0</td>\n",
              "      <td>0</td>\n",
              "      <td>0</td>\n",
              "    </tr>\n",
              "    <tr>\n",
              "      <th>3</th>\n",
              "      <td>0</td>\n",
              "      <td>0</td>\n",
              "      <td>0</td>\n",
              "      <td>0</td>\n",
              "      <td>0</td>\n",
              "      <td>0</td>\n",
              "      <td>0</td>\n",
              "      <td>0</td>\n",
              "      <td>0</td>\n",
              "      <td>0</td>\n",
              "      <td>...</td>\n",
              "      <td>0</td>\n",
              "      <td>0</td>\n",
              "      <td>0</td>\n",
              "      <td>0</td>\n",
              "      <td>0</td>\n",
              "      <td>0</td>\n",
              "      <td>0</td>\n",
              "      <td>0</td>\n",
              "      <td>0</td>\n",
              "      <td>0</td>\n",
              "    </tr>\n",
              "    <tr>\n",
              "      <th>5</th>\n",
              "      <td>0</td>\n",
              "      <td>0</td>\n",
              "      <td>0</td>\n",
              "      <td>0</td>\n",
              "      <td>0</td>\n",
              "      <td>0</td>\n",
              "      <td>0</td>\n",
              "      <td>0</td>\n",
              "      <td>0</td>\n",
              "      <td>0</td>\n",
              "      <td>...</td>\n",
              "      <td>0</td>\n",
              "      <td>0</td>\n",
              "      <td>0</td>\n",
              "      <td>0</td>\n",
              "      <td>0</td>\n",
              "      <td>0</td>\n",
              "      <td>0</td>\n",
              "      <td>0</td>\n",
              "      <td>0</td>\n",
              "      <td>0</td>\n",
              "    </tr>\n",
              "    <tr>\n",
              "      <th>6</th>\n",
              "      <td>0</td>\n",
              "      <td>0</td>\n",
              "      <td>0</td>\n",
              "      <td>0</td>\n",
              "      <td>0</td>\n",
              "      <td>0</td>\n",
              "      <td>0</td>\n",
              "      <td>0</td>\n",
              "      <td>0</td>\n",
              "      <td>0</td>\n",
              "      <td>...</td>\n",
              "      <td>0</td>\n",
              "      <td>0</td>\n",
              "      <td>0</td>\n",
              "      <td>0</td>\n",
              "      <td>0</td>\n",
              "      <td>0</td>\n",
              "      <td>0</td>\n",
              "      <td>0</td>\n",
              "      <td>0</td>\n",
              "      <td>0</td>\n",
              "    </tr>\n",
              "    <tr>\n",
              "      <th>7</th>\n",
              "      <td>0</td>\n",
              "      <td>0</td>\n",
              "      <td>0</td>\n",
              "      <td>0</td>\n",
              "      <td>0</td>\n",
              "      <td>0</td>\n",
              "      <td>0</td>\n",
              "      <td>0</td>\n",
              "      <td>0</td>\n",
              "      <td>0</td>\n",
              "      <td>...</td>\n",
              "      <td>0</td>\n",
              "      <td>0</td>\n",
              "      <td>0</td>\n",
              "      <td>0</td>\n",
              "      <td>0</td>\n",
              "      <td>0</td>\n",
              "      <td>0</td>\n",
              "      <td>0</td>\n",
              "      <td>0</td>\n",
              "      <td>0</td>\n",
              "    </tr>\n",
              "  </tbody>\n",
              "</table>\n",
              "<p>5 rows × 3253 columns</p>\n",
              "</div>\n",
              "      <button class=\"colab-df-convert\" onclick=\"convertToInteractive('df-d21a7cce-48de-4ad5-9007-bdd21fb63f95')\"\n",
              "              title=\"Convert this dataframe to an interactive table.\"\n",
              "              style=\"display:none;\">\n",
              "        \n",
              "  <svg xmlns=\"http://www.w3.org/2000/svg\" height=\"24px\"viewBox=\"0 0 24 24\"\n",
              "       width=\"24px\">\n",
              "    <path d=\"M0 0h24v24H0V0z\" fill=\"none\"/>\n",
              "    <path d=\"M18.56 5.44l.94 2.06.94-2.06 2.06-.94-2.06-.94-.94-2.06-.94 2.06-2.06.94zm-11 1L8.5 8.5l.94-2.06 2.06-.94-2.06-.94L8.5 2.5l-.94 2.06-2.06.94zm10 10l.94 2.06.94-2.06 2.06-.94-2.06-.94-.94-2.06-.94 2.06-2.06.94z\"/><path d=\"M17.41 7.96l-1.37-1.37c-.4-.4-.92-.59-1.43-.59-.52 0-1.04.2-1.43.59L10.3 9.45l-7.72 7.72c-.78.78-.78 2.05 0 2.83L4 21.41c.39.39.9.59 1.41.59.51 0 1.02-.2 1.41-.59l7.78-7.78 2.81-2.81c.8-.78.8-2.07 0-2.86zM5.41 20L4 18.59l7.72-7.72 1.47 1.35L5.41 20z\"/>\n",
              "  </svg>\n",
              "      </button>\n",
              "      \n",
              "  <style>\n",
              "    .colab-df-container {\n",
              "      display:flex;\n",
              "      flex-wrap:wrap;\n",
              "      gap: 12px;\n",
              "    }\n",
              "\n",
              "    .colab-df-convert {\n",
              "      background-color: #E8F0FE;\n",
              "      border: none;\n",
              "      border-radius: 50%;\n",
              "      cursor: pointer;\n",
              "      display: none;\n",
              "      fill: #1967D2;\n",
              "      height: 32px;\n",
              "      padding: 0 0 0 0;\n",
              "      width: 32px;\n",
              "    }\n",
              "\n",
              "    .colab-df-convert:hover {\n",
              "      background-color: #E2EBFA;\n",
              "      box-shadow: 0px 1px 2px rgba(60, 64, 67, 0.3), 0px 1px 3px 1px rgba(60, 64, 67, 0.15);\n",
              "      fill: #174EA6;\n",
              "    }\n",
              "\n",
              "    [theme=dark] .colab-df-convert {\n",
              "      background-color: #3B4455;\n",
              "      fill: #D2E3FC;\n",
              "    }\n",
              "\n",
              "    [theme=dark] .colab-df-convert:hover {\n",
              "      background-color: #434B5C;\n",
              "      box-shadow: 0px 1px 3px 1px rgba(0, 0, 0, 0.15);\n",
              "      filter: drop-shadow(0px 1px 2px rgba(0, 0, 0, 0.3));\n",
              "      fill: #FFFFFF;\n",
              "    }\n",
              "  </style>\n",
              "\n",
              "      <script>\n",
              "        const buttonEl =\n",
              "          document.querySelector('#df-d21a7cce-48de-4ad5-9007-bdd21fb63f95 button.colab-df-convert');\n",
              "        buttonEl.style.display =\n",
              "          google.colab.kernel.accessAllowed ? 'block' : 'none';\n",
              "\n",
              "        async function convertToInteractive(key) {\n",
              "          const element = document.querySelector('#df-d21a7cce-48de-4ad5-9007-bdd21fb63f95');\n",
              "          const dataTable =\n",
              "            await google.colab.kernel.invokeFunction('convertToInteractive',\n",
              "                                                     [key], {});\n",
              "          if (!dataTable) return;\n",
              "\n",
              "          const docLinkHtml = 'Like what you see? Visit the ' +\n",
              "            '<a target=\"_blank\" href=https://colab.research.google.com/notebooks/data_table.ipynb>data table notebook</a>'\n",
              "            + ' to learn more about interactive tables.';\n",
              "          element.innerHTML = '';\n",
              "          dataTable['output_type'] = 'display_data';\n",
              "          await google.colab.output.renderOutput(dataTable, element);\n",
              "          const docLink = document.createElement('div');\n",
              "          docLink.innerHTML = docLinkHtml;\n",
              "          element.appendChild(docLink);\n",
              "        }\n",
              "      </script>\n",
              "    </div>\n",
              "  </div>\n",
              "  "
            ]
          },
          "metadata": {},
          "execution_count": 31
        }
      ]
    },
    {
      "cell_type": "code",
      "source": [
        "y = data['status_WON']"
      ],
      "metadata": {
        "id": "W2JTKoNOSkyV"
      },
      "execution_count": 32,
      "outputs": []
    },
    {
      "cell_type": "code",
      "source": [
        "X.shape, y.shape"
      ],
      "metadata": {
        "colab": {
          "base_uri": "https://localhost:8080/"
        },
        "id": "RkQGzk-4TeAb",
        "outputId": "468d59bd-219b-44ba-daf5-ea70916d3784"
      },
      "execution_count": 33,
      "outputs": [
        {
          "output_type": "execute_result",
          "data": {
            "text/plain": [
              "((42552, 3253), (42552,))"
            ]
          },
          "metadata": {},
          "execution_count": 33
        }
      ]
    },
    {
      "cell_type": "markdown",
      "source": [
        "### Splitting Data in training and test split"
      ],
      "metadata": {
        "id": "05oVryUhTPXT"
      }
    },
    {
      "cell_type": "code",
      "source": [
        "from sklearn.model_selection import train_test_split"
      ],
      "metadata": {
        "id": "iovRId0VTFAS"
      },
      "execution_count": 34,
      "outputs": []
    },
    {
      "cell_type": "code",
      "source": [
        "X_train, X_test, y_train, y_test = train_test_split(X, y,\n",
        "                                                    test_size = 0.2,\n",
        "                                                    random_state = 42)"
      ],
      "metadata": {
        "id": "HJTDepTjTcVw"
      },
      "execution_count": 35,
      "outputs": []
    },
    {
      "cell_type": "code",
      "source": [
        "len(X_train), len(X_test), len(y_train), len(y_test)"
      ],
      "metadata": {
        "colab": {
          "base_uri": "https://localhost:8080/"
        },
        "id": "3lsUgDzqTsv_",
        "outputId": "0b33d7c5-8d8f-4dd4-915c-e26fe8d4cc46"
      },
      "execution_count": 36,
      "outputs": [
        {
          "output_type": "execute_result",
          "data": {
            "text/plain": [
              "(34041, 8511, 34041, 8511)"
            ]
          },
          "metadata": {},
          "execution_count": 36
        }
      ]
    },
    {
      "cell_type": "markdown",
      "source": [
        "## Modelling Experiments "
      ],
      "metadata": {
        "id": "Xp9cWHDFUJKx"
      }
    },
    {
      "cell_type": "code",
      "source": [
        "from sklearn.model_selection import GridSearchCV\n",
        "from sklearn.linear_model import LogisticRegression\n",
        "from sklearn.svm import SVC \n",
        "from sklearn.tree import DecisionTreeClassifier\n",
        "from sklearn.neighbors import KNeighborsClassifier"
      ],
      "metadata": {
        "id": "H41RGJZ0aaIi"
      },
      "execution_count": 37,
      "outputs": []
    },
    {
      "cell_type": "code",
      "source": [
        "def plot_confusion_matrix(y, y_predict):\n",
        "  from sklearn.metrics import confusion_matrix \n",
        "\n",
        "  cm = confusion_matrix(y, y_predict)\n",
        "  ax = plt.subplot()\n",
        "  sns.heatmap(cm, annot = True, ax = ax)\n",
        "  ax.set_xlabel('Predicted labels')\n",
        "  ax.set_ylabel('True Labels')\n",
        "  ax.set_title('Confusion Matrix')\n",
        "  ax.xaxis.set_ticklabels(['Lost', 'Won'])\n",
        "  ax.yaxis.set_ticklabels(['Lost', 'Won'])\n",
        "  plt.show()"
      ],
      "metadata": {
        "id": "ocIh59VbbFan"
      },
      "execution_count": 39,
      "outputs": []
    },
    {
      "cell_type": "code",
      "source": [
        "def calculate_results(y_true, y_pred):\n",
        "  from sklearn.metrics import accuracy_score, precision_recall_fscore_support\n",
        "\n",
        "  \"\"\"\n",
        "  Calculates model accuracy, precision, recall and f1 score of a binary classification model.\n",
        "  Args:\n",
        "      y_true: true labels in the form of a 1D array\n",
        "      y_pred: predicted labels in the form of a 1D array\n",
        "  Returns a dictionary of accuracy, precision, recall, f1-score.\n",
        "  \"\"\"\n",
        "  # Calculate model accuracy\n",
        "  model_accuracy = accuracy_score(y_true, y_pred) * 100\n",
        "  # Calculate model precision, recall and f1 score using \"weighted average\n",
        "  model_precision, model_recall, model_f1, _ = precision_recall_fscore_support(y_true, y_pred, average=\"weighted\")\n",
        "  model_results = {\"accuracy\": model_accuracy,\n",
        "                  \"precision\": model_precision,\n",
        "                  \"recall\": model_recall,\n",
        "                  \"f1\": model_f1}\n",
        "  return model_results"
      ],
      "metadata": {
        "id": "L_TOlwby3BcF"
      },
      "execution_count": 40,
      "outputs": []
    },
    {
      "cell_type": "markdown",
      "source": [
        "##Model 1 : Logistic Regression \n",
        "Creating a logistic regression object then create a GridSearchCV object `logreg_cv` with cv = 10. Fitting the object to find the best parameters from dictionary. "
      ],
      "metadata": {
        "id": "1Kj62IQNy36M"
      }
    },
    {
      "cell_type": "code",
      "source": [
        "parameters = {\"C\" : [0.01,0.1,1],\n",
        "              'penalty' : ['l2'], #l1 lasso l2 ridge \n",
        "              'solver' : ['lbfgs']}\n",
        "lr = LogisticRegression()\n",
        "gs_cv = GridSearchCV(lr, parameters, scoring = 'accuracy', cv = 10)\n",
        "logreg_cv = gs_cv.fit(X_train, y_train)"
      ],
      "metadata": {
        "id": "nr-A31FnWZg5"
      },
      "execution_count": 79,
      "outputs": []
    },
    {
      "cell_type": "markdown",
      "source": [
        "`GridSearchCV` object for logistic regression. \n",
        "- we can display the best parameters using the data attribute `best_params_` and the accuracy on validation data using the data attribute `best_score_`\n"
      ],
      "metadata": {
        "id": "FbkY9vSUzXOj"
      }
    },
    {
      "cell_type": "code",
      "source": [
        "print(\"tuned hyperparameters (best_parameters):\", logreg_cv.best_params_)\n",
        "print(\"accuracy: \", logreg_cv.best_score_)"
      ],
      "metadata": {
        "colab": {
          "base_uri": "https://localhost:8080/"
        },
        "id": "ewZxF_ZWzYhf",
        "outputId": "c69d6123-3ca0-490a-ea84-f1c19e60f85d"
      },
      "execution_count": 80,
      "outputs": [
        {
          "output_type": "stream",
          "name": "stdout",
          "text": [
            "tuned hyperparameters (best_parameters): {'C': 0.01, 'penalty': 'l2', 'solver': 'lbfgs'}\n",
            "accuracy:  1.0\n"
          ]
        }
      ]
    },
    {
      "cell_type": "markdown",
      "source": [
        "Let's look at the confusion matrix "
      ],
      "metadata": {
        "id": "cjEeBxfb1Kuj"
      }
    },
    {
      "cell_type": "code",
      "source": [
        "from sklearn.metrics import confusion_matrix, classification_report\n",
        "print(confusion_matrix (y_true = y_test,\n",
        "                        y_pred = logreg_cv.predict(X_test) ))\n",
        "print(classification_report(y_true = y_test,\n",
        "                        y_pred = logreg_cv.predict(X_test) ))"
      ],
      "metadata": {
        "colab": {
          "base_uri": "https://localhost:8080/"
        },
        "id": "AetZXexH82xG",
        "outputId": "c13c3aa5-4128-43a5-b0f5-a594c1db62ce"
      },
      "execution_count": 81,
      "outputs": [
        {
          "output_type": "stream",
          "name": "stdout",
          "text": [
            "[[7902    0]\n",
            " [   0  609]]\n",
            "              precision    recall  f1-score   support\n",
            "\n",
            "           0       1.00      1.00      1.00      7902\n",
            "           1       1.00      1.00      1.00       609\n",
            "\n",
            "    accuracy                           1.00      8511\n",
            "   macro avg       1.00      1.00      1.00      8511\n",
            "weighted avg       1.00      1.00      1.00      8511\n",
            "\n"
          ]
        }
      ]
    },
    {
      "cell_type": "code",
      "source": [
        "y_hat = logreg_cv.predict(X_test)\n",
        "plot_confusion_matrix(y_test, y_hat)"
      ],
      "metadata": {
        "colab": {
          "base_uri": "https://localhost:8080/",
          "height": 295
        },
        "id": "4_Y1cU4G1EAs",
        "outputId": "e2b60b06-598e-4a62-cb04-e6ad665b6ab3"
      },
      "execution_count": 82,
      "outputs": [
        {
          "output_type": "display_data",
          "data": {
            "text/plain": [
              "<Figure size 432x288 with 2 Axes>"
            ],
            "image/png": "[encoded data removed]"
          },
          "metadata": {
            "needs_background": "light"
          }
        }
      ]
    },
    {
      "cell_type": "code",
      "source": [
        "y_hat[:100]"
      ],
      "metadata": {
        "colab": {
          "base_uri": "https://localhost:8080/"
        },
        "id": "-2VacHkQMPzR",
        "outputId": "46f30e3d-e9a8-471b-d47d-2da9dc4a3036"
      },
      "execution_count": 83,
      "outputs": [
        {
          "output_type": "execute_result",
          "data": {
            "text/plain": [
              "array([0, 0, 0, 0, 1, 0, 0, 0, 0, 0, 0, 0, 0, 1, 0, 0, 0, 0, 0, 0, 0, 1,\n",
              "       0, 0, 0, 0, 0, 1, 0, 0, 0, 0, 0, 0, 0, 0, 0, 0, 0, 0, 0, 0, 0, 0,\n",
              "       0, 0, 0, 0, 0, 0, 0, 0, 0, 0, 0, 0, 0, 0, 0, 0, 0, 0, 0, 0, 0, 0,\n",
              "       0, 1, 0, 0, 1, 0, 0, 0, 0, 0, 0, 0, 0, 0, 0, 0, 0, 0, 0, 1, 0, 0,\n",
              "       0, 0, 0, 0, 0, 0, 0, 0, 0, 0, 0, 0], dtype=uint8)"
            ]
          },
          "metadata": {},
          "execution_count": 83
        }
      ]
    },
    {
      "cell_type": "code",
      "source": [
        "logistic_regression_model_result = calculate_results(y_true = y_test,\n",
        "                                                     y_pred = y_hat)\n",
        "logistic_regression_model_result"
      ],
      "metadata": {
        "colab": {
          "base_uri": "https://localhost:8080/"
        },
        "id": "v3FgtH4j1zHU",
        "outputId": "769c45b4-2e29-401c-dd19-e55c0a3fb238"
      },
      "execution_count": 46,
      "outputs": [
        {
          "output_type": "execute_result",
          "data": {
            "text/plain": [
              "{'accuracy': 100.0, 'precision': 1.0, 'recall': 1.0, 'f1': 1.0}"
            ]
          },
          "metadata": {},
          "execution_count": 46
        }
      ]
    },
    {
      "cell_type": "markdown",
      "source": [
        "## Model 2 : DecisionTreeClassifier"
      ],
      "metadata": {
        "id": "Lx-6jyO37qe0"
      }
    },
    {
      "cell_type": "code",
      "source": [
        "tree = DecisionTreeClassifier()\n",
        "tree_cv = tree.fit(X_train, y_train)"
      ],
      "metadata": {
        "id": "z4DEZe1j71Fd"
      },
      "execution_count": 50,
      "outputs": []
    },
    {
      "cell_type": "code",
      "source": [
        "tree_cv.score(X_test, y_test)"
      ],
      "metadata": {
        "colab": {
          "base_uri": "https://localhost:8080/"
        },
        "id": "4GGy1SMpKVus",
        "outputId": "9461fd21-1fdc-4ed8-e37d-29894b4a9998"
      },
      "execution_count": 47,
      "outputs": [
        {
          "output_type": "execute_result",
          "data": {
            "text/plain": [
              "1.0"
            ]
          },
          "metadata": {},
          "execution_count": 47
        }
      ]
    },
    {
      "cell_type": "code",
      "source": [
        "yhat_tree = tree_cv.predict(X_test)\n",
        "plot_confusion_matrix(y_test, yhat_tree)"
      ],
      "metadata": {
        "colab": {
          "base_uri": "https://localhost:8080/",
          "height": 295
        },
        "id": "0F1o4cGCKde_",
        "outputId": "01923a6b-b41f-46aa-d5f1-8efefafb457d"
      },
      "execution_count": 54,
      "outputs": [
        {
          "output_type": "display_data",
          "data": {
            "text/plain": [
              "<Figure size 432x288 with 2 Axes>"
            ],
            "image/png": "[encoded data removed]"
          },
          "metadata": {
            "needs_background": "light"
          }
        }
      ]
    },
    {
      "cell_type": "code",
      "source": [
        "yhat_tree[:100]"
      ],
      "metadata": {
        "colab": {
          "base_uri": "https://localhost:8080/"
        },
        "id": "xhwIYYDnLiH2",
        "outputId": "76f89dfe-6aa2-48ec-f450-1f4cebd47e3a"
      },
      "execution_count": 60,
      "outputs": [
        {
          "output_type": "execute_result",
          "data": {
            "text/plain": [
              "array([0, 0, 0, 0, 1, 0, 0, 0, 0, 0, 0, 0, 0, 1, 0, 0, 0, 0, 0, 0, 0, 1,\n",
              "       0, 0, 0, 0, 0, 1, 0, 0, 0, 0, 0, 0, 0, 0, 0, 0, 0, 0, 0, 0, 0, 0,\n",
              "       0, 0, 0, 0, 0, 0, 0, 0, 0, 0, 0, 0, 0, 0, 0, 0, 0, 0, 0, 0, 0, 0,\n",
              "       0, 1, 0, 0, 1, 0, 0, 0, 0, 0, 0, 0, 0, 0, 0, 0, 0, 0, 0, 1, 0, 0,\n",
              "       0, 0, 0, 0, 0, 0, 0, 0, 0, 0, 0, 0], dtype=uint8)"
            ]
          },
          "metadata": {},
          "execution_count": 60
        }
      ]
    },
    {
      "cell_type": "code",
      "source": [
        "decision_tree_model_result = calculate_results(y_true = y_test,\n",
        "                                                     y_pred = yhat_tree)\n",
        "decision_tree_model_result"
      ],
      "metadata": {
        "colab": {
          "base_uri": "https://localhost:8080/"
        },
        "id": "Z7HVdkp1LK2y",
        "outputId": "2d0ae9cf-97c0-4d9f-a221-0a8775620654"
      },
      "execution_count": 71,
      "outputs": [
        {
          "output_type": "execute_result",
          "data": {
            "text/plain": [
              "{'accuracy': 100.0, 'precision': 1.0, 'recall': 1.0, 'f1': 1.0}"
            ]
          },
          "metadata": {},
          "execution_count": 71
        }
      ]
    },
    {
      "cell_type": "markdown",
      "source": [
        "##Model 3: Support Vector Machine "
      ],
      "metadata": {
        "id": "cM_O3a74MIEg"
      }
    },
    {
      "cell_type": "code",
      "source": [
        "svm = SVC()\n",
        "svm_cv = svm.fit(X_train, y_train)"
      ],
      "metadata": {
        "id": "wQxNJzsnNDMu"
      },
      "execution_count": 72,
      "outputs": []
    },
    {
      "cell_type": "code",
      "source": [
        "yhat_svm = svm_cv.predict(X_test)\n",
        "plot_confusion_matrix(y_test, yhat_svm)"
      ],
      "metadata": {
        "colab": {
          "base_uri": "https://localhost:8080/",
          "height": 295
        },
        "id": "K_aiJmNRNIri",
        "outputId": "bcd936f3-7a17-4d3e-92d1-21438235b29b"
      },
      "execution_count": 73,
      "outputs": [
        {
          "output_type": "display_data",
          "data": {
            "text/plain": [
              "<Figure size 432x288 with 2 Axes>"
            ],
            "image/png": "[encoded data removed]"
          },
          "metadata": {
            "needs_background": "light"
          }
        }
      ]
    },
    {
      "cell_type": "code",
      "source": [
        "svm_model_result = calculate_results(y_true = y_test,\n",
        "                                     y_pred = yhat_svm)\n",
        "svm_model_result"
      ],
      "metadata": {
        "colab": {
          "base_uri": "https://localhost:8080/"
        },
        "id": "hKzr4B4BOJnq",
        "outputId": "0a525695-23a7-464d-8199-bdb34161b7ff"
      },
      "execution_count": 74,
      "outputs": [
        {
          "output_type": "execute_result",
          "data": {
            "text/plain": [
              "{'accuracy': 100.0, 'precision': 1.0, 'recall': 1.0, 'f1': 1.0}"
            ]
          },
          "metadata": {},
          "execution_count": 74
        }
      ]
    },
    {
      "cell_type": "markdown",
      "source": [
        "###All the 3 model results giving the perfect score. \n",
        "\n",
        "Now calculating the lead score as an output of input features. "
      ],
      "metadata": {
        "id": "7Od1YhDzOnVZ"
      }
    },
    {
      "cell_type": "code",
      "source": [
        "probability = logreg_cv.predict_proba(X_test)"
      ],
      "metadata": {
        "id": "Z5m4WrHQO-nO"
      },
      "execution_count": 84,
      "outputs": []
    },
    {
      "cell_type": "code",
      "source": [
        "probability.shape"
      ],
      "metadata": {
        "colab": {
          "base_uri": "https://localhost:8080/"
        },
        "id": "GojKXROtP005",
        "outputId": "03e26b51-be23-4d1b-a94a-50aa34ff0954"
      },
      "execution_count": 86,
      "outputs": [
        {
          "output_type": "execute_result",
          "data": {
            "text/plain": [
              "(8511, 2)"
            ]
          },
          "metadata": {},
          "execution_count": 86
        }
      ]
    },
    {
      "cell_type": "code",
      "source": [
        "chance = np.round_(probability[:,1]*100, decimals = 2)\n",
        "chance"
      ],
      "metadata": {
        "colab": {
          "base_uri": "https://localhost:8080/"
        },
        "id": "yFc0H7DyP6PA",
        "outputId": "b19df6d2-5069-42ee-92ba-e2dcafaf9354"
      },
      "execution_count": 123,
      "outputs": [
        {
          "output_type": "execute_result",
          "data": {
            "text/plain": [
              "array([2.9 , 0.85, 2.02, ..., 1.72, 1.16, 0.94])"
            ]
          },
          "metadata": {},
          "execution_count": 123
        }
      ]
    },
    {
      "cell_type": "markdown",
      "source": [
        "Sorting the top 20 lead score. "
      ],
      "metadata": {
        "id": "HFZikUZPXFYH"
      }
    },
    {
      "cell_type": "code",
      "source": [
        "pd.DataFrame(chance).sort_values(by=0, ascending=False)[:20]"
      ],
      "metadata": {
        "colab": {
          "base_uri": "https://localhost:8080/",
          "height": 676
        },
        "id": "fE5sE0HpR3y4",
        "outputId": "796486cb-8b8f-4441-a338-091622e0b142"
      },
      "execution_count": 132,
      "outputs": [
        {
          "output_type": "execute_result",
          "data": {
            "text/plain": [
              "          0\n",
              "8117  90.25\n",
              "4942  89.95\n",
              "6455  89.76\n",
              "7818  89.76\n",
              "4852  89.74\n",
              "875   89.30\n",
              "5072  89.29\n",
              "5335  89.22\n",
              "85    89.04\n",
              "983   89.04\n",
              "7721  88.97\n",
              "6145  88.95\n",
              "6047  88.93\n",
              "6114  88.88\n",
              "5169  88.78\n",
              "5929  88.67\n",
              "5380  88.62\n",
              "1831  88.58\n",
              "3004  88.56\n",
              "1439  88.55"
            ],
            "text/html": [
              "\n",
              "  <div id=\"df-a0cdf5d4-99bc-4def-b91c-dea6c785d600\">\n",
              "    <div class=\"colab-df-container\">\n",
              "      <div>\n",
              "<style scoped>\n",
              "    .dataframe tbody tr th:only-of-type {\n",
              "        vertical-align: middle;\n",
              "    }\n",
              "\n",
              "    .dataframe tbody tr th {\n",
              "        vertical-align: top;\n",
              "    }\n",
              "\n",
              "    .dataframe thead th {\n",
              "        text-align: right;\n",
              "    }\n",
              "</style>\n",
              "<table border=\"1\" class=\"dataframe\">\n",
              "  <thead>\n",
              "    <tr style=\"text-align: right;\">\n",
              "      <th></th>\n",
              "      <th>0</th>\n",
              "    </tr>\n",
              "  </thead>\n",
              "  <tbody>\n",
              "    <tr>\n",
              "      <th>8117</th>\n",
              "      <td>90.25</td>\n",
              "    </tr>\n",
              "    <tr>\n",
              "      <th>4942</th>\n",
              "      <td>89.95</td>\n",
              "    </tr>\n",
              "    <tr>\n",
              "      <th>6455</th>\n",
              "      <td>89.76</td>\n",
              "    </tr>\n",
              "    <tr>\n",
              "      <th>7818</th>\n",
              "      <td>89.76</td>\n",
              "    </tr>\n",
              "    <tr>\n",
              "      <th>4852</th>\n",
              "      <td>89.74</td>\n",
              "    </tr>\n",
              "    <tr>\n",
              "      <th>875</th>\n",
              "      <td>89.30</td>\n",
              "    </tr>\n",
              "    <tr>\n",
              "      <th>5072</th>\n",
              "      <td>89.29</td>\n",
              "    </tr>\n",
              "    <tr>\n",
              "      <th>5335</th>\n",
              "      <td>89.22</td>\n",
              "    </tr>\n",
              "    <tr>\n",
              "      <th>85</th>\n",
              "      <td>89.04</td>\n",
              "    </tr>\n",
              "    <tr>\n",
              "      <th>983</th>\n",
              "      <td>89.04</td>\n",
              "    </tr>\n",
              "    <tr>\n",
              "      <th>7721</th>\n",
              "      <td>88.97</td>\n",
              "    </tr>\n",
              "    <tr>\n",
              "      <th>6145</th>\n",
              "      <td>88.95</td>\n",
              "    </tr>\n",
              "    <tr>\n",
              "      <th>6047</th>\n",
              "      <td>88.93</td>\n",
              "    </tr>\n",
              "    <tr>\n",
              "      <th>6114</th>\n",
              "      <td>88.88</td>\n",
              "    </tr>\n",
              "    <tr>\n",
              "      <th>5169</th>\n",
              "      <td>88.78</td>\n",
              "    </tr>\n",
              "    <tr>\n",
              "      <th>5929</th>\n",
              "      <td>88.67</td>\n",
              "    </tr>\n",
              "    <tr>\n",
              "      <th>5380</th>\n",
              "      <td>88.62</td>\n",
              "    </tr>\n",
              "    <tr>\n",
              "      <th>1831</th>\n",
              "      <td>88.58</td>\n",
              "    </tr>\n",
              "    <tr>\n",
              "      <th>3004</th>\n",
              "      <td>88.56</td>\n",
              "    </tr>\n",
              "    <tr>\n",
              "      <th>1439</th>\n",
              "      <td>88.55</td>\n",
              "    </tr>\n",
              "  </tbody>\n",
              "</table>\n",
              "</div>\n",
              "      <button class=\"colab-df-convert\" onclick=\"convertToInteractive('df-a0cdf5d4-99bc-4def-b91c-dea6c785d600')\"\n",
              "              title=\"Convert this dataframe to an interactive table.\"\n",
              "              style=\"display:none;\">\n",
              "        \n",
              "  <svg xmlns=\"http://www.w3.org/2000/svg\" height=\"24px\"viewBox=\"0 0 24 24\"\n",
              "       width=\"24px\">\n",
              "    <path d=\"M0 0h24v24H0V0z\" fill=\"none\"/>\n",
              "    <path d=\"M18.56 5.44l.94 2.06.94-2.06 2.06-.94-2.06-.94-.94-2.06-.94 2.06-2.06.94zm-11 1L8.5 8.5l.94-2.06 2.06-.94-2.06-.94L8.5 2.5l-.94 2.06-2.06.94zm10 10l.94 2.06.94-2.06 2.06-.94-2.06-.94-.94-2.06-.94 2.06-2.06.94z\"/><path d=\"M17.41 7.96l-1.37-1.37c-.4-.4-.92-.59-1.43-.59-.52 0-1.04.2-1.43.59L10.3 9.45l-7.72 7.72c-.78.78-.78 2.05 0 2.83L4 21.41c.39.39.9.59 1.41.59.51 0 1.02-.2 1.41-.59l7.78-7.78 2.81-2.81c.8-.78.8-2.07 0-2.86zM5.41 20L4 18.59l7.72-7.72 1.47 1.35L5.41 20z\"/>\n",
              "  </svg>\n",
              "      </button>\n",
              "      \n",
              "  <style>\n",
              "    .colab-df-container {\n",
              "      display:flex;\n",
              "      flex-wrap:wrap;\n",
              "      gap: 12px;\n",
              "    }\n",
              "\n",
              "    .colab-df-convert {\n",
              "      background-color: #E8F0FE;\n",
              "      border: none;\n",
              "      border-radius: 50%;\n",
              "      cursor: pointer;\n",
              "      display: none;\n",
              "      fill: #1967D2;\n",
              "      height: 32px;\n",
              "      padding: 0 0 0 0;\n",
              "      width: 32px;\n",
              "    }\n",
              "\n",
              "    .colab-df-convert:hover {\n",
              "      background-color: #E2EBFA;\n",
              "      box-shadow: 0px 1px 2px rgba(60, 64, 67, 0.3), 0px 1px 3px 1px rgba(60, 64, 67, 0.15);\n",
              "      fill: #174EA6;\n",
              "    }\n",
              "\n",
              "    [theme=dark] .colab-df-convert {\n",
              "      background-color: #3B4455;\n",
              "      fill: #D2E3FC;\n",
              "    }\n",
              "\n",
              "    [theme=dark] .colab-df-convert:hover {\n",
              "      background-color: #434B5C;\n",
              "      box-shadow: 0px 1px 3px 1px rgba(0, 0, 0, 0.15);\n",
              "      filter: drop-shadow(0px 1px 2px rgba(0, 0, 0, 0.3));\n",
              "      fill: #FFFFFF;\n",
              "    }\n",
              "  </style>\n",
              "\n",
              "      <script>\n",
              "        const buttonEl =\n",
              "          document.querySelector('#df-a0cdf5d4-99bc-4def-b91c-dea6c785d600 button.colab-df-convert');\n",
              "        buttonEl.style.display =\n",
              "          google.colab.kernel.accessAllowed ? 'block' : 'none';\n",
              "\n",
              "        async function convertToInteractive(key) {\n",
              "          const element = document.querySelector('#df-a0cdf5d4-99bc-4def-b91c-dea6c785d600');\n",
              "          const dataTable =\n",
              "            await google.colab.kernel.invokeFunction('convertToInteractive',\n",
              "                                                     [key], {});\n",
              "          if (!dataTable) return;\n",
              "\n",
              "          const docLinkHtml = 'Like what you see? Visit the ' +\n",
              "            '<a target=\"_blank\" href=https://colab.research.google.com/notebooks/data_table.ipynb>data table notebook</a>'\n",
              "            + ' to learn more about interactive tables.';\n",
              "          element.innerHTML = '';\n",
              "          dataTable['output_type'] = 'display_data';\n",
              "          await google.colab.output.renderOutput(dataTable, element);\n",
              "          const docLink = document.createElement('div');\n",
              "          docLink.innerHTML = docLinkHtml;\n",
              "          element.appendChild(docLink);\n",
              "        }\n",
              "      </script>\n",
              "    </div>\n",
              "  </div>\n",
              "  "
            ]
          },
          "metadata": {},
          "execution_count": 132
        }
      ]
    },
    {
      "cell_type": "markdown",
      "source": [
        "Defining a function to take on random sample and calcualte its **lead score.**"
      ],
      "metadata": {
        "id": "64eLtQpsWdS8"
      }
    },
    {
      "cell_type": "code",
      "source": [
        "import random"
      ],
      "metadata": {
        "id": "w1FQDUmpSU5M"
      },
      "execution_count": 97,
      "outputs": []
    },
    {
      "cell_type": "code",
      "source": [
        "def lead_score_of_random_feature(model, data):\n",
        "  probability = model.predict_proba(random.sample(data.values.tolist(), 1))\n",
        "  chance = np.round_(probability[:,1]*100, decimals = 2)\n",
        "  return print(f\"Lead score of this sample is {chance.item()}\")"
      ],
      "metadata": {
        "id": "B-4-uOKMTHRw"
      },
      "execution_count": 120,
      "outputs": []
    },
    {
      "cell_type": "code",
      "source": [
        "lead_score_of_random_feature(model = logreg_cv, data = X_test)"
      ],
      "metadata": {
        "colab": {
          "base_uri": "https://localhost:8080/"
        },
        "id": "TREOvQqGVYDa",
        "outputId": "d6b62386-ef0b-495d-d3db-fd672346f702"
      },
      "execution_count": 137,
      "outputs": [
        {
          "output_type": "stream",
          "name": "stdout",
          "text": [
            "Lead score of this sample is 1.37\n"
          ]
        },
        {
          "output_type": "stream",
          "name": "stderr",
          "text": [
            "/usr/local/lib/python3.9/dist-packages/sklearn/base.py:439: UserWarning: X does not have valid feature names, but LogisticRegression was fitted with feature names\n",
            "  warnings.warn(\n"
          ]
        }
      ]
    },
    {
      "cell_type": "code",
      "source": [
        "def lead_score_of_10_random_feature(model, data):\n",
        "  lead_score = []\n",
        "  for i in range(10):\n",
        "    probability = model.predict_proba(random.sample(data.values.tolist(), 1))\n",
        "    chance = np.round_(probability[:,1]*100, decimals = 2)\n",
        "    lead_score.append(chance.item())\n",
        "\n",
        "\n",
        "  return print(f\"Lead score of 10 random samples is {lead_score}\")"
      ],
      "metadata": {
        "id": "elmmXCsjXn_4"
      },
      "execution_count": 145,
      "outputs": []
    },
    {
      "cell_type": "code",
      "source": [
        "lead_score_of_10_random_feature(model = logreg_cv, data = X_test)"
      ],
      "metadata": {
        "colab": {
          "base_uri": "https://localhost:8080/"
        },
        "id": "ATV87UeNYDMj",
        "outputId": "1ba083e5-5f24-44cd-e383-29cfb4bc3b98"
      },
      "execution_count": 146,
      "outputs": [
        {
          "output_type": "stream",
          "name": "stdout",
          "text": [
            "Lead score of 10 random samples is [79.24, 1.35, 1.51, 0.75, 1.02, 2.22, 1.42, 0.95, 1.41, 1.33]\n"
          ]
        }
      ]
    }
  ]
}